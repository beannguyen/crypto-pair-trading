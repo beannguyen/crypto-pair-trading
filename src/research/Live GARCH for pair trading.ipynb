{
 "cells": [
  {
   "cell_type": "code",
   "execution_count": 32,
   "metadata": {},
   "outputs": [],
   "source": [
    "import sys\n",
    "\n",
    "sys.path.append(\"../\")"
   ]
  },
  {
   "cell_type": "code",
   "execution_count": 33,
   "metadata": {},
   "outputs": [
    {
     "data": {
      "text/plain": [
       "<matplotlib.pyplot._IoffContext at 0x7feba9111910>"
      ]
     },
     "execution_count": 33,
     "metadata": {},
     "output_type": "execute_result"
    }
   ],
   "source": [
    "import requests\n",
    "import time\n",
    "import pandas as pd\n",
    "import numpy as np\n",
    "from datetime import datetime, timedelta\n",
    "from arch import arch_model\n",
    "from sklearn.model_selection import ParameterGrid\n",
    "from multiprocessing import Pool\n",
    "from datetime import datetime, timedelta\n",
    "\n",
    "from statsmodels.graphics.tsaplots import plot_acf, plot_pacf\n",
    "from arch import arch_model\n",
    "from statsmodels.tsa.stattools import adfuller as adf\n",
    "\n",
    "import matplotlib.pyplot as plt\n",
    "\n",
    "%matplotlib inline\n",
    "plt.rcParams[\"figure.figsize\"] = (10, 6) # (w, h)\n",
    "plt.ioff()"
   ]
  },
  {
   "cell_type": "code",
   "execution_count": 34,
   "metadata": {},
   "outputs": [],
   "source": [
    "import warnings\n",
    "warnings.filterwarnings('ignore')"
   ]
  },
  {
   "cell_type": "code",
   "execution_count": 35,
   "metadata": {},
   "outputs": [],
   "source": [
    "API_BASE = 'https://fapi.binance.com/fapi/v1/'\n",
    "DATA_PATH = '/mnt/c/Users/vmodg/source/repos/BeanRepos/crypto-pair-trading/data/'\n",
    "# DATA_PATH = '/mnt/d/Working/PersonalProjects/Trading/trading-agent/crypto-pair-trading/data/crypto/'\n",
    "# TIMEFRAME = '1d'\n",
    "# lookback = 1000\n",
    "\n",
    "TIMEFRAME = '1h'\n",
    "lookback = 30*4\n",
    "\n",
    "# TIMEFRAME = '15m'\n",
    "# lookback = 30*2\n"
   ]
  },
  {
   "cell_type": "code",
   "execution_count": 36,
   "metadata": {},
   "outputs": [],
   "source": [
    "API_BASE = 'https://fapi.binance.com/fapi/v1/'\n",
    "TIMEFRAME = '1h'\n",
    "\n",
    "LABELS = [\n",
    "    'open_time',\n",
    "    'open',\n",
    "    'high',\n",
    "    'low',\n",
    "    'close',\n",
    "    'volume',\n",
    "    'close_time',\n",
    "    'quote_asset_volume',\n",
    "    'number_of_trades',\n",
    "    'taker_buy_base_asset_volume',\n",
    "    'taker_buy_quote_asset_volume',\n",
    "    'ignore'\n",
    "]\n",
    "\n",
    "DROP_COLUMNS=[\n",
    "    'close_time',\n",
    "    'quote_asset_volume',\n",
    "    'number_of_trades',\n",
    "    'taker_buy_base_asset_volume',\n",
    "    'taker_buy_quote_asset_volume',\n",
    "    'ignore'\n",
    "]\n",
    "\n",
    "\n",
    "def get_batch(symbol, interval='1m', start_time=0, limit=1000):\n",
    "    \"\"\"Use a GET request to retrieve a batch of candlesticks. Process the JSON into a pandas\n",
    "    dataframe and return it. If not successful, return an empty dataframe.\n",
    "    \"\"\"\n",
    "\n",
    "    params = {\n",
    "        'symbol': symbol,\n",
    "        'interval': interval,\n",
    "        'startTime': start_time,\n",
    "        'limit': limit\n",
    "    }\n",
    "    try:\n",
    "        # timeout should also be given as a parameter to the function\n",
    "        response = requests.get(f'{API_BASE}klines', params, timeout=30)\n",
    "    except requests.exceptions.ConnectionError:\n",
    "        print('Connection error, Cooling down for 5 mins...')\n",
    "        time.sleep(5 * 60)\n",
    "        return get_batch(symbol, interval, start_time, limit)\n",
    "\n",
    "    except requests.exceptions.Timeout:\n",
    "        print('Timeout, Cooling down for 5 min...')\n",
    "        time.sleep(5 * 60)\n",
    "        return get_batch(symbol, interval, start_time, limit)\n",
    "\n",
    "    if response.status_code == 200:\n",
    "        return pd.DataFrame(response.json(), columns=LABELS)\n",
    "    \n",
    "    print(f'Got erroneous response back {symbol}: {response}. {response.text}')\n",
    "    return pd.DataFrame([])\n",
    "\n",
    "\n",
    "def get_candles(base, quote, start_date: datetime, interval='1m'):\n",
    "    batches = []\n",
    "\n",
    "    last_timestamp = int(start_date.timestamp()) * 1000\n",
    "    # gather all candlesticks available, starting from the last timestamp loaded from disk or 0\n",
    "    # stop if the timestamp that comes back from the api is the same as the last one\n",
    "    previous_timestamp = None\n",
    "\n",
    "    while previous_timestamp != last_timestamp:\n",
    "        # stop if we reached data from today\n",
    "        if datetime.fromtimestamp(last_timestamp / 1000) >= datetime.utcnow():\n",
    "            break\n",
    "\n",
    "        previous_timestamp = last_timestamp\n",
    "\n",
    "        new_batch = get_batch(\n",
    "            symbol=base + quote,\n",
    "            interval=interval,\n",
    "            start_time=last_timestamp\n",
    "        )\n",
    "\n",
    "        # requesting candles from the future returns empty\n",
    "        # also stop in case response code was not 200\n",
    "        if new_batch.empty:\n",
    "            break\n",
    "\n",
    "        last_timestamp = new_batch['open_time'].max()\n",
    "\n",
    "        # sometimes no new trades took place yet on date.today();\n",
    "        # in this case the batch is nothing new\n",
    "        if previous_timestamp == last_timestamp:\n",
    "            break\n",
    "\n",
    "        batches.append(new_batch)\n",
    "        last_datetime = datetime.fromtimestamp(last_timestamp / 1000)\n",
    "\n",
    "        covering_spaces = 20 * ' '\n",
    "        print(datetime.now(), base, quote, interval, str(last_datetime) + covering_spaces, end='\\r', flush=True)\n",
    "\n",
    "    if len(batches) > 0:\n",
    "        # write clean version of csv to parquet\n",
    "        df = pd.concat(batches, ignore_index=True)\n",
    "        df.drop(columns=DROP_COLUMNS, inplace=True)\n",
    "        df['open_time'] = pd.to_datetime(df['open_time'], unit='ms')\n",
    "        df.set_index(keys=['open_time'], inplace=True)\n",
    "        return df\n",
    "\n"
   ]
  },
  {
   "cell_type": "code",
   "execution_count": 37,
   "metadata": {},
   "outputs": [],
   "source": [
    "def calculate_spread(df, symbols, hedge_ratio, nb_symbols = 2):\n",
    "    spread = None\n",
    "    for i in range(nb_symbols):\n",
    "        if spread is None:\n",
    "            spread = df[symbols[i]] * hedge_ratio[i]\n",
    "        else:\n",
    "            spread += df[symbols[i]] * hedge_ratio[i]\n",
    "    \n",
    "    spread.dropna(inplace=True)\n",
    "    return spread"
   ]
  },
  {
   "cell_type": "code",
   "execution_count": 38,
   "metadata": {},
   "outputs": [],
   "source": [
    "def get_data(symbols, timeframe):\n",
    "    data = []\n",
    "\n",
    "    for symbol in symbols:\n",
    "\n",
    "        # print(p)\n",
    "        df = get_candles(\n",
    "            base=symbol,\n",
    "            quote=\"USDT\",\n",
    "            start_date=datetime.utcnow() - timedelta(days=lookback),\n",
    "            interval=timeframe,\n",
    "        )\n",
    "        if df is None:\n",
    "            continue\n",
    "\n",
    "        df.rename(columns={\"close\": symbol}, inplace=True)\n",
    "        # the data is too long, just limit to recent period\n",
    "        log = np.log(df[symbol].astype(np.float32))\n",
    "        data.append(log)\n",
    "\n",
    "    df = pd.concat(data, axis=1)\n",
    "    df = df.dropna(axis=1, how=\"all\")\n",
    "    return df\n"
   ]
  },
  {
   "cell_type": "code",
   "execution_count": 39,
   "metadata": {},
   "outputs": [
    {
     "name": "stdout",
     "output_type": "stream",
     "text": [
      "2023-06-30 09:32:48.790976 NEO USDT 1h 2023-06-30 09:00:00                    \r"
     ]
    }
   ],
   "source": [
    "symbols = [\"ETC\", \"NEO\"]\n",
    "half_life = 66\n",
    "timeframe = \"1h\"\n",
    "hedge_ratio = [27.13571597, -15.50605355]\n",
    "\n",
    "df = get_data(symbols, timeframe)\n",
    "spread = calculate_spread(df, symbols, hedge_ratio)\n"
   ]
  },
  {
   "cell_type": "code",
   "execution_count": 40,
   "metadata": {},
   "outputs": [
    {
     "data": {
      "text/plain": [
       "open_time\n",
       "2023-06-29 22:00:00   -0.082103\n",
       "2023-06-29 23:00:00    0.428211\n",
       "2023-06-30 00:00:00    1.284127\n",
       "2023-06-30 01:00:00    0.616375\n",
       "2023-06-30 02:00:00    0.204640\n",
       "Name: ETC, dtype: float32"
      ]
     },
     "execution_count": 40,
     "metadata": {},
     "output_type": "execute_result"
    }
   ],
   "source": [
    "log_returns = np.log(spread / spread.shift()) * 100\n",
    "log_returns.dropna(inplace=True)\n",
    "log_returns.tail()"
   ]
  },
  {
   "cell_type": "code",
   "execution_count": 41,
   "metadata": {},
   "outputs": [
    {
     "name": "stdout",
     "output_type": "stream",
     "text": [
      "Params 2 14\n",
      "                     Constant Mean - GARCH Model Results                      \n",
      "==============================================================================\n",
      "Dep. Variable:                    ETC   R-squared:                       0.000\n",
      "Mean Model:             Constant Mean   Adj. R-squared:                  0.000\n",
      "Vol Model:                      GARCH   Log-Likelihood:               -594.453\n",
      "Distribution:                  Normal   AIC:                           1224.91\n",
      "Method:            Maximum Likelihood   BIC:                           1332.34\n",
      "                                        No. Observations:                 2888\n",
      "Date:                Fri, Jun 30 2023   Df Residuals:                     2887\n",
      "Time:                        09:32:50   Df Model:                            1\n",
      "                                  Mean Model                                 \n",
      "=============================================================================\n",
      "                 coef    std err          t      P>|t|       95.0% Conf. Int.\n",
      "-----------------------------------------------------------------------------\n",
      "mu         9.5266e-03  5.397e-03      1.765  7.751e-02 [-1.050e-03,2.010e-02]\n",
      "                               Volatility Model                              \n",
      "=============================================================================\n",
      "                 coef    std err          t      P>|t|       95.0% Conf. Int.\n",
      "-----------------------------------------------------------------------------\n",
      "omega          0.0165  8.507e-03      1.938  5.264e-02 [-1.878e-04,3.316e-02]\n",
      "alpha[1]       0.3573      0.104      3.434  5.950e-04      [  0.153,  0.561]\n",
      "alpha[2]       0.3100      0.212      1.459      0.145      [ -0.106,  0.726]\n",
      "beta[1]        0.0420      0.518  8.109e-02      0.935      [ -0.974,  1.058]\n",
      "beta[2]        0.0000      0.444      0.000      1.000      [ -0.871,  0.871]\n",
      "beta[3]        0.0000      0.352      0.000      1.000      [ -0.690,  0.690]\n",
      "beta[4]        0.1287      0.154      0.835      0.404      [ -0.174,  0.431]\n",
      "beta[5]        0.0000      0.386      0.000      1.000      [ -0.756,  0.756]\n",
      "beta[6]        0.0000      0.123      0.000      1.000      [ -0.241,  0.241]\n",
      "beta[7]    5.2206e-03      0.143  3.644e-02      0.971      [ -0.276,  0.286]\n",
      "beta[8]        0.0163      0.124      0.132      0.895      [ -0.226,  0.259]\n",
      "beta[9]        0.0188      0.183      0.103      0.918      [ -0.340,  0.378]\n",
      "beta[10]       0.0000      0.216      0.000      1.000      [ -0.423,  0.423]\n",
      "beta[11]       0.0000      0.113      0.000      1.000      [ -0.222,  0.222]\n",
      "beta[12]       0.0000  8.699e-02      0.000      1.000      [ -0.170,  0.170]\n",
      "beta[13]       0.0659  9.509e-02      0.693      0.489      [ -0.121,  0.252]\n",
      "beta[14]       0.0558      0.145      0.384      0.701      [ -0.229,  0.341]\n",
      "=============================================================================\n",
      "\n",
      "Covariance estimator: robust\n"
     ]
    }
   ],
   "source": [
    "\n",
    "def fit_garch_model(params, returns):\n",
    "    p = params['p']\n",
    "    q = params['q']\n",
    "    \n",
    "    # Create the GARCH(p, q) model\n",
    "    model = arch_model(returns, vol='Garch', p=p, q=q)\n",
    "\n",
    "    # Fit the model\n",
    "    result = model.fit(disp='off')\n",
    "\n",
    "    # Get the AIC score\n",
    "    aic = result.aic\n",
    "\n",
    "    return (params, result, aic, p, q)\n",
    "\n",
    "def find_best_garch_model(returns):\n",
    "    # Define the range of parameters to search over\n",
    "    p_values = list(range(1, 20))  # GARCH(p, q) p-values\n",
    "    q_values = list(range(1, 20))  # GARCH(p, q) q-values\n",
    "\n",
    "    # Create a parameter grid for the GARCH(p, q) model\n",
    "    param_grid = ParameterGrid({'p': p_values, 'q': q_values})\n",
    "\n",
    "    # Initialize variables to track the best model and its corresponding AIC\n",
    "    best_model = None\n",
    "    best_aic = float(\"inf\")\n",
    "    best_p = None\n",
    "    best_q = None\n",
    "\n",
    "    # Create a pool of workers for multiprocessing\n",
    "    pool = Pool()\n",
    "\n",
    "    # Fit GARCH models using multiprocessing\n",
    "    results = pool.starmap(fit_garch_model, [(params, returns) for params in param_grid])\n",
    "\n",
    "    # Close the pool of workers\n",
    "    pool.close()\n",
    "    pool.join()\n",
    "\n",
    "    # Iterate over the results and find the best model\n",
    "    for params, result, aic, p, q in results:\n",
    "        if aic < best_aic:\n",
    "            best_aic = aic\n",
    "            best_model = result\n",
    "            best_p = p\n",
    "            best_q = q\n",
    "\n",
    "    # Print the best model's summary and return the model object\n",
    "    print('Params', best_p, best_q)\n",
    "    print(best_model.summary())\n",
    "    return best_model\n",
    "\n",
    "# Call the function with your returns series data\n",
    "best_garch_model = find_best_garch_model(log_returns)\n",
    "# best_garch_model"
   ]
  },
  {
   "cell_type": "code",
   "execution_count": 42,
   "metadata": {},
   "outputs": [
    {
     "data": {
      "image/png": "[encoded data removed]",
      "text/plain": [
       "<Figure size 720x288 with 1 Axes>"
      ]
     },
     "metadata": {
      "needs_background": "light"
     },
     "output_type": "display_data"
    }
   ],
   "source": [
    "# Obtain model estimated residuals and volatility\n",
    "gm_resid = best_garch_model.resid\n",
    "gm_std = best_garch_model.conditional_volatility\n",
    "\n",
    "# Calculate the standardized residuals\n",
    "gm_std_resid = gm_resid /gm_std\n",
    "\n",
    "# Plot the residuals over time\n",
    "plt.figure(figsize=(10, 4))\n",
    "plt.plot(gm_resid)\n",
    "plt.xlabel('Time')\n",
    "plt.ylabel('Residuals')\n",
    "plt.title('Residuals of GARCH Model')\n",
    "plt.show()"
   ]
  },
  {
   "cell_type": "code",
   "execution_count": 43,
   "metadata": {},
   "outputs": [
    {
     "data": {
      "image/png": "[encoded data removed]",
      "text/plain": [
       "<Figure size 720x432 with 1 Axes>"
      ]
     },
     "metadata": {
      "needs_background": "light"
     },
     "output_type": "display_data"
    }
   ],
   "source": [
    "# Plot the autocorrelation function (ACF) of residuals\n",
    "plot_acf(gm_resid, lags=20)\n",
    "plt.title('Autocorrelation Function (ACF) of Residuals')\n",
    "plt.show()"
   ]
  },
  {
   "cell_type": "code",
   "execution_count": 44,
   "metadata": {},
   "outputs": [
    {
     "name": "stdout",
     "output_type": "stream",
     "text": [
      "Ljung-Box test p-values: [0.00068064 0.00168047 0.00310059 0.00497589 0.00064588 0.00057158\n",
      " 0.00044664 0.00081581 0.0015382  0.00079841 0.00110195 0.00105616\n",
      " 0.00185268 0.00310485 0.00329875 0.00417327 0.0044708  0.00484705\n",
      " 0.00119762 0.00186439]\n",
      "Jarque-Bera test p-value: 0.0\n"
     ]
    },
    {
     "data": {
      "image/png": "[encoded data removed]",
      "text/plain": [
       "<Figure size 432x288 with 1 Axes>"
      ]
     },
     "metadata": {
      "needs_background": "light"
     },
     "output_type": "display_data"
    }
   ],
   "source": [
    "from statsmodels.stats.diagnostic import acorr_ljungbox\n",
    "from scipy.stats import jarque_bera, probplot\n",
    "\n",
    "# Obtain the residuals\n",
    "residuals = best_garch_model.resid\n",
    "\n",
    "# Ljung-Box test for residual autocorrelation\n",
    "lb_stat, lb_p_value = acorr_ljungbox(residuals, lags=20)\n",
    "print(f\"Ljung-Box test p-values: {lb_p_value}\")\n",
    "\n",
    "# Jarque-Bera test for normality of residuals\n",
    "jb_stat, jb_p_value = jarque_bera(residuals)\n",
    "print(f\"Jarque-Bera test p-value: {jb_p_value}\")\n",
    "\n",
    "# Q-Q plot of residuals\n",
    "plt.figure(figsize=(6, 4))\n",
    "probplot(residuals, dist=\"norm\", plot=plt)\n",
    "plt.title(\"Q-Q Plot of Residuals\")\n",
    "plt.show()"
   ]
  },
  {
   "cell_type": "code",
   "execution_count": 58,
   "metadata": {},
   "outputs": [
    {
     "name": "stdout",
     "output_type": "stream",
     "text": [
      "Iteration:      1,   Func. Count:     20,   Neg. LLF: 57381.94114155914       \n",
      "Iteration:      2,   Func. Count:     44,   Neg. LLF: 43880942.178538285\n",
      "Iteration:      3,   Func. Count:     64,   Neg. LLF: 457324.1020536176\n",
      "Iteration:      4,   Func. Count:     84,   Neg. LLF: 776.9641415867792\n",
      "Iteration:      5,   Func. Count:    106,   Neg. LLF: 897.8612520994872\n",
      "Iteration:      6,   Func. Count:    126,   Neg. LLF: 687.8344329008158\n",
      "Iteration:      7,   Func. Count:    146,   Neg. LLF: 656.2157967573172\n",
      "Iteration:      8,   Func. Count:    166,   Neg. LLF: 4858.577991365062\n",
      "Iteration:      9,   Func. Count:    186,   Neg. LLF: 722.4990620210496\n",
      "Iteration:     10,   Func. Count:    206,   Neg. LLF: 636.1135560893722\n",
      "Iteration:     11,   Func. Count:    226,   Neg. LLF: 610.3430038676572\n",
      "Iteration:     12,   Func. Count:    246,   Neg. LLF: 595.7691799969606\n",
      "Iteration:     13,   Func. Count:    265,   Neg. LLF: 604.1293415113868\n",
      "Iteration:     14,   Func. Count:    285,   Neg. LLF: 629.6507285914901\n",
      "Iteration:     15,   Func. Count:    305,   Neg. LLF: 600.8001168442631\n",
      "Iteration:     16,   Func. Count:    325,   Neg. LLF: 599.3377943313939\n",
      "Iteration:     17,   Func. Count:    345,   Neg. LLF: 595.0693095323866\n",
      "Iteration:     18,   Func. Count:    364,   Neg. LLF: 595.7605158883283\n",
      "Iteration:     19,   Func. Count:    384,   Neg. LLF: 595.1056668636153\n",
      "Iteration:     20,   Func. Count:    404,   Neg. LLF: 595.1273915775881\n",
      "Iteration:     21,   Func. Count:    424,   Neg. LLF: 595.0254108901087\n",
      "Iteration:     22,   Func. Count:    444,   Neg. LLF: 595.019329532149\n",
      "Iteration:     23,   Func. Count:    464,   Neg. LLF: 595.0119487084406\n",
      "Iteration:     24,   Func. Count:    483,   Neg. LLF: 595.0119129082887\n",
      "Iteration:     25,   Func. Count:    502,   Neg. LLF: 595.011908713996\n",
      "Iteration:     26,   Func. Count:    520,   Neg. LLF: 595.011908444175\n",
      "Optimization terminated successfully    (Exit mode 0)\n",
      "            Current function value: 595.011908713996\n",
      "            Iterations: 26\n",
      "            Function evaluations: 520\n",
      "            Gradient evaluations: 26\n"
     ]
    }
   ],
   "source": [
    "df = get_data(symbols, timeframe)\n",
    "spread = calculate_spread(df, symbols, hedge_ratio)\n",
    "log_returns = np.log(spread / spread.shift()) * 100\n",
    "log_returns.dropna(inplace=True)\n",
    "\n",
    "model = arch_model(log_returns, vol='Garch', p=2, q=14)\n",
    "model_fit = model.fit()"
   ]
  },
  {
   "cell_type": "code",
   "execution_count": 59,
   "metadata": {},
   "outputs": [
    {
     "data": {
      "image/png": "[encoded data removed]",
      "text/plain": [
       "<Figure size 720x288 with 1 Axes>"
      ]
     },
     "metadata": {
      "needs_background": "light"
     },
     "output_type": "display_data"
    }
   ],
   "source": [
    "# Forecast volatility\n",
    "forecast_horizon = 2  # Define the number of periods for volatility forecast\n",
    "forecast = model_fit.forecast(horizon=forecast_horizon)\n",
    "# np.sqrt(forecast.variance.values[-1, :])\n",
    "# # Extract the forecasted volatility\n",
    "volatility_forecast = np.sqrt(forecast.variance.values[-1, :])\n",
    "# volatility_forecast\n",
    "\n",
    "last_date = model_fit.conditional_volatility.index[-1]\n",
    "forecast_index = pd.date_range(\n",
    "    start=last_date + pd.DateOffset(hours=1), periods=forecast_horizon, freq=\"H\"\n",
    ")\n",
    "forecast_index\n",
    "\n",
    "# Append the forecasted volatility to the existing conditional_volatility series\n",
    "combined_volatility = np.concatenate(\n",
    "    [model_fit.conditional_volatility, volatility_forecast]\n",
    ")\n",
    "combined_index = pd.DatetimeIndex(\n",
    "    np.concatenate([model_fit.conditional_volatility.index, forecast_index])\n",
    ")\n",
    "\n",
    "# Create a new DataFrame with the combined volatility and index\n",
    "combined_df = pd.DataFrame(\n",
    "    data=combined_volatility, index=combined_index, columns=[\"Volatility\"]\n",
    ")\n",
    "combined_df = combined_df.tail(50)\n",
    "\n",
    "# Plot the volatility forecast as an indicator\n",
    "plt.figure(figsize=(10, 4))\n",
    "plt.plot(combined_df.index, combined_df[\"Volatility\"], color='red', label=\"Volatility Forecast\")\n",
    "plt.plot(\n",
    "    best_garch_model.conditional_volatility.tail(50).index,\n",
    "    best_garch_model.conditional_volatility.tail(50),\n",
    "    color=\"blue\",\n",
    "    label=\"Conditional Volatility\",\n",
    ")\n",
    "plt.xlabel(\"Date\")\n",
    "plt.ylabel(\"Value\")\n",
    "plt.title(\"GARCH Model Volatility Forecast\")\n",
    "plt.legend()\n",
    "plt.show()\n"
   ]
  },
  {
   "cell_type": "code",
   "execution_count": null,
   "metadata": {},
   "outputs": [],
   "source": []
  }
 ],
 "metadata": {
  "kernelspec": {
   "display_name": "trade",
   "language": "python",
   "name": "python3"
  },
  "language_info": {
   "codemirror_mode": {
    "name": "ipython",
    "version": 3
   },
   "file_extension": ".py",
   "mimetype": "text/x-python",
   "name": "python",
   "nbconvert_exporter": "python",
   "pygments_lexer": "ipython3",
   "version": "3.7.11"
  },
  "orig_nbformat": 4
 },
 "nbformat": 4,
 "nbformat_minor": 2
}
