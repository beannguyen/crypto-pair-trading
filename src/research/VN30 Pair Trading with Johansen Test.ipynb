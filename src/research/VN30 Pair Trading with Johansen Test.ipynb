{
 "cells": [
  {
   "cell_type": "code",
   "execution_count": 1,
   "metadata": {},
   "outputs": [],
   "source": [
    "import sys\n",
    "\n",
    "sys.path.append(\"../\")"
   ]
  },
  {
   "cell_type": "code",
   "execution_count": 5,
   "metadata": {},
   "outputs": [],
   "source": [
    "import pandas as pd\n",
    "import numpy as np\n",
    "from statsmodels.tsa.vector_ar.vecm import coint_johansen\n",
    "from stats_arb.tests import adf_test, kpss_test, cal_half_life, pp_test\n",
    "from datetime import datetime, timedelta\n",
    "from ta.volatility import BollingerBands\n",
    "from math import sqrt\n",
    "from joblib import Parallel, delayed\n",
    "\n",
    "import matplotlib.pyplot as plt\n",
    "\n",
    "# DATA_PATH = '/mnt/d/Trading/trading-agent/crypto-pair-trading/data/5min'\n",
    "DATA_PATH = '/mnt/d/Working/PersonalProjects/Trading/trading-agent/crypto-pair-trading/data/vn30'"
   ]
  },
  {
   "cell_type": "code",
   "execution_count": 11,
   "metadata": {},
   "outputs": [
    {
     "data": {
      "text/html": [
       "<div>\n",
       "<style scoped>\n",
       "    .dataframe tbody tr th:only-of-type {\n",
       "        vertical-align: middle;\n",
       "    }\n",
       "\n",
       "    .dataframe tbody tr th {\n",
       "        vertical-align: top;\n",
       "    }\n",
       "\n",
       "    .dataframe thead th {\n",
       "        text-align: right;\n",
       "    }\n",
       "</style>\n",
       "<table border=\"1\" class=\"dataframe\">\n",
       "  <thead>\n",
       "    <tr style=\"text-align: right;\">\n",
       "      <th></th>\n",
       "      <th>VN30F1M</th>\n",
       "      <th>HPG</th>\n",
       "      <th>STB</th>\n",
       "      <th>TCB</th>\n",
       "      <th>POW</th>\n",
       "      <th>SSI</th>\n",
       "      <th>CTG</th>\n",
       "      <th>MBB</th>\n",
       "      <th>VPB</th>\n",
       "      <th>VRE</th>\n",
       "      <th>...</th>\n",
       "      <th>NVL</th>\n",
       "      <th>MSN</th>\n",
       "      <th>BVH</th>\n",
       "      <th>TPB</th>\n",
       "      <th>GAS</th>\n",
       "      <th>MWG</th>\n",
       "      <th>VIC</th>\n",
       "      <th>PNJ</th>\n",
       "      <th>VJC</th>\n",
       "      <th>VCB</th>\n",
       "    </tr>\n",
       "    <tr>\n",
       "      <th>datetime</th>\n",
       "      <th></th>\n",
       "      <th></th>\n",
       "      <th></th>\n",
       "      <th></th>\n",
       "      <th></th>\n",
       "      <th></th>\n",
       "      <th></th>\n",
       "      <th></th>\n",
       "      <th></th>\n",
       "      <th></th>\n",
       "      <th></th>\n",
       "      <th></th>\n",
       "      <th></th>\n",
       "      <th></th>\n",
       "      <th></th>\n",
       "      <th></th>\n",
       "      <th></th>\n",
       "      <th></th>\n",
       "      <th></th>\n",
       "      <th></th>\n",
       "      <th></th>\n",
       "    </tr>\n",
       "  </thead>\n",
       "  <tbody>\n",
       "    <tr>\n",
       "      <th>2018-01-02 02:00:00</th>\n",
       "      <td>6.889388</td>\n",
       "      <td>NaN</td>\n",
       "      <td>NaN</td>\n",
       "      <td>NaN</td>\n",
       "      <td>NaN</td>\n",
       "      <td>NaN</td>\n",
       "      <td>NaN</td>\n",
       "      <td>NaN</td>\n",
       "      <td>NaN</td>\n",
       "      <td>NaN</td>\n",
       "      <td>...</td>\n",
       "      <td>NaN</td>\n",
       "      <td>NaN</td>\n",
       "      <td>NaN</td>\n",
       "      <td>NaN</td>\n",
       "      <td>NaN</td>\n",
       "      <td>NaN</td>\n",
       "      <td>NaN</td>\n",
       "      <td>NaN</td>\n",
       "      <td>NaN</td>\n",
       "      <td>NaN</td>\n",
       "    </tr>\n",
       "    <tr>\n",
       "      <th>2018-01-02 03:00:00</th>\n",
       "      <td>6.892337</td>\n",
       "      <td>NaN</td>\n",
       "      <td>NaN</td>\n",
       "      <td>NaN</td>\n",
       "      <td>NaN</td>\n",
       "      <td>NaN</td>\n",
       "      <td>NaN</td>\n",
       "      <td>NaN</td>\n",
       "      <td>NaN</td>\n",
       "      <td>NaN</td>\n",
       "      <td>...</td>\n",
       "      <td>NaN</td>\n",
       "      <td>NaN</td>\n",
       "      <td>NaN</td>\n",
       "      <td>NaN</td>\n",
       "      <td>NaN</td>\n",
       "      <td>NaN</td>\n",
       "      <td>NaN</td>\n",
       "      <td>NaN</td>\n",
       "      <td>NaN</td>\n",
       "      <td>NaN</td>\n",
       "    </tr>\n",
       "    <tr>\n",
       "      <th>2018-01-02 04:00:00</th>\n",
       "      <td>6.893656</td>\n",
       "      <td>NaN</td>\n",
       "      <td>NaN</td>\n",
       "      <td>NaN</td>\n",
       "      <td>NaN</td>\n",
       "      <td>NaN</td>\n",
       "      <td>NaN</td>\n",
       "      <td>NaN</td>\n",
       "      <td>NaN</td>\n",
       "      <td>NaN</td>\n",
       "      <td>...</td>\n",
       "      <td>NaN</td>\n",
       "      <td>NaN</td>\n",
       "      <td>NaN</td>\n",
       "      <td>NaN</td>\n",
       "      <td>NaN</td>\n",
       "      <td>NaN</td>\n",
       "      <td>NaN</td>\n",
       "      <td>NaN</td>\n",
       "      <td>NaN</td>\n",
       "      <td>NaN</td>\n",
       "    </tr>\n",
       "    <tr>\n",
       "      <th>2018-01-02 05:00:00</th>\n",
       "      <td>NaN</td>\n",
       "      <td>NaN</td>\n",
       "      <td>NaN</td>\n",
       "      <td>NaN</td>\n",
       "      <td>NaN</td>\n",
       "      <td>NaN</td>\n",
       "      <td>NaN</td>\n",
       "      <td>NaN</td>\n",
       "      <td>NaN</td>\n",
       "      <td>NaN</td>\n",
       "      <td>...</td>\n",
       "      <td>NaN</td>\n",
       "      <td>NaN</td>\n",
       "      <td>NaN</td>\n",
       "      <td>NaN</td>\n",
       "      <td>NaN</td>\n",
       "      <td>NaN</td>\n",
       "      <td>NaN</td>\n",
       "      <td>NaN</td>\n",
       "      <td>NaN</td>\n",
       "      <td>NaN</td>\n",
       "    </tr>\n",
       "    <tr>\n",
       "      <th>2018-01-02 06:00:00</th>\n",
       "      <td>6.897402</td>\n",
       "      <td>NaN</td>\n",
       "      <td>NaN</td>\n",
       "      <td>NaN</td>\n",
       "      <td>NaN</td>\n",
       "      <td>NaN</td>\n",
       "      <td>NaN</td>\n",
       "      <td>NaN</td>\n",
       "      <td>NaN</td>\n",
       "      <td>NaN</td>\n",
       "      <td>...</td>\n",
       "      <td>NaN</td>\n",
       "      <td>NaN</td>\n",
       "      <td>NaN</td>\n",
       "      <td>NaN</td>\n",
       "      <td>NaN</td>\n",
       "      <td>NaN</td>\n",
       "      <td>NaN</td>\n",
       "      <td>NaN</td>\n",
       "      <td>NaN</td>\n",
       "      <td>NaN</td>\n",
       "    </tr>\n",
       "  </tbody>\n",
       "</table>\n",
       "<p>5 rows × 28 columns</p>\n",
       "</div>"
      ],
      "text/plain": [
       "                      VN30F1M  HPG  STB  TCB  POW  SSI  CTG  MBB  VPB  VRE  \\\n",
       "datetime                                                                     \n",
       "2018-01-02 02:00:00  6.889388  NaN  NaN  NaN  NaN  NaN  NaN  NaN  NaN  NaN   \n",
       "2018-01-02 03:00:00  6.892337  NaN  NaN  NaN  NaN  NaN  NaN  NaN  NaN  NaN   \n",
       "2018-01-02 04:00:00  6.893656  NaN  NaN  NaN  NaN  NaN  NaN  NaN  NaN  NaN   \n",
       "2018-01-02 05:00:00       NaN  NaN  NaN  NaN  NaN  NaN  NaN  NaN  NaN  NaN   \n",
       "2018-01-02 06:00:00  6.897402  NaN  NaN  NaN  NaN  NaN  NaN  NaN  NaN  NaN   \n",
       "\n",
       "                     ...  NVL  MSN  BVH  TPB  GAS  MWG  VIC  PNJ  VJC  VCB  \n",
       "datetime             ...                                                    \n",
       "2018-01-02 02:00:00  ...  NaN  NaN  NaN  NaN  NaN  NaN  NaN  NaN  NaN  NaN  \n",
       "2018-01-02 03:00:00  ...  NaN  NaN  NaN  NaN  NaN  NaN  NaN  NaN  NaN  NaN  \n",
       "2018-01-02 04:00:00  ...  NaN  NaN  NaN  NaN  NaN  NaN  NaN  NaN  NaN  NaN  \n",
       "2018-01-02 05:00:00  ...  NaN  NaN  NaN  NaN  NaN  NaN  NaN  NaN  NaN  NaN  \n",
       "2018-01-02 06:00:00  ...  NaN  NaN  NaN  NaN  NaN  NaN  NaN  NaN  NaN  NaN  \n",
       "\n",
       "[5 rows x 28 columns]"
      ]
     },
     "execution_count": 11,
     "metadata": {},
     "output_type": "execute_result"
    }
   ],
   "source": [
    "symbols = ['VN30F1M', 'HPG', 'STB', 'TCB', 'POW', 'SSI', 'CTG', 'MBB', 'VPB', 'VRE',\n",
    "       'VHM', 'HDB', 'PDR', 'PLX', 'FPT', 'KDH', 'VNM',\n",
    "       'BID', 'NVL', 'MSN', 'BVH', 'TPB', 'GAS', 'MWG', 'VIC', 'PNJ',\n",
    "       'VJC', 'VCB']\n",
    "\n",
    "agg_dict = {'open': 'first',\n",
    "          'high': 'max',\n",
    "          'low': 'min',\n",
    "          'close': 'last',\n",
    "          'volume': 'mean'}\n",
    "\n",
    "data = []\n",
    "start_date = '2015-01-01'\n",
    "test_end = '2020-01-01'\n",
    "end_date = '2021-06-01'\n",
    "\n",
    "for symbol in symbols:\n",
    "    try:\n",
    "        file = f'{DATA_PATH}/{symbol}_1h.csv'\n",
    "        df = pd.read_csv(file, \n",
    "                        parse_dates=['datetime'], \n",
    "                        index_col=['datetime'])\n",
    "        # df = df[df.index < end_date].copy()\n",
    "        df = df[~df.index.duplicated(keep='first')]\n",
    "        df = df.resample('1h').agg(agg_dict)\n",
    "\n",
    "        df.rename(columns={'close': symbol}, inplace=True)\n",
    "        # the data is too long, just limit to recent period\n",
    "        data.append(np.log(df[symbol]))\n",
    "    except:\n",
    "        print(symbol)\n",
    "\n",
    "df = pd.concat(data, axis=1)\n",
    "df = df.dropna(axis=1, how='all')\n",
    "# df.dropna(inplace=True, how='any')\n",
    "\n",
    "df.head()"
   ]
  },
  {
   "cell_type": "code",
   "execution_count": 12,
   "metadata": {},
   "outputs": [],
   "source": [
    "p = 1\n",
    "COINTEGRATION_CONFIDENCE_LEVEL = 90\n",
    "\n",
    "# the 90%, 95%, and 99% confidence levels for the trace statistic and maximum \n",
    "# eigenvalue statistic are stored in the first, second, and third column of \n",
    "# cvt and cvm, respectively\n",
    "confidence_level_cols = {\n",
    "    90: 0,\n",
    "    95: 1,\n",
    "    99: 2\n",
    "}\n",
    "confidence_level_col = confidence_level_cols[COINTEGRATION_CONFIDENCE_LEVEL]\n",
    "\n",
    "\n",
    "def test_johansen(symbol_pairs):\n",
    "    df_t = df[(df.index <= test_end)][symbol_pairs].copy()\n",
    "    df_t.dropna(inplace=True)\n",
    "\n",
    "    # The second and third parameters indicate constant term, with a lag of 1. \n",
    "    result = coint_johansen(df_t, 0, p)\n",
    "\n",
    "    trace_crit_value = result.cvt[:, confidence_level_col]\n",
    "    eigen_crit_value = result.cvm[:, confidence_level_col]\n",
    "    print(\"trace_crit_value\",trace_crit_value)\n",
    "    print(\"eigen_crit_value\",eigen_crit_value)\n",
    "    print(\"lr1\",result.lr1)\n",
    "    print(\"lr2\",result.lr2)\n",
    "\n",
    "    # The trace statistic and maximum eigenvalue statistic are stored in lr1 and lr2;\n",
    "    # see if they exceeded the confidence threshold\n",
    "    if np.all(result.lr1 >= trace_crit_value) and np.all(result.lr2 >= eigen_crit_value):\n",
    "        # print(f\"{symbol_pairs} are cointegrated\")\n",
    "        # The first i.e. leftmost column of eigenvectors matrix, result.evec, contains the best weights.\n",
    "        v1= result.evec[:,0:1]\n",
    "        hr=v1/-v1[1] #to get the hedge ratio divide the best_eigenvector by the negative of the second component of best_eigenvector\n",
    "        #the regression will be: close of symbList[1] = hr[0]*close of symbList[0] + error\n",
    "        #where the beta of the regression is hr[0], also known as the hedge ratio, and\n",
    "        #the error of the regression is the mean reverting residual signal that you need to predict, it is also known as the \"spread\"\n",
    "        #the spread = close of symbList[1] - hr[0]*close of symbList[0] or alternatively (the same thing):\n",
    "        #do a regression with close of symbList[0] as x and lose of symbList[1] as y, and take the residuals of the regression to be the spread.\n",
    "        coint_pair = dict(hedge_ratio=v1[:, 0])\n",
    "        for i, s in enumerate(symbol_pairs):\n",
    "            coint_pair[f'sid_{i+1}'] = s\n",
    "\n",
    "        return coint_pair\n",
    "\n"
   ]
  },
  {
   "cell_type": "code",
   "execution_count": 18,
   "metadata": {
    "tags": []
   },
   "outputs": [
    {
     "name": "stdout",
     "output_type": "stream",
     "text": [
      "Scanning 27\n",
      "trace_crit_value [13.4294  2.7055]\n",
      "eigen_crit_value [12.2971  2.7055]\n",
      "lr1 [9.25251679 1.50645108]\n",
      "lr2 [7.74606571 1.50645108]\n",
      "trace_crit_value [13.4294  2.7055]\n",
      "eigen_crit_value [12.2971  2.7055]\n",
      "lr1 [7.31238074 0.88663777]\n",
      "lr2 [6.42574297 0.88663777]\n",
      "trace_crit_value [13.4294  2.7055]\n",
      "eigen_crit_value [12.2971  2.7055]\n",
      "lr1 [9.24880446 1.93777659]\n",
      "lr2 [7.31102787 1.93777659]\n",
      "trace_crit_value [13.4294  2.7055]\n",
      "eigen_crit_value [12.2971  2.7055]\n",
      "lr1 [8.34042088 0.20341509]\n",
      "lr2 [8.13700578 0.20341509]\n",
      "trace_crit_value [13.4294  2.7055]\n",
      "eigen_crit_value [12.2971  2.7055]\n",
      "lr1 [7.80162599 0.24613762]\n",
      "lr2 [7.55548837 0.24613762]\n",
      "trace_crit_value [13.4294  2.7055]\n",
      "eigen_crit_value [12.2971  2.7055]\n",
      "lr1 [16.97517303  6.73524627]\n",
      "lr2 [10.23992677  6.73524627]\n",
      "trace_crit_value [13.4294  2.7055]\n",
      "eigen_crit_value [12.2971  2.7055]\n",
      "lr1 [16.63124513  6.23398644]\n",
      "lr2 [10.39725869  6.23398644]\n",
      "trace_crit_value [13.4294  2.7055]\n",
      "eigen_crit_value [12.2971  2.7055]\n",
      "lr1 [14.54014815  2.87887394]\n",
      "lr2 [11.66127421  2.87887394]\n",
      "trace_crit_value [13.4294  2.7055]\n",
      "eigen_crit_value [12.2971  2.7055]\n",
      "lr1 [13.08147668  4.19257292]\n",
      "lr2 [8.88890375 4.19257292]\n",
      "trace_crit_value [13.4294  2.7055]\n",
      "eigen_crit_value [12.2971  2.7055]\n",
      "lr1 [18.77295317  6.31587426]\n",
      "lr2 [12.45707891  6.31587426]\n",
      "trace_crit_value [13.4294  2.7055]\n",
      "eigen_crit_value [12.2971  2.7055]\n",
      "lr1 [12.4548695  4.0464641]\n",
      "lr2 [8.4084054 4.0464641]\n",
      "trace_crit_value [13.4294  2.7055]\n",
      "eigen_crit_value [12.2971  2.7055]\n",
      "lr1 [14.79397264  6.3192135 ]\n",
      "lr2 [8.47475914 6.3192135 ]\n",
      "trace_crit_value [13.4294  2.7055]\n",
      "eigen_crit_value [12.2971  2.7055]\n",
      "lr1 [9.48733807 2.02064471]\n",
      "lr2 [7.46669336 2.02064471]\n",
      "trace_crit_value [13.4294  2.7055]\n",
      "eigen_crit_value [12.2971  2.7055]\n",
      "lr1 [9.21052911 0.40691628]\n",
      "lr2 [8.80361282 0.40691628]\n",
      "trace_crit_value [13.4294  2.7055]\n",
      "eigen_crit_value [12.2971  2.7055]\n",
      "lr1 [10.47815318  2.56260066]\n",
      "lr2 [7.91555253 2.56260066]\n",
      "trace_crit_value [13.4294  2.7055]\n",
      "eigen_crit_value [12.2971  2.7055]\n",
      "lr1 [11.29717365  2.16930709]\n",
      "lr2 [9.12786656 2.16930709]\n",
      "trace_crit_value [13.4294  2.7055]\n",
      "eigen_crit_value [12.2971  2.7055]\n",
      "lr1 [7.29505878 0.08198281]\n",
      "lr2 [7.21307597 0.08198281]\n",
      "trace_crit_value [13.4294  2.7055]\n",
      "eigen_crit_value [12.2971  2.7055]\n",
      "lr1 [19.61290871  6.14036056]\n",
      "lr2 [13.47254815  6.14036056]\n",
      "trace_crit_value [13.4294  2.7055]\n",
      "eigen_crit_value [12.2971  2.7055]\n",
      "lr1 [8.13760156 1.67695919]\n",
      "lr2 [6.46064237 1.67695919]\n",
      "trace_crit_value [13.4294  2.7055]\n",
      "eigen_crit_value [12.2971  2.7055]\n",
      "lr1 [7.44253892 0.75274596]\n",
      "lr2 [6.68979296 0.75274596]\n",
      "trace_crit_value [13.4294  2.7055]\n",
      "eigen_crit_value [12.2971  2.7055]\n",
      "lr1 [12.85522602  4.16280933]\n",
      "lr2 [8.69241669 4.16280933]\n",
      "trace_crit_value [13.4294  2.7055]\n",
      "eigen_crit_value [12.2971  2.7055]\n",
      "lr1 [12.10574334  4.14427445]\n",
      "lr2 [7.96146889 4.14427445]\n",
      "trace_crit_value [13.4294  2.7055]\n",
      "eigen_crit_value [12.2971  2.7055]\n",
      "lr1 [12.52403377  0.19314205]\n",
      "lr2 [12.33089172  0.19314205]\n",
      "trace_crit_value [13.4294  2.7055]\n",
      "eigen_crit_value [12.2971  2.7055]\n",
      "lr1 [15.42034791  6.42837703]\n",
      "lr2 [8.99197088 6.42837703]\n",
      "trace_crit_value [13.4294  2.7055]\n",
      "eigen_crit_value [12.2971  2.7055]\n",
      "lr1 [9.6449332 2.4333289]\n",
      "lr2 [7.21160429 2.4333289 ]\n",
      "trace_crit_value [13.4294  2.7055]\n",
      "eigen_crit_value [12.2971  2.7055]\n",
      "lr1 [6.60218532 0.06449102]\n",
      "lr2 [6.53769429 0.06449102]\n",
      "trace_crit_value [13.4294  2.7055]\n",
      "eigen_crit_value [12.2971  2.7055]\n",
      "lr1 [7.86241438 1.39025962]\n",
      "lr2 [6.47215475 1.39025962]\n"
     ]
    },
    {
     "data": {
      "text/html": [
       "<div>\n",
       "<style scoped>\n",
       "    .dataframe tbody tr th:only-of-type {\n",
       "        vertical-align: middle;\n",
       "    }\n",
       "\n",
       "    .dataframe tbody tr th {\n",
       "        vertical-align: top;\n",
       "    }\n",
       "\n",
       "    .dataframe thead th {\n",
       "        text-align: right;\n",
       "    }\n",
       "</style>\n",
       "<table border=\"1\" class=\"dataframe\">\n",
       "  <thead>\n",
       "    <tr style=\"text-align: right;\">\n",
       "      <th></th>\n",
       "      <th>hedge_ratio</th>\n",
       "      <th>sid_1</th>\n",
       "      <th>sid_2</th>\n",
       "    </tr>\n",
       "  </thead>\n",
       "  <tbody>\n",
       "    <tr>\n",
       "      <th>0</th>\n",
       "      <td>[45.589770288288975, -22.484943060199544]</td>\n",
       "      <td>VN30F1M</td>\n",
       "      <td>VHM</td>\n",
       "    </tr>\n",
       "    <tr>\n",
       "      <th>1</th>\n",
       "      <td>[16.611478392171783, -28.295761539114725]</td>\n",
       "      <td>VN30F1M</td>\n",
       "      <td>NVL</td>\n",
       "    </tr>\n",
       "  </tbody>\n",
       "</table>\n",
       "</div>"
      ],
      "text/plain": [
       "                                 hedge_ratio    sid_1 sid_2\n",
       "0  [45.589770288288975, -22.484943060199544]  VN30F1M   VHM\n",
       "1  [16.611478392171783, -28.295761539114725]  VN30F1M   NVL"
      ]
     },
     "execution_count": 18,
     "metadata": {},
     "output_type": "execute_result"
    }
   ],
   "source": [
    "\n",
    "import itertools as it\n",
    "\n",
    "nb_symbols = 2\n",
    "cointegrating_pairs = []\n",
    "\n",
    "#get symbol pairs\n",
    "pairs = list(it.combinations(symbols, nb_symbols))\n",
    "pairs = [p for p in pairs if 'VN30F1M' in list(p)]\n",
    "print(f'Scanning {len(pairs)}')\n",
    "\n",
    "def scan_pair(pair):\n",
    "    try:\n",
    "        pair = list(pair)\n",
    "        return test_johansen(list(pair))\n",
    "    except Exception:\n",
    "        pass\n",
    "\n",
    "    \n",
    "cointegrating_pairs = Parallel(n_jobs=10)(delayed(scan_pair)(pair) for pair in pairs)\n",
    "# cointegrating_pairs\n",
    "cointegrating_pairs = [pair for pair in cointegrating_pairs if pair is not None]\n",
    "coint_df = pd.DataFrame(cointegrating_pairs)\n",
    "coint_df.head()"
   ]
  },
  {
   "cell_type": "code",
   "execution_count": 19,
   "metadata": {},
   "outputs": [],
   "source": [
    "coint_df.to_csv('coint_df_vn30.csv')\n"
   ]
  },
  {
   "cell_type": "code",
   "execution_count": 20,
   "metadata": {},
   "outputs": [
    {
     "name": "stderr",
     "output_type": "stream",
     "text": [
      "/home/bean/miniconda3/envs/trade/lib/python3.7/site-packages/statsmodels/tsa/tsatools.py:142: FutureWarning: In a future version of pandas all arguments of concat except for the argument 'objs' will be keyword-only\n",
      "  x = pd.concat(x[::order], 1)\n"
     ]
    }
   ],
   "source": [
    "def calculate_spread(df, selected_row, hedge_ratio):\n",
    "    spread = None\n",
    "    for i in range(nb_symbols):\n",
    "        if spread is None:\n",
    "            spread = df[coint_df[f'sid_{i + 1}'].iloc[selected_row]] * hedge_ratio[i]\n",
    "        else:\n",
    "            spread += df[coint_df[f'sid_{i + 1}'].iloc[selected_row]] * hedge_ratio[i]\n",
    "    \n",
    "    spread.dropna(inplace=True)\n",
    "    return spread\n",
    "\n",
    "\n",
    "critical_val = 0.005\n",
    "\n",
    "def find_stationary_portfolio():\n",
    "    data = []\n",
    "    for i, _ in coint_df.iterrows():\n",
    "        hedge_ratio = coint_df.iloc[i]['hedge_ratio']\n",
    "        _df = df[(df.index <= test_end)].copy()\n",
    "        spread = calculate_spread(df, i, hedge_ratio)\n",
    "            \n",
    "        half_life = cal_half_life(spread)\n",
    "        pairs_name = coint_df[[col for col in coint_df.columns if col != 'hedge_ratio']].iloc[i].values\n",
    "        hedge_ratio = coint_df['hedge_ratio'].iloc[i]\n",
    "        # print(i, pairs_name, 'is stationary with half life', half_life)\n",
    "        # print(' ')\n",
    "        data.append({\n",
    "            'i': i,\n",
    "            'pairs': pairs_name,\n",
    "            'hedge_ratio': hedge_ratio,\n",
    "            'half_life': half_life\n",
    "        })\n",
    "    \n",
    "    return pd.DataFrame(data)\n",
    "\n",
    "\n",
    "stationary_df = find_stationary_portfolio()\n",
    "if len(stationary_df) > 0:\n",
    "    stationary_df.sort_values(by=['half_life'], inplace=True)"
   ]
  },
  {
   "cell_type": "code",
   "execution_count": 21,
   "metadata": {},
   "outputs": [
    {
     "data": {
      "text/html": [
       "<div>\n",
       "<style scoped>\n",
       "    .dataframe tbody tr th:only-of-type {\n",
       "        vertical-align: middle;\n",
       "    }\n",
       "\n",
       "    .dataframe tbody tr th {\n",
       "        vertical-align: top;\n",
       "    }\n",
       "\n",
       "    .dataframe thead th {\n",
       "        text-align: right;\n",
       "    }\n",
       "</style>\n",
       "<table border=\"1\" class=\"dataframe\">\n",
       "  <thead>\n",
       "    <tr style=\"text-align: right;\">\n",
       "      <th></th>\n",
       "      <th>i</th>\n",
       "      <th>pairs</th>\n",
       "      <th>hedge_ratio</th>\n",
       "      <th>half_life</th>\n",
       "    </tr>\n",
       "  </thead>\n",
       "  <tbody>\n",
       "    <tr>\n",
       "      <th>1</th>\n",
       "      <td>1</td>\n",
       "      <td>[VN30F1M, NVL]</td>\n",
       "      <td>[16.611478392171783, -28.295761539114725]</td>\n",
       "      <td>202</td>\n",
       "    </tr>\n",
       "    <tr>\n",
       "      <th>0</th>\n",
       "      <td>0</td>\n",
       "      <td>[VN30F1M, VHM]</td>\n",
       "      <td>[45.589770288288975, -22.484943060199544]</td>\n",
       "      <td>4506</td>\n",
       "    </tr>\n",
       "  </tbody>\n",
       "</table>\n",
       "</div>"
      ],
      "text/plain": [
       "   i           pairs                                hedge_ratio  half_life\n",
       "1  1  [VN30F1M, NVL]  [16.611478392171783, -28.295761539114725]        202\n",
       "0  0  [VN30F1M, VHM]  [45.589770288288975, -22.484943060199544]       4506"
      ]
     },
     "execution_count": 21,
     "metadata": {},
     "output_type": "execute_result"
    }
   ],
   "source": [
    "stationary_df"
   ]
  },
  {
   "cell_type": "code",
   "execution_count": 27,
   "metadata": {},
   "outputs": [
    {
     "name": "stdout",
     "output_type": "stream",
     "text": [
      "0\n"
     ]
    }
   ],
   "source": [
    "selected_i = 0\n",
    "selected_row = stationary_df[stationary_df['i'] == selected_i]['i'].iloc[-1]\n",
    "print(selected_row)\n",
    "hedge_ratio = coint_df.iloc[selected_row]['hedge_ratio']\n",
    "spread = calculate_spread(df[df.index <= test_end], selected_row, hedge_ratio)"
   ]
  },
  {
   "cell_type": "code",
   "execution_count": 28,
   "metadata": {},
   "outputs": [
    {
     "data": {
      "text/plain": [
       "<matplotlib.legend.Legend at 0x7f869eaaa710>"
      ]
     },
     "execution_count": 28,
     "metadata": {},
     "output_type": "execute_result"
    },
    {
     "data": {
      "image/png": "[encoded data removed]",
      "text/plain": [
       "<Figure size 432x288 with 1 Axes>"
      ]
     },
     "metadata": {
      "needs_background": "light"
     },
     "output_type": "display_data"
    }
   ],
   "source": [
    "spread.plot() # Plot the spread\n",
    "plt.axhline(spread.mean(), color='red', linestyle='--') # Add the mean\n",
    "plt.xlabel('Time')\n",
    "plt.legend(['Price Spread', 'Mean'])"
   ]
  },
  {
   "cell_type": "code",
   "execution_count": 29,
   "metadata": {},
   "outputs": [],
   "source": [
    "def zscore(series):\n",
    "    return (series - series.mean()) / np.std(series)"
   ]
  },
  {
   "cell_type": "code",
   "execution_count": 30,
   "metadata": {},
   "outputs": [
    {
     "data": {
      "text/plain": [
       "<matplotlib.legend.Legend at 0x7f869f10cd50>"
      ]
     },
     "execution_count": 30,
     "metadata": {},
     "output_type": "execute_result"
    },
    {
     "data": {
      "image/png": "[encoded data removed]",
      "text/plain": [
       "<Figure size 432x288 with 1 Axes>"
      ]
     },
     "metadata": {
      "needs_background": "light"
     },
     "output_type": "display_data"
    }
   ],
   "source": [
    "zscore(spread).plot()\n",
    "plt.axhline(zscore(spread).mean(), color='black')\n",
    "plt.axhline(1.0, color='red', linestyle='--')\n",
    "plt.axhline(-1.0, color='green', linestyle='--')\n",
    "plt.legend(['Spread z-score', 'Mean', '+1', '-1'])"
   ]
  },
  {
   "cell_type": "markdown",
   "metadata": {},
   "source": [
    "## using spread"
   ]
  },
  {
   "cell_type": "code",
   "execution_count": 36,
   "metadata": {},
   "outputs": [],
   "source": [
    "from statsmodels.tsa.stattools import coint\n",
    "import statsmodels.api as sm\n",
    "\n",
    "\n",
    "def find_cointegrated_pairs(data):\n",
    "    n = data.shape[1]\n",
    "    score_matrix = np.zeros((n, n))\n",
    "    pvalue_matrix = np.ones((n, n))\n",
    "    keys = data.keys()\n",
    "    pairs = []\n",
    "    for i in range(n):\n",
    "        for j in range(i+1, n):\n",
    "            S1 = data[keys[i]]\n",
    "            S2 = data[keys[j]]\n",
    "            result = coint(S1, S2)\n",
    "            score = result[0]\n",
    "            pvalue = result[1]\n",
    "            score_matrix[i, j] = score\n",
    "            pvalue_matrix[i, j] = pvalue\n",
    "            if pvalue < 0.05:\n",
    "                pairs.append((keys[i], keys[j]))\n",
    "    return score_matrix, pvalue_matrix, pairs"
   ]
  },
  {
   "cell_type": "code",
   "execution_count": 34,
   "metadata": {},
   "outputs": [
    {
     "name": "stdout",
     "output_type": "stream",
     "text": [
      "[('VN30F1M', 'TCB'), ('STB', 'PDR'), ('TCB', 'PDR'), ('VPB', 'NVL'), ('VRE', 'PLX'), ('VRE', 'BVH'), ('HDB', 'PDR'), ('HDB', 'PLX'), ('HDB', 'KDH'), ('HDB', 'NVL'), ('HDB', 'MWG'), ('HDB', 'VIC'), ('PDR', 'TPB'), ('BID', 'BVH'), ('BID', 'MWG'), ('BID', 'VCB')]\n"
     ]
    },
    {
     "data": {
      "image/png": "[encoded data removed]",
      "text/plain": [
       "<Figure size 432x288 with 2 Axes>"
      ]
     },
     "metadata": {
      "needs_background": "light"
     },
     "output_type": "display_data"
    }
   ],
   "source": [
    "df.dropna(inplace=True)\n",
    "\n",
    "# Heatmap to show the p-values of the cointegration test between each pair of\n",
    "# stocks. Only show the value in the upper-diagonal of the heatmap\n",
    "scores, pvalues, pairs = find_cointegrated_pairs(df)\n",
    "import seaborn\n",
    "seaborn.heatmap(pvalues, xticklabels=symbols, yticklabels=symbols, cmap='RdYlGn_r' \n",
    "                , mask = (pvalues >= 0.05)\n",
    "                )\n",
    "print(pairs)"
   ]
  },
  {
   "cell_type": "code",
   "execution_count": 35,
   "metadata": {},
   "outputs": [
    {
     "data": {
      "text/plain": [
       "0.04490833901620356"
      ]
     },
     "execution_count": 35,
     "metadata": {},
     "output_type": "execute_result"
    }
   ],
   "source": [
    "S1 = df['VN30F1M']\n",
    "S2 = df['TCB']\n",
    "\n",
    "score, pvalue, _ = coint(S1, S2)\n",
    "pvalue"
   ]
  },
  {
   "cell_type": "code",
   "execution_count": 39,
   "metadata": {},
   "outputs": [
    {
     "name": "stderr",
     "output_type": "stream",
     "text": [
      "/home/bean/miniconda3/envs/trade/lib/python3.7/site-packages/statsmodels/tsa/tsatools.py:142: FutureWarning: In a future version of pandas all arguments of concat except for the argument 'objs' will be keyword-only\n",
      "  x = pd.concat(x[::order], 1)\n"
     ]
    },
    {
     "data": {
      "text/plain": [
       "<matplotlib.legend.Legend at 0x7f869ee9ffd0>"
      ]
     },
     "execution_count": 39,
     "metadata": {},
     "output_type": "execute_result"
    },
    {
     "data": {
      "image/png": "[encoded data removed]",
      "text/plain": [
       "<Figure size 432x288 with 1 Axes>"
      ]
     },
     "metadata": {
      "needs_background": "light"
     },
     "output_type": "display_data"
    }
   ],
   "source": [
    "S1 = sm.add_constant(S1)\n",
    "results = sm.OLS(S2, S1).fit()\n",
    "S1 = S1['VN30F1M']\n",
    "b = results.params['VN30F1M']\n",
    "\n",
    "spread = S2 - b * S1\n",
    "spread.plot()\n",
    "plt.axhline(spread.mean(), color='black')\n",
    "plt.legend(['Spread'])"
   ]
  },
  {
   "cell_type": "code",
   "execution_count": 40,
   "metadata": {},
   "outputs": [],
   "source": [
    "def zscore(series):\n",
    "    return (series - series.mean()) / np.std(series)\n"
   ]
  },
  {
   "cell_type": "code",
   "execution_count": 41,
   "metadata": {},
   "outputs": [
    {
     "data": {
      "image/png": "[encoded data removed]",
      "text/plain": [
       "<Figure size 432x288 with 1 Axes>"
      ]
     },
     "metadata": {
      "needs_background": "light"
     },
     "output_type": "display_data"
    }
   ],
   "source": [
    "zscore(spread).plot()\n",
    "plt.axhline(zscore(spread).mean(), color='black')\n",
    "plt.axhline(1.0, color='red', linestyle='--')\n",
    "plt.axhline(-1.0, color='green', linestyle='--')\n",
    "plt.legend(['Spread z-score', 'Mean', '+1', '-1'])"
   ]
  },
  {
   "cell_type": "code",
   "execution_count": null,
   "metadata": {},
   "outputs": [],
   "source": []
  }
 ],
 "metadata": {
  "kernelspec": {
   "display_name": "Python 3.7.11 ('trade')",
   "language": "python",
   "name": "python3"
  },
  "language_info": {
   "codemirror_mode": {
    "name": "ipython",
    "version": 3
   },
   "file_extension": ".py",
   "mimetype": "text/x-python",
   "name": "python",
   "nbconvert_exporter": "python",
   "pygments_lexer": "ipython3",
   "version": "3.7.11"
  },
  "vscode": {
   "interpreter": {
    "hash": "c276c0ee69ef566ef6a4194053af484cf7322cd6b46c4188dcfdf12ebbe5b30c"
   }
  }
 },
 "nbformat": 4,
 "nbformat_minor": 4
}
