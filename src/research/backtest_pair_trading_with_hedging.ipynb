{
 "cells": [
  {
   "cell_type": "code",
   "execution_count": 33,
   "metadata": {},
   "outputs": [],
   "source": [
    "import sys\n",
    "\n",
    "sys.path.append(\"../\")\n",
    "\n",
    "DATA_PATH = '/mnt/d/Working/PersonalProjects/Trading/trading-agent/crypto-pair-trading/data/crypto/1h'"
   ]
  },
  {
   "cell_type": "code",
   "execution_count": 34,
   "metadata": {},
   "outputs": [],
   "source": [
    "import pandas as pd\n",
    "import numpy as np\n",
    "from statsmodels.tsa.vector_ar.vecm import coint_johansen\n",
    "from stats_arb.tests import adf_test, kpss_test, cal_half_life, pp_test\n",
    "from datetime import datetime, timedelta\n",
    "import itertools as it\n",
    "import backtrader as bt\n",
    "from pykalman import KalmanFilter\n",
    "\n",
    "import statsmodels.api as sm\n",
    "\n",
    "import ta\n",
    "import empyrical\n",
    "import matplotlib.pyplot as plt\n",
    "\n",
    "%matplotlib inline\n",
    "plt.rcParams[\"figure.figsize\"] = (10, 6) # (w, h)\n",
    "plt.ioff()"
   ]
  },
  {
   "cell_type": "code",
   "execution_count": 35,
   "metadata": {},
   "outputs": [],
   "source": [
    "# symbols = pd.read_csv(f'{DATA_PATH}/../symbols.csv')['symbol'].values.tolist()\n",
    "symbols = ['BTC', 'ETH', 'ADA', 'BNB', 'SOL', 'XRP', 'DOT', 'LINK', 'BCH', 'LTC', 'ALGO', 'MATIC', 'XLM', 'ETC']\n",
    "symbols = [f'{s}-USDT' for s in symbols]\n",
    "\n",
    "def get_data(start_date, end_date, use_log=True):\n",
    "    data = []\n",
    "    for symbol in symbols:\n",
    "        try:\n",
    "            file = f'{DATA_PATH}/{symbol}.csv'\n",
    "            # print(file)\n",
    "            df = pd.read_csv(file, \n",
    "                            parse_dates=['open_time'], \n",
    "                            index_col=['open_time'])\n",
    "            df = df[(df.index > start_date) & (df.index < end_date)]\n",
    "            df = df[~df.index.duplicated(keep='first')]\n",
    "            df.rename(columns={'close': symbol}, inplace=True)\n",
    "            if use_log:\n",
    "                # the data is too long, just limit to recent period\n",
    "                data.append(np.log(df[symbol]))\n",
    "            else:\n",
    "                data.append(df[symbol])\n",
    "        except:\n",
    "            pass\n",
    "\n",
    "    df = pd.concat(data, axis=1)\n",
    "    df = df.dropna(axis=1, how='all')\n",
    "    df.dropna(inplace=True, how='any')\n",
    "\n",
    "    return df"
   ]
  },
  {
   "cell_type": "code",
   "execution_count": 36,
   "metadata": {},
   "outputs": [],
   "source": [
    "p = 1\n",
    "COINTEGRATION_CONFIDENCE_LEVEL = 90\n",
    "\n",
    "# the 90%, 95%, and 99% confidence levels for the trace statistic and maximum \n",
    "# eigenvalue statistic are stored in the first, second, and third column of \n",
    "# cvt and cvm, respectively\n",
    "confidence_level_cols = {\n",
    "    90: 0,\n",
    "    95: 1,\n",
    "    99: 2\n",
    "}\n",
    "confidence_level_col = confidence_level_cols[COINTEGRATION_CONFIDENCE_LEVEL]\n",
    "\n",
    "\n",
    "def test_johansen(df, symbol_pairs):\n",
    "    cointegrating_pairs = []\n",
    "    df_t = df[symbol_pairs].copy()\n",
    "    df_t.dropna(inplace=True)\n",
    "\n",
    "    # The second and third parameters indicate constant term, with a lag of 1. \n",
    "    result = coint_johansen(df_t, 0, p)\n",
    "\n",
    "    trace_crit_value = result.cvt[:, confidence_level_col]\n",
    "    eigen_crit_value = result.cvm[:, confidence_level_col]\n",
    "    #     print(\"trace_crit_value\",trace_crit_value)\n",
    "    #     print(\"eigen_crit_value\",eigen_crit_value)\n",
    "    #     print(\"lr1\",result.lr1)\n",
    "    #     print(\"lr2\",result.lr2)\n",
    "\n",
    "    # The trace statistic and maximum eigenvalue statistic are stored in lr1 and lr2;\n",
    "    # see if they exceeded the confidence threshold\n",
    "    if np.all(result.lr1 >= trace_crit_value) and np.all(result.lr2 >= eigen_crit_value):\n",
    "        # print(f\"{symbol_pairs} are cointegrated\")\n",
    "        # The first i.e. leftmost column of eigenvectors matrix, result.evec, contains the best weights.\n",
    "        v1= result.evec[:,0:1]\n",
    "        hr=v1/-v1[1] #to get the hedge ratio divide the best_eigenvector by the negative of the second component of best_eigenvector\n",
    "        #the regression will be: close of symbList[1] = hr[0]*close of symbList[0] + error\n",
    "        #where the beta of the regression is hr[0], also known as the hedge ratio, and\n",
    "        #the error of the regression is the mean reverting residual signal that you need to predict, it is also known as the \"spread\"\n",
    "        #the spread = close of symbList[1] - hr[0]*close of symbList[0] or alternatively (the same thing):\n",
    "        #do a regression with close of symbList[0] as x and lose of symbList[1] as y, and take the residuals of the regression to be the spread.\n",
    "        coint_pair = dict(hedge_ratio=v1[:, 0])\n",
    "        for i, s in enumerate(symbol_pairs):\n",
    "            coint_pair[f'sid_{i+1}'] = s\n",
    "\n",
    "        cointegrating_pairs.append(coint_pair)\n",
    "    \n",
    "    return cointegrating_pairs\n",
    "\n"
   ]
  },
  {
   "cell_type": "code",
   "execution_count": 37,
   "metadata": {},
   "outputs": [],
   "source": [
    "import traceback\n",
    "\n",
    "\n",
    "critical_val = 0.03\n",
    "\n",
    "\n",
    "def calculate_spread(df, coint_df, nb_symbols, selected_row, hedge_ratio):\n",
    "    spread = None\n",
    "    for i in range(nb_symbols):\n",
    "        if spread is None:\n",
    "            spread = df[coint_df[f'sid_{i + 1}'].iloc[selected_row]] * hedge_ratio[i]\n",
    "        else:\n",
    "            spread += df[coint_df[f'sid_{i + 1}'].iloc[selected_row]] * hedge_ratio[i]\n",
    "    \n",
    "    spread.dropna(inplace=True)\n",
    "    return spread\n",
    "\n",
    "\n",
    "def find_stationary_portfolio(df, coint_df, nb_symbols):\n",
    "    data = []\n",
    "    for i, _ in coint_df.iterrows():\n",
    "        try:\n",
    "            hedge_ratio = coint_df.iloc[i]['hedge_ratio']\n",
    "            spread = calculate_spread(df, coint_df, nb_symbols, i, hedge_ratio)\n",
    "            \n",
    "            p_val = adf_test(spread, verbose=False)\n",
    "            if p_val < critical_val:\n",
    "                half_life = cal_half_life(spread)\n",
    "                pairs_name = coint_df[[col for col in coint_df.columns if col != 'hedge_ratio']].iloc[i].values\n",
    "                # print(i, pairs_name, 'is stationary with half life', half_life)\n",
    "                # print(' ')\n",
    "                data.append({\n",
    "                    'i': i,\n",
    "                    'pairs': pairs_name,\n",
    "                    'half_life': half_life\n",
    "                })\n",
    "            \n",
    "        except:\n",
    "            traceback.print_exc()\n",
    "    \n",
    "    stationary_df = pd.DataFrame(data)\n",
    "    if len(stationary_df) > 0:\n",
    "        stationary_df.sort_values(by=['half_life'], inplace=True)\n",
    "    return stationary_df\n",
    "\n",
    "def zscore(x: pd.Series, window: int):\n",
    "    r = x.rolling(window=window)\n",
    "    m = r.mean().shift(1)\n",
    "    s = r.std(ddof=0).shift(1)\n",
    "    z = (x-m)/s\n",
    "    return z\n",
    "\n",
    "# find_stationary_portfolio(df, coint_df, nb_symbols)\n"
   ]
  },
  {
   "cell_type": "code",
   "execution_count": 38,
   "metadata": {},
   "outputs": [],
   "source": [
    "def calculate_coint_pairs(df, nb_symbols = 2):\n",
    "    #get symbol pairs\n",
    "    pairs = list(it.combinations(symbols, nb_symbols))\n",
    "    cointegrating_pairs = []\n",
    "\n",
    "    for pair in pairs:\n",
    "        try:\n",
    "            result = test_johansen(df, list(pair))\n",
    "        except Exception:\n",
    "            traceback.print_exc()\n",
    "            result = []\n",
    "\n",
    "        cointegrating_pairs.extend(result)\n",
    "\n",
    "    coint_df = pd.DataFrame(cointegrating_pairs)\n",
    "    return coint_df"
   ]
  },
  {
   "cell_type": "code",
   "execution_count": 39,
   "metadata": {},
   "outputs": [
    {
     "data": {
      "text/html": [
       "<div>\n",
       "<style scoped>\n",
       "    .dataframe tbody tr th:only-of-type {\n",
       "        vertical-align: middle;\n",
       "    }\n",
       "\n",
       "    .dataframe tbody tr th {\n",
       "        vertical-align: top;\n",
       "    }\n",
       "\n",
       "    .dataframe thead th {\n",
       "        text-align: right;\n",
       "    }\n",
       "</style>\n",
       "<table border=\"1\" class=\"dataframe\">\n",
       "  <thead>\n",
       "    <tr style=\"text-align: right;\">\n",
       "      <th></th>\n",
       "      <th>BTC-USDT</th>\n",
       "      <th>ETH-USDT</th>\n",
       "      <th>ADA-USDT</th>\n",
       "      <th>BNB-USDT</th>\n",
       "      <th>SOL-USDT</th>\n",
       "      <th>XRP-USDT</th>\n",
       "      <th>DOT-USDT</th>\n",
       "      <th>LINK-USDT</th>\n",
       "      <th>BCH-USDT</th>\n",
       "      <th>LTC-USDT</th>\n",
       "      <th>ALGO-USDT</th>\n",
       "      <th>MATIC-USDT</th>\n",
       "      <th>XLM-USDT</th>\n",
       "      <th>ETC-USDT</th>\n",
       "    </tr>\n",
       "    <tr>\n",
       "      <th>open_time</th>\n",
       "      <th></th>\n",
       "      <th></th>\n",
       "      <th></th>\n",
       "      <th></th>\n",
       "      <th></th>\n",
       "      <th></th>\n",
       "      <th></th>\n",
       "      <th></th>\n",
       "      <th></th>\n",
       "      <th></th>\n",
       "      <th></th>\n",
       "      <th></th>\n",
       "      <th></th>\n",
       "      <th></th>\n",
       "    </tr>\n",
       "  </thead>\n",
       "  <tbody>\n",
       "    <tr>\n",
       "      <th>2021-01-01 01:00:00</th>\n",
       "      <td>10.290395</td>\n",
       "      <td>6.619179</td>\n",
       "      <td>-1.693418</td>\n",
       "      <td>3.629183</td>\n",
       "      <td>0.450757</td>\n",
       "      <td>-1.495663</td>\n",
       "      <td>2.223758</td>\n",
       "      <td>2.440693</td>\n",
       "      <td>5.858818</td>\n",
       "      <td>4.882271</td>\n",
       "      <td>-1.064211</td>\n",
       "      <td>-4.012396</td>\n",
       "      <td>-2.015453</td>\n",
       "      <td>1.748504</td>\n",
       "    </tr>\n",
       "    <tr>\n",
       "      <th>2021-01-01 02:00:00</th>\n",
       "      <td>10.283192</td>\n",
       "      <td>6.613586</td>\n",
       "      <td>-1.692820</td>\n",
       "      <td>3.638638</td>\n",
       "      <td>0.458753</td>\n",
       "      <td>-1.496556</td>\n",
       "      <td>2.206955</td>\n",
       "      <td>2.449452</td>\n",
       "      <td>5.871498</td>\n",
       "      <td>4.894626</td>\n",
       "      <td>-1.036201</td>\n",
       "      <td>-4.017384</td>\n",
       "      <td>-2.017782</td>\n",
       "      <td>1.754404</td>\n",
       "    </tr>\n",
       "    <tr>\n",
       "      <th>2021-01-01 03:00:00</th>\n",
       "      <td>10.285415</td>\n",
       "      <td>6.614565</td>\n",
       "      <td>-1.696849</td>\n",
       "      <td>3.637455</td>\n",
       "      <td>0.465870</td>\n",
       "      <td>-1.481045</td>\n",
       "      <td>2.211785</td>\n",
       "      <td>2.443998</td>\n",
       "      <td>5.862181</td>\n",
       "      <td>4.882423</td>\n",
       "      <td>-1.023598</td>\n",
       "      <td>-4.007983</td>\n",
       "      <td>-2.031490</td>\n",
       "      <td>1.748156</td>\n",
       "    </tr>\n",
       "    <tr>\n",
       "      <th>2021-01-01 04:00:00</th>\n",
       "      <td>10.283193</td>\n",
       "      <td>6.611234</td>\n",
       "      <td>-1.703694</td>\n",
       "      <td>3.636164</td>\n",
       "      <td>0.466058</td>\n",
       "      <td>-1.430037</td>\n",
       "      <td>2.205744</td>\n",
       "      <td>2.440084</td>\n",
       "      <td>5.853983</td>\n",
       "      <td>4.876113</td>\n",
       "      <td>-1.041004</td>\n",
       "      <td>-4.011291</td>\n",
       "      <td>-2.012680</td>\n",
       "      <td>1.755441</td>\n",
       "    </tr>\n",
       "    <tr>\n",
       "      <th>2021-01-01 05:00:00</th>\n",
       "      <td>10.282396</td>\n",
       "      <td>6.608823</td>\n",
       "      <td>-1.696959</td>\n",
       "      <td>3.631515</td>\n",
       "      <td>0.466686</td>\n",
       "      <td>-1.432548</td>\n",
       "      <td>2.211456</td>\n",
       "      <td>2.437815</td>\n",
       "      <td>5.853753</td>\n",
       "      <td>4.876265</td>\n",
       "      <td>-1.021374</td>\n",
       "      <td>-4.015164</td>\n",
       "      <td>-2.012082</td>\n",
       "      <td>1.751285</td>\n",
       "    </tr>\n",
       "  </tbody>\n",
       "</table>\n",
       "</div>"
      ],
      "text/plain": [
       "                      BTC-USDT  ETH-USDT  ADA-USDT  BNB-USDT  SOL-USDT  \\\n",
       "open_time                                                                \n",
       "2021-01-01 01:00:00  10.290395  6.619179 -1.693418  3.629183  0.450757   \n",
       "2021-01-01 02:00:00  10.283192  6.613586 -1.692820  3.638638  0.458753   \n",
       "2021-01-01 03:00:00  10.285415  6.614565 -1.696849  3.637455  0.465870   \n",
       "2021-01-01 04:00:00  10.283193  6.611234 -1.703694  3.636164  0.466058   \n",
       "2021-01-01 05:00:00  10.282396  6.608823 -1.696959  3.631515  0.466686   \n",
       "\n",
       "                     XRP-USDT  DOT-USDT  LINK-USDT  BCH-USDT  LTC-USDT  \\\n",
       "open_time                                                                \n",
       "2021-01-01 01:00:00 -1.495663  2.223758   2.440693  5.858818  4.882271   \n",
       "2021-01-01 02:00:00 -1.496556  2.206955   2.449452  5.871498  4.894626   \n",
       "2021-01-01 03:00:00 -1.481045  2.211785   2.443998  5.862181  4.882423   \n",
       "2021-01-01 04:00:00 -1.430037  2.205744   2.440084  5.853983  4.876113   \n",
       "2021-01-01 05:00:00 -1.432548  2.211456   2.437815  5.853753  4.876265   \n",
       "\n",
       "                     ALGO-USDT  MATIC-USDT  XLM-USDT  ETC-USDT  \n",
       "open_time                                                       \n",
       "2021-01-01 01:00:00  -1.064211   -4.012396 -2.015453  1.748504  \n",
       "2021-01-01 02:00:00  -1.036201   -4.017384 -2.017782  1.754404  \n",
       "2021-01-01 03:00:00  -1.023598   -4.007983 -2.031490  1.748156  \n",
       "2021-01-01 04:00:00  -1.041004   -4.011291 -2.012680  1.755441  \n",
       "2021-01-01 05:00:00  -1.021374   -4.015164 -2.012082  1.751285  "
      ]
     },
     "execution_count": 39,
     "metadata": {},
     "output_type": "execute_result"
    }
   ],
   "source": [
    "start_date = '2021-01-01'\n",
    "end_date = '2021-12-30'\n",
    "\n",
    "\n",
    "df = get_data(start_date, end_date)\n",
    "df.head()"
   ]
  },
  {
   "cell_type": "code",
   "execution_count": null,
   "metadata": {},
   "outputs": [],
   "source": [
    "nb_symbols = 2\n",
    "coint_df = calculate_coint_pairs(df, nb_symbols)\n",
    "stationary_df = find_stationary_portfolio(df, coint_df, nb_symbols)\n",
    "stationary_df.head()"
   ]
  },
  {
   "cell_type": "code",
   "execution_count": 41,
   "metadata": {},
   "outputs": [
    {
     "data": {
      "text/plain": [
       "[{'hedge_ratio': array([ 8.04449413, -8.43968412]),\n",
       "  'sid_1': 'LINK-USDT',\n",
       "  'sid_2': 'XLM-USDT'}]"
      ]
     },
     "execution_count": 41,
     "metadata": {},
     "output_type": "execute_result"
    }
   ],
   "source": [
    "test_johansen(df, list(['LINK-USDT', 'XLM-USDT']))"
   ]
  },
  {
   "cell_type": "code",
   "execution_count": 45,
   "metadata": {},
   "outputs": [
    {
     "data": {
      "text/plain": [
       "{'hedge_ratio': array([ 8.04449413, -8.43968412]),\n",
       " 'sid_1': 'LINK-USDT',\n",
       " 'sid_2': 'XLM-USDT',\n",
       " 'pair': ['LINK-USDT', 'XLM-USDT'],\n",
       " 'half_life': 106}"
      ]
     },
     "execution_count": 45,
     "metadata": {},
     "output_type": "execute_result"
    }
   ],
   "source": [
    "i = 37\n",
    "selected = coint_df.iloc[i].to_dict()\n",
    "selected['pair'] = list(stationary_df[stationary_df.i == i].pairs.iloc[-1])\n",
    "selected['half_life'] = stationary_df[stationary_df.i == i].half_life.iloc[-1]\n",
    "# stationary_df.loc[i]\n",
    "selected"
   ]
  },
  {
   "cell_type": "code",
   "execution_count": 46,
   "metadata": {},
   "outputs": [],
   "source": [
    "spread = calculate_spread(df, coint_df, nb_symbols, i, selected['hedge_ratio'])\n",
    "spread.dropna(inplace=True)\n",
    "# spread"
   ]
  },
  {
   "cell_type": "code",
   "execution_count": 47,
   "metadata": {},
   "outputs": [
    {
     "data": {
      "image/png": "[encoded data removed]",
      "text/plain": [
       "<Figure size 720x432 with 1 Axes>"
      ]
     },
     "metadata": {
      "needs_background": "light"
     },
     "output_type": "display_data"
    }
   ],
   "source": [
    "spread.plot() # Plot the spread\n",
    "plt.axhline(spread.mean(), color='red', linestyle='--') # Add the mean\n",
    "plt.xlabel('Time')\n",
    "plt.legend(['Price Spread', 'Mean'])\n",
    "plt.show()"
   ]
  },
  {
   "cell_type": "code",
   "execution_count": 48,
   "metadata": {},
   "outputs": [
    {
     "name": "stderr",
     "output_type": "stream",
     "text": [
      "/home/bean/miniconda3/envs/trade/lib/python3.7/site-packages/statsmodels/tsa/tsatools.py:142: FutureWarning: In a future version of pandas all arguments of concat except for the argument 'objs' will be keyword-only\n",
      "  x = pd.concat(x[::order], 1)\n"
     ]
    }
   ],
   "source": [
    "def hedge_ratio(Y, X):\n",
    "    # Look into using Kalman Filter to calculate the hedge ratio\n",
    "    X = sm.add_constant(X)\n",
    "    model = sm.OLS(Y, X).fit()\n",
    "    return model.params[1]\n",
    "\n",
    "hedge_r = hedge_ratio(df[selected['sid_1']], df[selected['sid_2']])"
   ]
  },
  {
   "cell_type": "code",
   "execution_count": 49,
   "metadata": {},
   "outputs": [
    {
     "data": {
      "image/png": "[encoded data removed]",
      "text/plain": [
       "<Figure size 720x432 with 1 Axes>"
      ]
     },
     "metadata": {
      "needs_background": "light"
     },
     "output_type": "display_data"
    }
   ],
   "source": [
    "spread = df[selected['sid_1']] - hedge_r * df[selected['sid_2']]\n",
    "spread.plot()\n",
    "plt.show()"
   ]
  },
  {
   "cell_type": "code",
   "execution_count": null,
   "metadata": {},
   "outputs": [],
   "source": []
  }
 ],
 "metadata": {
  "kernelspec": {
   "display_name": "trade",
   "language": "python",
   "name": "python3"
  },
  "language_info": {
   "codemirror_mode": {
    "name": "ipython",
    "version": 3
   },
   "file_extension": ".py",
   "mimetype": "text/x-python",
   "name": "python",
   "nbconvert_exporter": "python",
   "pygments_lexer": "ipython3",
   "version": "3.7.11"
  },
  "orig_nbformat": 4
 },
 "nbformat": 4,
 "nbformat_minor": 2
}
