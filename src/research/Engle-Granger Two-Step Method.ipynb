{
 "cells": [
  {
   "cell_type": "code",
   "execution_count": 91,
   "metadata": {},
   "outputs": [],
   "source": [
    "import sys\n",
    "\n",
    "sys.path.append(\"../\")\n"
   ]
  },
  {
   "cell_type": "code",
   "execution_count": 92,
   "metadata": {},
   "outputs": [],
   "source": [
    "import pandas as pd\n",
    "import numpy as np\n",
    "from statsmodels.tsa.stattools import adfuller, kpss\n",
    "from datetime import datetime, timedelta\n",
    "from arch.unitroot import PhillipsPerron\n",
    "import statsmodels.api as sm\n",
    "import statsmodels.formula.api as smf\n",
    "\n",
    "import matplotlib.pyplot as plt\n",
    "\n",
    "DATA_PATH = '../data/1h'"
   ]
  },
  {
   "cell_type": "code",
   "execution_count": 93,
   "metadata": {},
   "outputs": [
    {
     "data": {
      "text/html": [
       "<div>\n",
       "<style scoped>\n",
       "    .dataframe tbody tr th:only-of-type {\n",
       "        vertical-align: middle;\n",
       "    }\n",
       "\n",
       "    .dataframe tbody tr th {\n",
       "        vertical-align: top;\n",
       "    }\n",
       "\n",
       "    .dataframe thead th {\n",
       "        text-align: right;\n",
       "    }\n",
       "</style>\n",
       "<table border=\"1\" class=\"dataframe\">\n",
       "  <thead>\n",
       "    <tr style=\"text-align: right;\">\n",
       "      <th></th>\n",
       "      <th>BTC-USDT</th>\n",
       "      <th>ETH-USDT</th>\n",
       "      <th>BCH-USDT</th>\n",
       "      <th>LTC-USDT</th>\n",
       "    </tr>\n",
       "    <tr>\n",
       "      <th>open_time</th>\n",
       "      <th></th>\n",
       "      <th></th>\n",
       "      <th></th>\n",
       "      <th></th>\n",
       "    </tr>\n",
       "  </thead>\n",
       "  <tbody>\n",
       "    <tr>\n",
       "      <th>2019-11-28 10:00:00</th>\n",
       "      <td>7478.58</td>\n",
       "      <td>151.13</td>\n",
       "      <td>218.98</td>\n",
       "      <td>47.23</td>\n",
       "    </tr>\n",
       "    <tr>\n",
       "      <th>2019-11-28 11:00:00</th>\n",
       "      <td>7479.54</td>\n",
       "      <td>151.57</td>\n",
       "      <td>219.04</td>\n",
       "      <td>47.36</td>\n",
       "    </tr>\n",
       "    <tr>\n",
       "      <th>2019-11-28 12:00:00</th>\n",
       "      <td>7444.12</td>\n",
       "      <td>150.79</td>\n",
       "      <td>217.53</td>\n",
       "      <td>46.84</td>\n",
       "    </tr>\n",
       "    <tr>\n",
       "      <th>2019-11-28 13:00:00</th>\n",
       "      <td>7455.67</td>\n",
       "      <td>151.02</td>\n",
       "      <td>218.29</td>\n",
       "      <td>46.91</td>\n",
       "    </tr>\n",
       "    <tr>\n",
       "      <th>2019-11-28 14:00:00</th>\n",
       "      <td>7459.51</td>\n",
       "      <td>150.89</td>\n",
       "      <td>218.67</td>\n",
       "      <td>47.03</td>\n",
       "    </tr>\n",
       "  </tbody>\n",
       "</table>\n",
       "</div>"
      ],
      "text/plain": [
       "                     BTC-USDT  ETH-USDT  BCH-USDT  LTC-USDT\n",
       "open_time                                                  \n",
       "2019-11-28 10:00:00   7478.58    151.13    218.98     47.23\n",
       "2019-11-28 11:00:00   7479.54    151.57    219.04     47.36\n",
       "2019-11-28 12:00:00   7444.12    150.79    217.53     46.84\n",
       "2019-11-28 13:00:00   7455.67    151.02    218.29     46.91\n",
       "2019-11-28 14:00:00   7459.51    150.89    218.67     47.03"
      ]
     },
     "execution_count": 93,
     "metadata": {},
     "output_type": "execute_result"
    }
   ],
   "source": [
    "import traceback\n",
    "\n",
    "selected_pairs = ['BTC-USDT', 'ETH-USDT', 'BCH-USDT', 'LTC-USDT']\n",
    "\n",
    "data = []\n",
    "start_date = '2017-01-01'\n",
    "test_end = '2020-12-01'\n",
    "end_date = '2021-01-01'\n",
    "\n",
    "for symbol in selected_pairs:\n",
    "    try:\n",
    "        df = pd.read_csv(f'{DATA_PATH}/{symbol}.csv', \n",
    "                        parse_dates=['open_time'], \n",
    "                        index_col=['open_time'])\n",
    "\n",
    "        df.rename(columns={'close': symbol}, inplace=True)\n",
    "        df = df[~df.index.duplicated(keep='first')]\n",
    "        # the data is too long, just limit to recent period\n",
    "        data.append(df[(df.index < test_end) & (df.index > start_date)][symbol])\n",
    "    except:\n",
    "        traceback.print_exc()\n",
    "\n",
    "df = pd.concat(data, axis=1)\n",
    "df = df.dropna(axis=1, how='all')\n",
    "df.dropna(inplace=True, how='any')\n",
    "\n",
    "df.head()"
   ]
  },
  {
   "cell_type": "code",
   "execution_count": 94,
   "metadata": {},
   "outputs": [
    {
     "data": {
      "text/html": [
       "<div>\n",
       "<style scoped>\n",
       "    .dataframe tbody tr th:only-of-type {\n",
       "        vertical-align: middle;\n",
       "    }\n",
       "\n",
       "    .dataframe tbody tr th {\n",
       "        vertical-align: top;\n",
       "    }\n",
       "\n",
       "    .dataframe thead th {\n",
       "        text-align: right;\n",
       "    }\n",
       "</style>\n",
       "<table border=\"1\" class=\"dataframe\">\n",
       "  <thead>\n",
       "    <tr style=\"text-align: right;\">\n",
       "      <th></th>\n",
       "      <th>BTC-USDT</th>\n",
       "      <th>ETH-USDT</th>\n",
       "      <th>BCH-USDT</th>\n",
       "      <th>LTC-USDT</th>\n",
       "    </tr>\n",
       "    <tr>\n",
       "      <th>open_time</th>\n",
       "      <th></th>\n",
       "      <th></th>\n",
       "      <th></th>\n",
       "      <th></th>\n",
       "    </tr>\n",
       "  </thead>\n",
       "  <tbody>\n",
       "    <tr>\n",
       "      <th>2020-11-30 19:00:00</th>\n",
       "      <td>19259.98</td>\n",
       "      <td>602.39</td>\n",
       "      <td>310.88</td>\n",
       "      <td>85.64</td>\n",
       "    </tr>\n",
       "    <tr>\n",
       "      <th>2020-11-30 20:00:00</th>\n",
       "      <td>19439.48</td>\n",
       "      <td>605.99</td>\n",
       "      <td>312.78</td>\n",
       "      <td>86.53</td>\n",
       "    </tr>\n",
       "    <tr>\n",
       "      <th>2020-11-30 21:00:00</th>\n",
       "      <td>19381.25</td>\n",
       "      <td>605.58</td>\n",
       "      <td>314.11</td>\n",
       "      <td>86.62</td>\n",
       "    </tr>\n",
       "    <tr>\n",
       "      <th>2020-11-30 22:00:00</th>\n",
       "      <td>19499.99</td>\n",
       "      <td>610.62</td>\n",
       "      <td>320.96</td>\n",
       "      <td>87.79</td>\n",
       "    </tr>\n",
       "    <tr>\n",
       "      <th>2020-11-30 23:00:00</th>\n",
       "      <td>19695.87</td>\n",
       "      <td>616.66</td>\n",
       "      <td>317.49</td>\n",
       "      <td>87.65</td>\n",
       "    </tr>\n",
       "  </tbody>\n",
       "</table>\n",
       "</div>"
      ],
      "text/plain": [
       "                     BTC-USDT  ETH-USDT  BCH-USDT  LTC-USDT\n",
       "open_time                                                  \n",
       "2020-11-30 19:00:00  19259.98    602.39    310.88     85.64\n",
       "2020-11-30 20:00:00  19439.48    605.99    312.78     86.53\n",
       "2020-11-30 21:00:00  19381.25    605.58    314.11     86.62\n",
       "2020-11-30 22:00:00  19499.99    610.62    320.96     87.79\n",
       "2020-11-30 23:00:00  19695.87    616.66    317.49     87.65"
      ]
     },
     "execution_count": 94,
     "metadata": {},
     "output_type": "execute_result"
    }
   ],
   "source": [
    "df.tail()\n"
   ]
  },
  {
   "cell_type": "code",
   "execution_count": 95,
   "metadata": {},
   "outputs": [],
   "source": [
    "def adf_test(timeseries, verbose=False):\n",
    "    dftest = adfuller(timeseries, autolag='AIC')\n",
    "    dfoutput = pd.Series(dftest[0:4], index=['Test Statistic','p-value','#Lags Used','Number of Observations Used'])\n",
    "    \n",
    "    if verbose:\n",
    "        print ('Results of Dickey-Fuller Test:')\n",
    "        for key,value in dftest[4].items():\n",
    "            dfoutput['Critical Value (%s)'%key] = value\n",
    "        print(dfoutput)\n",
    "    return dfoutput['p-value']"
   ]
  },
  {
   "cell_type": "code",
   "execution_count": 96,
   "metadata": {},
   "outputs": [],
   "source": [
    "def pp_test(timeseries, verbose=False):\n",
    "    pp = PhillipsPerron(timeseries)\n",
    "    if verbose:\n",
    "        print(pp.summary().as_text())\n",
    "    \n",
    "    return pp.pvalue\n",
    "\n",
    "\n",
    "def kpss_test(timeseries, verbose=False):\n",
    "    kpsstest = kpss(timeseries, regression='c', nlags=\"auto\")\n",
    "    kpss_output = pd.Series(kpsstest[0:3], index=['Test Statistic','p-value','Lags Used'])\n",
    "\n",
    "    if verbose:\n",
    "        print ('Results of KPSS Test:')\n",
    "        for key,value in kpsstest[3].items():\n",
    "            kpss_output['Critical Value (%s)'%key] = value\n",
    "        print (kpss_output)\n",
    "    return kpss_output['p-value']\n"
   ]
  },
  {
   "cell_type": "code",
   "execution_count": 97,
   "metadata": {},
   "outputs": [],
   "source": [
    "methods = {\n",
    "    'adf': adf_test,\n",
    "    'pp': pp_test,\n",
    "    'kpss': kpss_test\n",
    "}\n",
    "\n",
    "\n",
    "def perform_test(method, series):\n",
    "    func_ = methods[method]\n",
    "    \n",
    "    # p_v1 = func_(np.log(series))\n",
    "    p_v1 = func_(series)\n",
    "\n",
    "    # diff = np.log(series) - np.log(series.shift(1))\n",
    "    diff = series.diff()\n",
    "    diff.dropna(inplace=True)\n",
    "    p_v2 = func_(diff)\n",
    "\n",
    "    return p_v1, p_v2"
   ]
  },
  {
   "cell_type": "code",
   "execution_count": 98,
   "metadata": {},
   "outputs": [
    {
     "name": "stderr",
     "output_type": "stream",
     "text": [
      "C:\\Users\\Admin\\anaconda3\\envs\\mlfin\\lib\\site-packages\\statsmodels\\tsa\\stattools.py:1907: InterpolationWarning: The test statistic is outside of the range of p-values available in the\n",
      "look-up table. The actual p-value is smaller than the p-value returned.\n",
      "\n",
      "  warn_msg.format(direction=\"smaller\"), InterpolationWarning\n",
      "C:\\Users\\Admin\\anaconda3\\envs\\mlfin\\lib\\site-packages\\statsmodels\\tsa\\stattools.py:1907: InterpolationWarning: The test statistic is outside of the range of p-values available in the\n",
      "look-up table. The actual p-value is smaller than the p-value returned.\n",
      "\n",
      "  warn_msg.format(direction=\"smaller\"), InterpolationWarning\n",
      "C:\\Users\\Admin\\anaconda3\\envs\\mlfin\\lib\\site-packages\\statsmodels\\tsa\\stattools.py:1911: InterpolationWarning: The test statistic is outside of the range of p-values available in the\n",
      "look-up table. The actual p-value is greater than the p-value returned.\n",
      "\n",
      "  warn_msg.format(direction=\"greater\"), InterpolationWarning\n",
      "C:\\Users\\Admin\\anaconda3\\envs\\mlfin\\lib\\site-packages\\statsmodels\\tsa\\stattools.py:1907: InterpolationWarning: The test statistic is outside of the range of p-values available in the\n",
      "look-up table. The actual p-value is smaller than the p-value returned.\n",
      "\n",
      "  warn_msg.format(direction=\"smaller\"), InterpolationWarning\n",
      "C:\\Users\\Admin\\anaconda3\\envs\\mlfin\\lib\\site-packages\\statsmodels\\tsa\\stattools.py:1911: InterpolationWarning: The test statistic is outside of the range of p-values available in the\n",
      "look-up table. The actual p-value is greater than the p-value returned.\n",
      "\n",
      "  warn_msg.format(direction=\"greater\"), InterpolationWarning\n",
      "C:\\Users\\Admin\\anaconda3\\envs\\mlfin\\lib\\site-packages\\statsmodels\\tsa\\stattools.py:1907: InterpolationWarning: The test statistic is outside of the range of p-values available in the\n",
      "look-up table. The actual p-value is smaller than the p-value returned.\n",
      "\n",
      "  warn_msg.format(direction=\"smaller\"), InterpolationWarning\n",
      "C:\\Users\\Admin\\anaconda3\\envs\\mlfin\\lib\\site-packages\\statsmodels\\tsa\\stattools.py:1911: InterpolationWarning: The test statistic is outside of the range of p-values available in the\n",
      "look-up table. The actual p-value is greater than the p-value returned.\n",
      "\n",
      "  warn_msg.format(direction=\"greater\"), InterpolationWarning\n"
     ]
    },
    {
     "data": {
      "text/html": [
       "<div>\n",
       "<style scoped>\n",
       "    .dataframe tbody tr th:only-of-type {\n",
       "        vertical-align: middle;\n",
       "    }\n",
       "\n",
       "    .dataframe tbody tr th {\n",
       "        vertical-align: top;\n",
       "    }\n",
       "\n",
       "    .dataframe thead th {\n",
       "        text-align: right;\n",
       "    }\n",
       "</style>\n",
       "<table border=\"1\" class=\"dataframe\">\n",
       "  <thead>\n",
       "    <tr style=\"text-align: right;\">\n",
       "      <th></th>\n",
       "      <th>BTC-USDT</th>\n",
       "      <th>d_BTC-USDT</th>\n",
       "      <th>ETH-USDT</th>\n",
       "      <th>d_ETH-USDT</th>\n",
       "      <th>BCH-USDT</th>\n",
       "      <th>d_BCH-USDT</th>\n",
       "      <th>LTC-USDT</th>\n",
       "      <th>d_LTC-USDT</th>\n",
       "    </tr>\n",
       "  </thead>\n",
       "  <tbody>\n",
       "    <tr>\n",
       "      <th>adf</th>\n",
       "      <td>0.997893</td>\n",
       "      <td>2.444898e-30</td>\n",
       "      <td>0.986741</td>\n",
       "      <td>7.194747e-25</td>\n",
       "      <td>0.202049</td>\n",
       "      <td>2.150136e-30</td>\n",
       "      <td>0.708381</td>\n",
       "      <td>8.295952e-28</td>\n",
       "    </tr>\n",
       "    <tr>\n",
       "      <th>pp</th>\n",
       "      <td>0.997711</td>\n",
       "      <td>0.000000e+00</td>\n",
       "      <td>0.992613</td>\n",
       "      <td>0.000000e+00</td>\n",
       "      <td>0.167270</td>\n",
       "      <td>0.000000e+00</td>\n",
       "      <td>0.724914</td>\n",
       "      <td>0.000000e+00</td>\n",
       "    </tr>\n",
       "    <tr>\n",
       "      <th>kpss</th>\n",
       "      <td>0.010000</td>\n",
       "      <td>3.734813e-02</td>\n",
       "      <td>0.010000</td>\n",
       "      <td>1.000000e-01</td>\n",
       "      <td>0.010000</td>\n",
       "      <td>1.000000e-01</td>\n",
       "      <td>0.010000</td>\n",
       "      <td>1.000000e-01</td>\n",
       "    </tr>\n",
       "  </tbody>\n",
       "</table>\n",
       "</div>"
      ],
      "text/plain": [
       "      BTC-USDT    d_BTC-USDT  ETH-USDT    d_ETH-USDT  BCH-USDT    d_BCH-USDT  \\\n",
       "adf   0.997893  2.444898e-30  0.986741  7.194747e-25  0.202049  2.150136e-30   \n",
       "pp    0.997711  0.000000e+00  0.992613  0.000000e+00  0.167270  0.000000e+00   \n",
       "kpss  0.010000  3.734813e-02  0.010000  1.000000e-01  0.010000  1.000000e-01   \n",
       "\n",
       "      LTC-USDT    d_LTC-USDT  \n",
       "adf   0.708381  8.295952e-28  \n",
       "pp    0.724914  0.000000e+00  \n",
       "kpss  0.010000  1.000000e-01  "
      ]
     },
     "execution_count": 98,
     "metadata": {},
     "output_type": "execute_result"
    }
   ],
   "source": [
    "data = {\n",
    "    'adf': [],\n",
    "    'pp': [],\n",
    "    'kpss': []\n",
    "}\n",
    "columns = []\n",
    "\n",
    "for col in df.columns:\n",
    "    for test in methods.keys():\n",
    "        p1, p2 = perform_test(test, df[col])\n",
    "        data[test].append(p1)\n",
    "        data[test].append(p2)\n",
    "    \n",
    "    if col not in columns:\n",
    "        columns.append(col)\n",
    "    \n",
    "    if f'd_{col}' not in columns:\n",
    "        columns.append(f'd_{col}')\n",
    "\n",
    "    \n",
    "\n",
    "test_df = pd.DataFrame.from_dict(data, orient='index', columns=columns)\n",
    "test_df.head()"
   ]
  },
  {
   "cell_type": "markdown",
   "metadata": {},
   "source": [
    "The prices are not stationary but they all become stationary after the first differencing.\n",
    "For both adf and pp for the first differencing, `p-value` < 0.05 so we can reject the null.\n",
    "KPSS all 3 diff series is above the critical value so we can accept the null (series is stationary).\n",
    "\n",
    "Therefore, we can conclude that ETH, BCH, XLM are `I(1)` processes.\n",
    "\n",
    "which:\n",
    "- I(0): trend stationary\n",
    "- I(1): diference stationary"
   ]
  },
  {
   "cell_type": "markdown",
   "metadata": {},
   "source": [
    "\n",
    "The Engle-Granger method involves a linear regression on given time series data which,\n",
    "in this case, is BTC; but it is not important which cryptocurrency is taken as the dependent\n",
    "variable. We propose the following OLS model:\n",
    "\n",
    "$$\n",
    "ETH_t = c + \\beta_1 BCH_t + \\beta_2 XLM_t + \\epsilon_t\n",
    "$$"
   ]
  },
  {
   "cell_type": "code",
   "execution_count": 99,
   "metadata": {},
   "outputs": [],
   "source": [
    "renamed = {col: col.replace('-USDT', '') for col in df.columns}\n",
    "\n",
    "df.rename(columns=renamed, inplace=True)"
   ]
  },
  {
   "cell_type": "code",
   "execution_count": 100,
   "metadata": {},
   "outputs": [
    {
     "data": {
      "text/html": [
       "<div>\n",
       "<style scoped>\n",
       "    .dataframe tbody tr th:only-of-type {\n",
       "        vertical-align: middle;\n",
       "    }\n",
       "\n",
       "    .dataframe tbody tr th {\n",
       "        vertical-align: top;\n",
       "    }\n",
       "\n",
       "    .dataframe thead th {\n",
       "        text-align: right;\n",
       "    }\n",
       "</style>\n",
       "<table border=\"1\" class=\"dataframe\">\n",
       "  <thead>\n",
       "    <tr style=\"text-align: right;\">\n",
       "      <th></th>\n",
       "      <th>const</th>\n",
       "      <th>BTC</th>\n",
       "      <th>ETH</th>\n",
       "      <th>BCH</th>\n",
       "      <th>LTC</th>\n",
       "    </tr>\n",
       "    <tr>\n",
       "      <th>open_time</th>\n",
       "      <th></th>\n",
       "      <th></th>\n",
       "      <th></th>\n",
       "      <th></th>\n",
       "      <th></th>\n",
       "    </tr>\n",
       "  </thead>\n",
       "  <tbody>\n",
       "    <tr>\n",
       "      <th>2019-11-28 10:00:00</th>\n",
       "      <td>1.0</td>\n",
       "      <td>7478.58</td>\n",
       "      <td>151.13</td>\n",
       "      <td>218.98</td>\n",
       "      <td>47.23</td>\n",
       "    </tr>\n",
       "    <tr>\n",
       "      <th>2019-11-28 11:00:00</th>\n",
       "      <td>1.0</td>\n",
       "      <td>7479.54</td>\n",
       "      <td>151.57</td>\n",
       "      <td>219.04</td>\n",
       "      <td>47.36</td>\n",
       "    </tr>\n",
       "    <tr>\n",
       "      <th>2019-11-28 12:00:00</th>\n",
       "      <td>1.0</td>\n",
       "      <td>7444.12</td>\n",
       "      <td>150.79</td>\n",
       "      <td>217.53</td>\n",
       "      <td>46.84</td>\n",
       "    </tr>\n",
       "    <tr>\n",
       "      <th>2019-11-28 13:00:00</th>\n",
       "      <td>1.0</td>\n",
       "      <td>7455.67</td>\n",
       "      <td>151.02</td>\n",
       "      <td>218.29</td>\n",
       "      <td>46.91</td>\n",
       "    </tr>\n",
       "    <tr>\n",
       "      <th>2019-11-28 14:00:00</th>\n",
       "      <td>1.0</td>\n",
       "      <td>7459.51</td>\n",
       "      <td>150.89</td>\n",
       "      <td>218.67</td>\n",
       "      <td>47.03</td>\n",
       "    </tr>\n",
       "    <tr>\n",
       "      <th>...</th>\n",
       "      <td>...</td>\n",
       "      <td>...</td>\n",
       "      <td>...</td>\n",
       "      <td>...</td>\n",
       "      <td>...</td>\n",
       "    </tr>\n",
       "    <tr>\n",
       "      <th>2020-11-30 19:00:00</th>\n",
       "      <td>1.0</td>\n",
       "      <td>19259.98</td>\n",
       "      <td>602.39</td>\n",
       "      <td>310.88</td>\n",
       "      <td>85.64</td>\n",
       "    </tr>\n",
       "    <tr>\n",
       "      <th>2020-11-30 20:00:00</th>\n",
       "      <td>1.0</td>\n",
       "      <td>19439.48</td>\n",
       "      <td>605.99</td>\n",
       "      <td>312.78</td>\n",
       "      <td>86.53</td>\n",
       "    </tr>\n",
       "    <tr>\n",
       "      <th>2020-11-30 21:00:00</th>\n",
       "      <td>1.0</td>\n",
       "      <td>19381.25</td>\n",
       "      <td>605.58</td>\n",
       "      <td>314.11</td>\n",
       "      <td>86.62</td>\n",
       "    </tr>\n",
       "    <tr>\n",
       "      <th>2020-11-30 22:00:00</th>\n",
       "      <td>1.0</td>\n",
       "      <td>19499.99</td>\n",
       "      <td>610.62</td>\n",
       "      <td>320.96</td>\n",
       "      <td>87.79</td>\n",
       "    </tr>\n",
       "    <tr>\n",
       "      <th>2020-11-30 23:00:00</th>\n",
       "      <td>1.0</td>\n",
       "      <td>19695.87</td>\n",
       "      <td>616.66</td>\n",
       "      <td>317.49</td>\n",
       "      <td>87.65</td>\n",
       "    </tr>\n",
       "  </tbody>\n",
       "</table>\n",
       "<p>8833 rows × 5 columns</p>\n",
       "</div>"
      ],
      "text/plain": [
       "                     const       BTC     ETH     BCH    LTC\n",
       "open_time                                                  \n",
       "2019-11-28 10:00:00    1.0   7478.58  151.13  218.98  47.23\n",
       "2019-11-28 11:00:00    1.0   7479.54  151.57  219.04  47.36\n",
       "2019-11-28 12:00:00    1.0   7444.12  150.79  217.53  46.84\n",
       "2019-11-28 13:00:00    1.0   7455.67  151.02  218.29  46.91\n",
       "2019-11-28 14:00:00    1.0   7459.51  150.89  218.67  47.03\n",
       "...                    ...       ...     ...     ...    ...\n",
       "2020-11-30 19:00:00    1.0  19259.98  602.39  310.88  85.64\n",
       "2020-11-30 20:00:00    1.0  19439.48  605.99  312.78  86.53\n",
       "2020-11-30 21:00:00    1.0  19381.25  605.58  314.11  86.62\n",
       "2020-11-30 22:00:00    1.0  19499.99  610.62  320.96  87.79\n",
       "2020-11-30 23:00:00    1.0  19695.87  616.66  317.49  87.65\n",
       "\n",
       "[8833 rows x 5 columns]"
      ]
     },
     "execution_count": 100,
     "metadata": {},
     "output_type": "execute_result"
    }
   ],
   "source": [
    "df = sm.add_constant(df)\n",
    "df"
   ]
  },
  {
   "cell_type": "code",
   "execution_count": 101,
   "metadata": {},
   "outputs": [
    {
     "name": "stdout",
     "output_type": "stream",
     "text": [
      "                            OLS Regression Results                            \n",
      "==============================================================================\n",
      "Dep. Variable:                    BTC   R-squared:                       0.908\n",
      "Model:                            OLS   Adj. R-squared:                  0.908\n",
      "Method:                 Least Squares   F-statistic:                 2.897e+04\n",
      "Date:                Sat, 13 Nov 2021   Prob (F-statistic):               0.00\n",
      "Time:                        14:11:11   Log-Likelihood:                -71653.\n",
      "No. Observations:                8833   AIC:                         1.433e+05\n",
      "Df Residuals:                    8829   BIC:                         1.433e+05\n",
      "Df Model:                           3                                         \n",
      "Covariance Type:            nonrobust                                         \n",
      "==============================================================================\n",
      "                 coef    std err          t      P>|t|      [0.025      0.975]\n",
      "------------------------------------------------------------------------------\n",
      "Intercept   1385.2220     21.041     65.833      0.000    1343.976    1426.468\n",
      "const       1385.2220     21.041     65.833      0.000    1343.976    1426.468\n",
      "LTC          123.1079      2.042     60.284      0.000     119.105     127.111\n",
      "BCH          -13.4837      0.332    -40.586      0.000     -14.135     -12.832\n",
      "ETH           16.1013      0.119    135.670      0.000      15.869      16.334\n",
      "==============================================================================\n",
      "Omnibus:                       91.951   Durbin-Watson:                   0.004\n",
      "Prob(Omnibus):                  0.000   Jarque-Bera (JB):               59.696\n",
      "Skew:                          -0.044   Prob(JB):                     1.09e-13\n",
      "Kurtosis:                       2.607   Cond. No.                     3.98e+18\n",
      "==============================================================================\n",
      "\n",
      "Notes:\n",
      "[1] Standard Errors assume that the covariance matrix of the errors is correctly specified.\n",
      "[2] The smallest eigenvalue is 8.37e-29. This might indicate that there are\n",
      "strong multicollinearity problems or that the design matrix is singular.\n"
     ]
    }
   ],
   "source": [
    "\n",
    "model = sm.OLS.from_formula(formula='BTC ~ const + LTC + BCH + ETH', data=df)\n",
    "\n",
    "results = model.fit()\n",
    "\n",
    "print(results.summary())"
   ]
  },
  {
   "cell_type": "markdown",
   "metadata": {},
   "source": [
    "From above Table, we obtain the relationships:\n",
    "\n",
    "$$\n",
    "ETH = 0.38 + 1.141BCH + 0.08XLM + \\epsilon_t\n",
    "$$\n",
    "\n",
    "Notably, all the regressing coefficients appear to be statistically significant with p-values less than 1%.\n",
    "R-squared: 0.935%."
   ]
  },
  {
   "cell_type": "code",
   "execution_count": 102,
   "metadata": {},
   "outputs": [
    {
     "data": {
      "text/plain": [
       "open_time\n",
       "2019-11-28 10:00:00   -586.991076\n",
       "2019-11-28 11:00:00   -608.310665\n",
       "2019-11-28 12:00:00   -587.515840\n",
       "2019-11-28 13:00:00   -578.039116\n",
       "2019-11-28 14:00:00   -581.755108\n",
       "dtype: float64"
      ]
     },
     "execution_count": 102,
     "metadata": {},
     "output_type": "execute_result"
    }
   ],
   "source": [
    "results.resid.head()"
   ]
  },
  {
   "cell_type": "code",
   "execution_count": 103,
   "metadata": {},
   "outputs": [
    {
     "data": {
      "text/plain": [
       "Intercept    1385.221959\n",
       "const        1385.221959\n",
       "LTC           123.107942\n",
       "BCH           -13.483659\n",
       "ETH            16.101309\n",
       "dtype: float64"
      ]
     },
     "execution_count": 103,
     "metadata": {},
     "output_type": "execute_result"
    }
   ],
   "source": [
    "results.params"
   ]
  },
  {
   "cell_type": "code",
   "execution_count": 104,
   "metadata": {},
   "outputs": [
    {
     "data": {
      "text/plain": [
       "<matplotlib.axes._subplots.AxesSubplot at 0x1ac34f5c860>"
      ]
     },
     "execution_count": 104,
     "metadata": {},
     "output_type": "execute_result"
    },
    {
     "data": {
      "image/png": "[encoded data removed]",
      "text/plain": [
       "<Figure size 432x288 with 1 Axes>"
      ]
     },
     "metadata": {
      "needs_background": "light"
     },
     "output_type": "display_data"
    }
   ],
   "source": [
    "results.resid.plot()"
   ]
  },
  {
   "cell_type": "code",
   "execution_count": 105,
   "metadata": {},
   "outputs": [
    {
     "name": "stdout",
     "output_type": "stream",
     "text": [
      "Results of Dickey-Fuller Test:\n",
      "Test Statistic                   -2.971969\n",
      "p-value                           0.037596\n",
      "#Lags Used                       26.000000\n",
      "Number of Observations Used    8806.000000\n",
      "Critical Value (1%)              -3.431093\n",
      "Critical Value (5%)              -2.861868\n",
      "Critical Value (10%)             -2.566945\n",
      "dtype: float64\n"
     ]
    },
    {
     "data": {
      "text/plain": [
       "0.037596346185314405"
      ]
     },
     "execution_count": 105,
     "metadata": {},
     "output_type": "execute_result"
    }
   ],
   "source": [
    "adf_test(results.resid, verbose=True)"
   ]
  },
  {
   "cell_type": "code",
   "execution_count": 106,
   "metadata": {},
   "outputs": [
    {
     "name": "stdout",
     "output_type": "stream",
     "text": [
      "     Phillips-Perron Test (Z-tau)    \n",
      "=====================================\n",
      "Test Statistic                 -2.926\n",
      "P-value                         0.042\n",
      "Lags                               37\n",
      "-------------------------------------\n",
      "\n",
      "Trend: Constant\n",
      "Critical Values: -3.43 (1%), -2.86 (5%), -2.57 (10%)\n",
      "Null Hypothesis: The process contains a unit root.\n",
      "Alternative Hypothesis: The process is weakly stationary.\n"
     ]
    },
    {
     "data": {
      "text/plain": [
       "0.04240233908332609"
      ]
     },
     "execution_count": 106,
     "metadata": {},
     "output_type": "execute_result"
    }
   ],
   "source": [
    "pp_test(results.resid, verbose=True)"
   ]
  },
  {
   "cell_type": "code",
   "execution_count": 107,
   "metadata": {},
   "outputs": [
    {
     "name": "stdout",
     "output_type": "stream",
     "text": [
      "Results of KPSS Test:\n",
      "Test Statistic            0.820982\n",
      "p-value                   0.010000\n",
      "Lags Used                56.000000\n",
      "Critical Value (10%)      0.347000\n",
      "Critical Value (5%)       0.463000\n",
      "Critical Value (2.5%)     0.574000\n",
      "Critical Value (1%)       0.739000\n",
      "dtype: float64\n"
     ]
    },
    {
     "name": "stderr",
     "output_type": "stream",
     "text": [
      "C:\\Users\\Admin\\anaconda3\\envs\\mlfin\\lib\\site-packages\\statsmodels\\tsa\\stattools.py:1907: InterpolationWarning: The test statistic is outside of the range of p-values available in the\n",
      "look-up table. The actual p-value is smaller than the p-value returned.\n",
      "\n",
      "  warn_msg.format(direction=\"smaller\"), InterpolationWarning\n"
     ]
    },
    {
     "data": {
      "text/plain": [
       "0.01"
      ]
     },
     "execution_count": 107,
     "metadata": {},
     "output_type": "execute_result"
    }
   ],
   "source": [
    "kpss_test(results.resid, verbose=True)"
   ]
  },
  {
   "cell_type": "code",
   "execution_count": 108,
   "metadata": {},
   "outputs": [
    {
     "name": "stdout",
     "output_type": "stream",
     "text": [
      "(16.101308509559374, -13.483659162183518, 123.1079417209483)\n"
     ]
    },
    {
     "data": {
      "text/plain": [
       "open_time\n",
       "2019-11-28 10:00:00    2183.452841\n",
       "2019-11-28 11:00:00    2162.133252\n",
       "2019-11-28 12:00:00    2182.928077\n",
       "2019-11-28 13:00:00    2192.404801\n",
       "2019-11-28 14:00:00    2188.688809\n",
       "                          ...     \n",
       "2020-11-30 19:00:00    3209.548598\n",
       "2020-11-30 20:00:00    3247.136772\n",
       "2020-11-30 21:00:00    3202.361860\n",
       "2020-11-30 22:00:00    3188.278039\n",
       "2020-11-30 23:00:00    3257.352950\n",
       "Length: 8833, dtype: float64"
      ]
     },
     "execution_count": 108,
     "metadata": {},
     "output_type": "execute_result"
    }
   ],
   "source": [
    "s1 = df['BTC']\n",
    "s2 = df['ETH']\n",
    "s3 = df['BCH']\n",
    "s4 = df['LTC']\n",
    "\n",
    "hedge_ratio = (results.params['ETH'], results.params['BCH'], results.params['LTC'])\n",
    "print(hedge_ratio)\n",
    "\n",
    "spread = s1 - hedge_ratio[0] * s2 - hedge_ratio[1] * s3 - hedge_ratio[2] * s4\n",
    "spread "
   ]
  },
  {
   "cell_type": "code",
   "execution_count": 109,
   "metadata": {},
   "outputs": [
    {
     "data": {
      "text/plain": [
       "<matplotlib.legend.Legend at 0x1ac2df7a400>"
      ]
     },
     "execution_count": 109,
     "metadata": {},
     "output_type": "execute_result"
    },
    {
     "data": {
      "image/png": "[encoded data removed]",
      "text/plain": [
       "<Figure size 432x288 with 1 Axes>"
      ]
     },
     "metadata": {
      "needs_background": "light"
     },
     "output_type": "display_data"
    }
   ],
   "source": [
    "spread.plot() # Plot the spread\n",
    "plt.axhline(spread.mean(), color='red', linestyle='--') # Add the mean\n",
    "plt.xlabel('Time')\n",
    "plt.legend(['Price Spread', 'Mean'])"
   ]
  },
  {
   "cell_type": "code",
   "execution_count": 110,
   "metadata": {},
   "outputs": [],
   "source": [
    "def zscore(series):\n",
    "    return (series - series.mean()) / np.std(series)"
   ]
  },
  {
   "cell_type": "code",
   "execution_count": 111,
   "metadata": {},
   "outputs": [
    {
     "data": {
      "text/plain": [
       "<matplotlib.legend.Legend at 0x1ac2e03b7b8>"
      ]
     },
     "execution_count": 111,
     "metadata": {},
     "output_type": "execute_result"
    },
    {
     "data": {
      "image/png": "[encoded data removed]",
      "text/plain": [
       "<Figure size 432x288 with 1 Axes>"
      ]
     },
     "metadata": {
      "needs_background": "light"
     },
     "output_type": "display_data"
    }
   ],
   "source": [
    "zscore(spread).plot()\n",
    "plt.axhline(zscore(spread).mean(), color='black')\n",
    "plt.axhline(1.0, color='red', linestyle='--')\n",
    "plt.axhline(-1.0, color='green', linestyle='--')\n",
    "plt.legend(['Spread z-score', 'Mean', '+1', '-1'])"
   ]
  },
  {
   "cell_type": "code",
   "execution_count": null,
   "metadata": {},
   "outputs": [],
   "source": []
  }
 ],
 "metadata": {
  "interpreter": {
   "hash": "db64578a3953c48ffb231acefaaf15e02370fbcb0c23ba84fb601c85d16f2985"
  },
  "kernelspec": {
   "display_name": "Python 3",
   "language": "python",
   "name": "python3"
  },
  "language_info": {
   "codemirror_mode": {
    "name": "ipython",
    "version": 3
   },
   "file_extension": ".py",
   "mimetype": "text/x-python",
   "name": "python",
   "nbconvert_exporter": "python",
   "pygments_lexer": "ipython3",
   "version": "3.6.10"
  }
 },
 "nbformat": 4,
 "nbformat_minor": 5
}
