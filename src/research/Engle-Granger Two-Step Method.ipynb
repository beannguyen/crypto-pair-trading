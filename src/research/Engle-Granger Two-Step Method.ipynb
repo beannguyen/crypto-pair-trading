{
 "cells": [
  {
   "cell_type": "code",
   "execution_count": 139,
   "source": [
    "import sys\n",
    "\n",
    "sys.path.append(\"../\")"
   ],
   "outputs": [],
   "metadata": {}
  },
  {
   "cell_type": "code",
   "execution_count": 140,
   "source": [
    "import pandas as pd\n",
    "import numpy as np\n",
    "from statsmodels.tsa.stattools import adfuller, kpss\n",
    "from datetime import datetime, timedelta\n",
    "from arch.unitroot import PhillipsPerron\n",
    "import statsmodels.api as sm\n",
    "import statsmodels.formula.api as smf\n",
    "\n",
    "import matplotlib.pyplot as plt\n",
    "\n",
    "DATA_PATH = '/mnt/d/Trading/trading-agent/crypto-pair-trading/data/5min'"
   ],
   "outputs": [],
   "metadata": {}
  },
  {
   "cell_type": "code",
   "execution_count": 141,
   "source": [
    "selected_pairs = ['DOT-USDT', 'LINK-USDT', 'BCH-USDT']\n",
    "\n",
    "data = []\n",
    "start_date = '2021-06-01'\n",
    "\n",
    "for symbol in selected_pairs:\n",
    "    try:\n",
    "        df = pd.read_csv(f'{DATA_PATH}/{symbol}.csv', \n",
    "                        parse_dates=['open_time'], \n",
    "                        index_col=['open_time'])\n",
    "\n",
    "        df.rename(columns={'close': symbol}, inplace=True)\n",
    "        # the data is too long, just limit to recent period\n",
    "        data.append(df[df.index > start_date][symbol])\n",
    "    except:\n",
    "        pass\n",
    "\n",
    "df = pd.concat(data, axis=1)\n",
    "df = df.dropna(axis=1, how='all')\n",
    "df.dropna(inplace=True, how='any')\n",
    "\n",
    "df.tail()"
   ],
   "outputs": [
    {
     "output_type": "execute_result",
     "data": {
      "text/html": [
       "<div>\n",
       "<style scoped>\n",
       "    .dataframe tbody tr th:only-of-type {\n",
       "        vertical-align: middle;\n",
       "    }\n",
       "\n",
       "    .dataframe tbody tr th {\n",
       "        vertical-align: top;\n",
       "    }\n",
       "\n",
       "    .dataframe thead th {\n",
       "        text-align: right;\n",
       "    }\n",
       "</style>\n",
       "<table border=\"1\" class=\"dataframe\">\n",
       "  <thead>\n",
       "    <tr style=\"text-align: right;\">\n",
       "      <th></th>\n",
       "      <th>DOT-USDT</th>\n",
       "      <th>LINK-USDT</th>\n",
       "      <th>BCH-USDT</th>\n",
       "    </tr>\n",
       "    <tr>\n",
       "      <th>open_time</th>\n",
       "      <th></th>\n",
       "      <th></th>\n",
       "      <th></th>\n",
       "    </tr>\n",
       "  </thead>\n",
       "  <tbody>\n",
       "    <tr>\n",
       "      <th>2021-08-30 00:40:00</th>\n",
       "      <td>25.55</td>\n",
       "      <td>25.51</td>\n",
       "      <td>655.5</td>\n",
       "    </tr>\n",
       "    <tr>\n",
       "      <th>2021-08-30 00:45:00</th>\n",
       "      <td>25.30</td>\n",
       "      <td>25.39</td>\n",
       "      <td>654.7</td>\n",
       "    </tr>\n",
       "    <tr>\n",
       "      <th>2021-08-30 00:50:00</th>\n",
       "      <td>25.28</td>\n",
       "      <td>25.31</td>\n",
       "      <td>653.8</td>\n",
       "    </tr>\n",
       "    <tr>\n",
       "      <th>2021-08-30 00:55:00</th>\n",
       "      <td>25.33</td>\n",
       "      <td>25.37</td>\n",
       "      <td>654.2</td>\n",
       "    </tr>\n",
       "    <tr>\n",
       "      <th>2021-08-30 01:00:00</th>\n",
       "      <td>25.36</td>\n",
       "      <td>25.42</td>\n",
       "      <td>654.6</td>\n",
       "    </tr>\n",
       "  </tbody>\n",
       "</table>\n",
       "</div>"
      ],
      "text/plain": [
       "                     DOT-USDT  LINK-USDT  BCH-USDT\n",
       "open_time                                         \n",
       "2021-08-30 00:40:00     25.55      25.51     655.5\n",
       "2021-08-30 00:45:00     25.30      25.39     654.7\n",
       "2021-08-30 00:50:00     25.28      25.31     653.8\n",
       "2021-08-30 00:55:00     25.33      25.37     654.2\n",
       "2021-08-30 01:00:00     25.36      25.42     654.6"
      ]
     },
     "metadata": {},
     "execution_count": 141
    }
   ],
   "metadata": {}
  },
  {
   "cell_type": "code",
   "execution_count": 142,
   "source": [
    "def adf_test(timeseries, verbose=False):\n",
    "    dftest = adfuller(timeseries, autolag='AIC')\n",
    "    dfoutput = pd.Series(dftest[0:4], index=['Test Statistic','p-value','#Lags Used','Number of Observations Used'])\n",
    "    \n",
    "    if verbose:\n",
    "        print ('Results of Dickey-Fuller Test:')\n",
    "        for key,value in dftest[4].items():\n",
    "            dfoutput['Critical Value (%s)'%key] = value\n",
    "        print(dfoutput)\n",
    "    return dfoutput['p-value']"
   ],
   "outputs": [],
   "metadata": {}
  },
  {
   "cell_type": "code",
   "execution_count": 143,
   "source": [
    "def pp_test(timeseries, verbose=False):\n",
    "    pp = PhillipsPerron(timeseries)\n",
    "    if verbose:\n",
    "        print(pp.summary().as_text())\n",
    "    \n",
    "    return pp.pvalue\n",
    "\n",
    "\n",
    "def kpss_test(timeseries, verbose=False):\n",
    "    kpsstest = kpss(timeseries, regression='c', nlags=\"auto\")\n",
    "    kpss_output = pd.Series(kpsstest[0:3], index=['Test Statistic','p-value','Lags Used'])\n",
    "\n",
    "    if verbose:\n",
    "        print ('Results of KPSS Test:')\n",
    "        for key,value in kpsstest[3].items():\n",
    "            kpss_output['Critical Value (%s)'%key] = value\n",
    "        print (kpss_output)\n",
    "    return kpss_output['p-value']\n"
   ],
   "outputs": [],
   "metadata": {}
  },
  {
   "cell_type": "code",
   "execution_count": 144,
   "source": [
    "methods = {\n",
    "    'adf': adf_test,\n",
    "    'pp': pp_test,\n",
    "    'kpss': kpss_test\n",
    "}\n",
    "\n",
    "\n",
    "def perform_test(method, series):\n",
    "    func_ = methods[method]\n",
    "    \n",
    "    # p_v1 = func_(np.log(series))\n",
    "    p_v1 = func_(series)\n",
    "\n",
    "    # diff = np.log(series) - np.log(series.shift(1))\n",
    "    diff = series.diff()\n",
    "    diff.dropna(inplace=True)\n",
    "    p_v2 = func_(diff)\n",
    "\n",
    "    return p_v1, p_v2"
   ],
   "outputs": [],
   "metadata": {}
  },
  {
   "cell_type": "code",
   "execution_count": 145,
   "source": [
    "data = {\n",
    "    'adf': [],\n",
    "    'pp': [],\n",
    "    'kpss': []\n",
    "}\n",
    "columns = []\n",
    "\n",
    "for col in df.columns:\n",
    "    for test in methods.keys():\n",
    "        p1, p2 = perform_test(test, df[col])\n",
    "        data[test].append(p1)\n",
    "        data[test].append(p2)\n",
    "    \n",
    "    if col not in columns:\n",
    "        columns.append(col)\n",
    "    \n",
    "    if f'd_{col}' not in columns:\n",
    "        columns.append(f'd_{col}')\n",
    "\n",
    "    \n",
    "\n",
    "test_df = pd.DataFrame.from_dict(data, orient='index', columns=columns)\n",
    "test_df.head()"
   ],
   "outputs": [
    {
     "output_type": "stream",
     "name": "stderr",
     "text": [
      "/home/bean/miniconda3/envs/trade/lib/python3.7/site-packages/statsmodels/tsa/stattools.py:1907: InterpolationWarning: The test statistic is outside of the range of p-values available in the\n",
      "look-up table. The actual p-value is smaller than the p-value returned.\n",
      "\n",
      "  warn_msg.format(direction=\"smaller\"), InterpolationWarning\n",
      "/home/bean/miniconda3/envs/trade/lib/python3.7/site-packages/statsmodels/tsa/stattools.py:1911: InterpolationWarning: The test statistic is outside of the range of p-values available in the\n",
      "look-up table. The actual p-value is greater than the p-value returned.\n",
      "\n",
      "  warn_msg.format(direction=\"greater\"), InterpolationWarning\n",
      "/home/bean/miniconda3/envs/trade/lib/python3.7/site-packages/statsmodels/tsa/stattools.py:1907: InterpolationWarning: The test statistic is outside of the range of p-values available in the\n",
      "look-up table. The actual p-value is smaller than the p-value returned.\n",
      "\n",
      "  warn_msg.format(direction=\"smaller\"), InterpolationWarning\n",
      "/home/bean/miniconda3/envs/trade/lib/python3.7/site-packages/statsmodels/tsa/stattools.py:1907: InterpolationWarning: The test statistic is outside of the range of p-values available in the\n",
      "look-up table. The actual p-value is smaller than the p-value returned.\n",
      "\n",
      "  warn_msg.format(direction=\"smaller\"), InterpolationWarning\n"
     ]
    },
    {
     "output_type": "execute_result",
     "data": {
      "text/html": [
       "<div>\n",
       "<style scoped>\n",
       "    .dataframe tbody tr th:only-of-type {\n",
       "        vertical-align: middle;\n",
       "    }\n",
       "\n",
       "    .dataframe tbody tr th {\n",
       "        vertical-align: top;\n",
       "    }\n",
       "\n",
       "    .dataframe thead th {\n",
       "        text-align: right;\n",
       "    }\n",
       "</style>\n",
       "<table border=\"1\" class=\"dataframe\">\n",
       "  <thead>\n",
       "    <tr style=\"text-align: right;\">\n",
       "      <th></th>\n",
       "      <th>DOT-USDT</th>\n",
       "      <th>d_DOT-USDT</th>\n",
       "      <th>LINK-USDT</th>\n",
       "      <th>d_LINK-USDT</th>\n",
       "      <th>BCH-USDT</th>\n",
       "      <th>d_BCH-USDT</th>\n",
       "    </tr>\n",
       "  </thead>\n",
       "  <tbody>\n",
       "    <tr>\n",
       "      <th>adf</th>\n",
       "      <td>0.722722</td>\n",
       "      <td>0.0</td>\n",
       "      <td>0.191772</td>\n",
       "      <td>0.000000</td>\n",
       "      <td>0.383526</td>\n",
       "      <td>0.000000</td>\n",
       "    </tr>\n",
       "    <tr>\n",
       "      <th>pp</th>\n",
       "      <td>0.704690</td>\n",
       "      <td>0.0</td>\n",
       "      <td>0.167565</td>\n",
       "      <td>0.000000</td>\n",
       "      <td>0.363710</td>\n",
       "      <td>0.000000</td>\n",
       "    </tr>\n",
       "    <tr>\n",
       "      <th>kpss</th>\n",
       "      <td>0.010000</td>\n",
       "      <td>0.1</td>\n",
       "      <td>0.010000</td>\n",
       "      <td>0.072821</td>\n",
       "      <td>0.010000</td>\n",
       "      <td>0.092692</td>\n",
       "    </tr>\n",
       "  </tbody>\n",
       "</table>\n",
       "</div>"
      ],
      "text/plain": [
       "      DOT-USDT  d_DOT-USDT  LINK-USDT  d_LINK-USDT  BCH-USDT  d_BCH-USDT\n",
       "adf   0.722722         0.0   0.191772     0.000000  0.383526    0.000000\n",
       "pp    0.704690         0.0   0.167565     0.000000  0.363710    0.000000\n",
       "kpss  0.010000         0.1   0.010000     0.072821  0.010000    0.092692"
      ]
     },
     "metadata": {},
     "execution_count": 145
    }
   ],
   "metadata": {}
  },
  {
   "cell_type": "markdown",
   "source": [
    "The prices are not stationary but they all become stationary after the first differencing.\n",
    "For both adf and pp for the first differencing, `p-value` < 0.05 so we can reject the null.\n",
    "KPSS all 3 diff series is above the critical value so we can accept the null (series is stationary).\n",
    "\n",
    "Therefore, we can conclude that ETH, BCH, XLM are `I(1)` processes.\n",
    "\n",
    "which:\n",
    "- I(0): trend stationary\n",
    "- I(1): diference stationary"
   ],
   "metadata": {}
  },
  {
   "cell_type": "markdown",
   "source": [
    "\n",
    "The Engle-Granger method involves a linear regression on given time series data which,\n",
    "in this case, is BTC; but it is not important which cryptocurrency is taken as the dependent\n",
    "variable. We propose the following OLS model:\n",
    "\n",
    "$$\n",
    "ETH_t = c + \\beta_1 BCH_t + \\beta_2 XLM_t + \\epsilon_t\n",
    "$$"
   ],
   "metadata": {}
  },
  {
   "cell_type": "code",
   "execution_count": 146,
   "source": [
    "renamed = {col: col.replace('-USDT', '') for col in df.columns}\n",
    "\n",
    "df.rename(columns=renamed, inplace=True)"
   ],
   "outputs": [],
   "metadata": {}
  },
  {
   "cell_type": "code",
   "execution_count": 147,
   "source": [
    "df = sm.add_constant(df)\n",
    "df"
   ],
   "outputs": [
    {
     "output_type": "stream",
     "name": "stderr",
     "text": [
      "/home/bean/miniconda3/envs/trade/lib/python3.7/site-packages/statsmodels/tsa/tsatools.py:142: FutureWarning: In a future version of pandas all arguments of concat except for the argument 'objs' will be keyword-only\n",
      "  x = pd.concat(x[::order], 1)\n"
     ]
    },
    {
     "output_type": "execute_result",
     "data": {
      "text/html": [
       "<div>\n",
       "<style scoped>\n",
       "    .dataframe tbody tr th:only-of-type {\n",
       "        vertical-align: middle;\n",
       "    }\n",
       "\n",
       "    .dataframe tbody tr th {\n",
       "        vertical-align: top;\n",
       "    }\n",
       "\n",
       "    .dataframe thead th {\n",
       "        text-align: right;\n",
       "    }\n",
       "</style>\n",
       "<table border=\"1\" class=\"dataframe\">\n",
       "  <thead>\n",
       "    <tr style=\"text-align: right;\">\n",
       "      <th></th>\n",
       "      <th>const</th>\n",
       "      <th>DOT</th>\n",
       "      <th>LINK</th>\n",
       "      <th>BCH</th>\n",
       "    </tr>\n",
       "    <tr>\n",
       "      <th>open_time</th>\n",
       "      <th></th>\n",
       "      <th></th>\n",
       "      <th></th>\n",
       "      <th></th>\n",
       "    </tr>\n",
       "  </thead>\n",
       "  <tbody>\n",
       "    <tr>\n",
       "      <th>2021-06-01 00:05:00</th>\n",
       "      <td>1.0</td>\n",
       "      <td>23.414</td>\n",
       "      <td>32.418</td>\n",
       "      <td>707.06</td>\n",
       "    </tr>\n",
       "    <tr>\n",
       "      <th>2021-06-01 00:10:00</th>\n",
       "      <td>1.0</td>\n",
       "      <td>23.406</td>\n",
       "      <td>32.302</td>\n",
       "      <td>705.69</td>\n",
       "    </tr>\n",
       "    <tr>\n",
       "      <th>2021-06-01 00:15:00</th>\n",
       "      <td>1.0</td>\n",
       "      <td>23.238</td>\n",
       "      <td>31.946</td>\n",
       "      <td>702.74</td>\n",
       "    </tr>\n",
       "    <tr>\n",
       "      <th>2021-06-01 00:20:00</th>\n",
       "      <td>1.0</td>\n",
       "      <td>23.249</td>\n",
       "      <td>32.045</td>\n",
       "      <td>703.85</td>\n",
       "    </tr>\n",
       "    <tr>\n",
       "      <th>2021-06-01 00:25:00</th>\n",
       "      <td>1.0</td>\n",
       "      <td>23.311</td>\n",
       "      <td>32.043</td>\n",
       "      <td>707.08</td>\n",
       "    </tr>\n",
       "    <tr>\n",
       "      <th>...</th>\n",
       "      <td>...</td>\n",
       "      <td>...</td>\n",
       "      <td>...</td>\n",
       "      <td>...</td>\n",
       "    </tr>\n",
       "    <tr>\n",
       "      <th>2021-08-30 00:40:00</th>\n",
       "      <td>1.0</td>\n",
       "      <td>25.550</td>\n",
       "      <td>25.510</td>\n",
       "      <td>655.50</td>\n",
       "    </tr>\n",
       "    <tr>\n",
       "      <th>2021-08-30 00:45:00</th>\n",
       "      <td>1.0</td>\n",
       "      <td>25.300</td>\n",
       "      <td>25.390</td>\n",
       "      <td>654.70</td>\n",
       "    </tr>\n",
       "    <tr>\n",
       "      <th>2021-08-30 00:50:00</th>\n",
       "      <td>1.0</td>\n",
       "      <td>25.280</td>\n",
       "      <td>25.310</td>\n",
       "      <td>653.80</td>\n",
       "    </tr>\n",
       "    <tr>\n",
       "      <th>2021-08-30 00:55:00</th>\n",
       "      <td>1.0</td>\n",
       "      <td>25.330</td>\n",
       "      <td>25.370</td>\n",
       "      <td>654.20</td>\n",
       "    </tr>\n",
       "    <tr>\n",
       "      <th>2021-08-30 01:00:00</th>\n",
       "      <td>1.0</td>\n",
       "      <td>25.360</td>\n",
       "      <td>25.420</td>\n",
       "      <td>654.60</td>\n",
       "    </tr>\n",
       "  </tbody>\n",
       "</table>\n",
       "<p>25498 rows × 4 columns</p>\n",
       "</div>"
      ],
      "text/plain": [
       "                     const     DOT    LINK     BCH\n",
       "open_time                                         \n",
       "2021-06-01 00:05:00    1.0  23.414  32.418  707.06\n",
       "2021-06-01 00:10:00    1.0  23.406  32.302  705.69\n",
       "2021-06-01 00:15:00    1.0  23.238  31.946  702.74\n",
       "2021-06-01 00:20:00    1.0  23.249  32.045  703.85\n",
       "2021-06-01 00:25:00    1.0  23.311  32.043  707.08\n",
       "...                    ...     ...     ...     ...\n",
       "2021-08-30 00:40:00    1.0  25.550  25.510  655.50\n",
       "2021-08-30 00:45:00    1.0  25.300  25.390  654.70\n",
       "2021-08-30 00:50:00    1.0  25.280  25.310  653.80\n",
       "2021-08-30 00:55:00    1.0  25.330  25.370  654.20\n",
       "2021-08-30 01:00:00    1.0  25.360  25.420  654.60\n",
       "\n",
       "[25498 rows x 4 columns]"
      ]
     },
     "metadata": {},
     "execution_count": 147
    }
   ],
   "metadata": {}
  },
  {
   "cell_type": "code",
   "execution_count": 171,
   "source": [
    "\n",
    "model = sm.OLS.from_formula(formula='DOT ~ const + LINK + BCH', data=df)\n",
    "\n",
    "results = model.fit()\n",
    "\n",
    "print(results.summary())"
   ],
   "outputs": [
    {
     "output_type": "stream",
     "name": "stdout",
     "text": [
      "                            OLS Regression Results                            \n",
      "==============================================================================\n",
      "Dep. Variable:                    DOT   R-squared:                       0.915\n",
      "Model:                            OLS   Adj. R-squared:                  0.915\n",
      "Method:                 Least Squares   F-statistic:                 1.372e+05\n",
      "Date:                Sat, 11 Sep 2021   Prob (F-statistic):               0.00\n",
      "Time:                        15:18:35   Log-Likelihood:                -44768.\n",
      "No. Observations:               25498   AIC:                         8.954e+04\n",
      "Df Residuals:                   25495   BIC:                         8.957e+04\n",
      "Df Model:                           2                                         \n",
      "Covariance Type:            nonrobust                                         \n",
      "==============================================================================\n",
      "                 coef    std err          t      P>|t|      [0.025      0.975]\n",
      "------------------------------------------------------------------------------\n",
      "Intercept     -5.5182      0.043   -127.413      0.000      -5.603      -5.433\n",
      "const         -5.5182      0.043   -127.413      0.000      -5.603      -5.433\n",
      "LINK           0.0592      0.009      6.699      0.000       0.042       0.076\n",
      "BCH            0.0520      0.000    109.520      0.000       0.051       0.053\n",
      "==============================================================================\n",
      "Omnibus:                      920.600   Durbin-Watson:                   0.002\n",
      "Prob(Omnibus):                  0.000   Jarque-Bera (JB):             1068.391\n",
      "Skew:                          -0.444   Prob(JB):                    1.00e-232\n",
      "Kurtosis:                       3.467   Cond. No.                     4.56e+16\n",
      "==============================================================================\n",
      "\n",
      "Notes:\n",
      "[1] Standard Errors assume that the covariance matrix of the errors is correctly specified.\n",
      "[2] The smallest eigenvalue is 3.89e-24. This might indicate that there are\n",
      "strong multicollinearity problems or that the design matrix is singular.\n"
     ]
    }
   ],
   "metadata": {}
  },
  {
   "cell_type": "markdown",
   "source": [
    "From above Table, we obtain the relationships:\n",
    "\n",
    "$$\n",
    "ETH = 0.38 + 1.141BCH + 0.08XLM + \\epsilon_t\n",
    "$$\n",
    "\n",
    "Notably, all the regressing coefficients appear to be statistically significant with p-values less than 1%.\n",
    "R-squared: 0.935%."
   ],
   "metadata": {}
  },
  {
   "cell_type": "code",
   "execution_count": 172,
   "source": [
    "results.resid.head()"
   ],
   "outputs": [
    {
     "output_type": "execute_result",
     "data": {
      "text/plain": [
       "open_time\n",
       "2021-06-01 00:05:00   -4.205145\n",
       "2021-06-01 00:10:00   -4.135099\n",
       "2021-06-01 00:15:00   -4.128758\n",
       "2021-06-01 00:20:00   -4.181289\n",
       "2021-06-01 00:25:00   -4.286995\n",
       "dtype: float64"
      ]
     },
     "metadata": {},
     "execution_count": 172
    }
   ],
   "metadata": {}
  },
  {
   "cell_type": "code",
   "execution_count": 173,
   "source": [
    "results.params"
   ],
   "outputs": [
    {
     "output_type": "execute_result",
     "data": {
      "text/plain": [
       "Intercept   -5.518237\n",
       "const       -5.518237\n",
       "LINK         0.059173\n",
       "BCH          0.051958\n",
       "dtype: float64"
      ]
     },
     "metadata": {},
     "execution_count": 173
    }
   ],
   "metadata": {}
  },
  {
   "cell_type": "code",
   "execution_count": 174,
   "source": [
    "results.resid.plot()"
   ],
   "outputs": [
    {
     "output_type": "execute_result",
     "data": {
      "text/plain": [
       "<AxesSubplot:xlabel='open_time'>"
      ]
     },
     "metadata": {},
     "execution_count": 174
    },
    {
     "output_type": "display_data",
     "data": {
      "image/png": "[encoded data removed]",
      "text/plain": [
       "<Figure size 432x288 with 1 Axes>"
      ]
     },
     "metadata": {
      "needs_background": "light"
     }
    }
   ],
   "metadata": {}
  },
  {
   "cell_type": "code",
   "execution_count": 175,
   "source": [
    "adf_test(results.resid, verbose=True)"
   ],
   "outputs": [
    {
     "output_type": "stream",
     "name": "stdout",
     "text": [
      "Results of Dickey-Fuller Test:\n",
      "Test Statistic                    -3.829768\n",
      "p-value                            0.002617\n",
      "#Lags Used                         5.000000\n",
      "Number of Observations Used    25492.000000\n",
      "Critical Value (1%)               -3.430607\n",
      "Critical Value (5%)               -2.861653\n",
      "Critical Value (10%)              -2.566830\n",
      "dtype: float64\n"
     ]
    },
    {
     "output_type": "execute_result",
     "data": {
      "text/plain": [
       "0.0026170154884290293"
      ]
     },
     "metadata": {},
     "execution_count": 175
    }
   ],
   "metadata": {}
  },
  {
   "cell_type": "code",
   "execution_count": 176,
   "source": [
    "pp_test(results.resid, verbose=True)"
   ],
   "outputs": [
    {
     "output_type": "stream",
     "name": "stdout",
     "text": [
      "     Phillips-Perron Test (Z-tau)    \n",
      "=====================================\n",
      "Test Statistic                 -3.791\n",
      "P-value                         0.003\n",
      "Lags                               48\n",
      "-------------------------------------\n",
      "\n",
      "Trend: Constant\n",
      "Critical Values: -3.43 (1%), -2.86 (5%), -2.57 (10%)\n",
      "Null Hypothesis: The process contains a unit root.\n",
      "Alternative Hypothesis: The process is weakly stationary.\n"
     ]
    },
    {
     "output_type": "execute_result",
     "data": {
      "text/plain": [
       "0.0030001243009564445"
      ]
     },
     "metadata": {},
     "execution_count": 176
    }
   ],
   "metadata": {}
  },
  {
   "cell_type": "code",
   "execution_count": 177,
   "source": [
    "kpss_test(results.resid, verbose=True)"
   ],
   "outputs": [
    {
     "output_type": "stream",
     "name": "stdout",
     "text": [
      "Results of KPSS Test:\n",
      "Test Statistic            1.475071\n",
      "p-value                   0.010000\n",
      "Lags Used                94.000000\n",
      "Critical Value (10%)      0.347000\n",
      "Critical Value (5%)       0.463000\n",
      "Critical Value (2.5%)     0.574000\n",
      "Critical Value (1%)       0.739000\n",
      "dtype: float64\n"
     ]
    },
    {
     "output_type": "stream",
     "name": "stderr",
     "text": [
      "/home/bean/miniconda3/envs/trade/lib/python3.7/site-packages/statsmodels/tsa/stattools.py:1907: InterpolationWarning: The test statistic is outside of the range of p-values available in the\n",
      "look-up table. The actual p-value is smaller than the p-value returned.\n",
      "\n",
      "  warn_msg.format(direction=\"smaller\"), InterpolationWarning\n"
     ]
    },
    {
     "output_type": "execute_result",
     "data": {
      "text/plain": [
       "0.01"
      ]
     },
     "metadata": {},
     "execution_count": 177
    }
   ],
   "metadata": {}
  },
  {
   "cell_type": "code",
   "execution_count": 178,
   "source": [
    "s1 = df['DOT']\n",
    "s2 = df['LINK']\n",
    "s3 = df['BCH']\n",
    "\n",
    "hedge_ratio = (results.params['LINK'], results.params['BCH'])\n",
    "\n",
    "spread = s1 - hedge_ratio[0] * s2 - hedge_ratio[1] * s3 # - hedge_ratio[2] * s4\n",
    "spread "
   ],
   "outputs": [
    {
     "output_type": "execute_result",
     "data": {
      "text/plain": [
       "open_time\n",
       "2021-06-01 00:05:00   -15.241620\n",
       "2021-06-01 00:10:00   -15.171574\n",
       "2021-06-01 00:15:00   -15.165232\n",
       "2021-06-01 00:20:00   -15.217764\n",
       "2021-06-01 00:25:00   -15.323469\n",
       "                         ...    \n",
       "2021-08-30 00:40:00   -10.017906\n",
       "2021-08-30 00:45:00   -10.219239\n",
       "2021-08-30 00:50:00   -10.187743\n",
       "2021-08-30 00:55:00   -10.162076\n",
       "2021-08-30 01:00:00   -10.155818\n",
       "Length: 25498, dtype: float64"
      ]
     },
     "metadata": {},
     "execution_count": 178
    }
   ],
   "metadata": {}
  },
  {
   "cell_type": "code",
   "execution_count": 179,
   "source": [
    "spread.plot() # Plot the spread\n",
    "plt.axhline(spread.mean(), color='red', linestyle='--') # Add the mean\n",
    "plt.xlabel('Time')\n",
    "plt.legend(['Price Spread', 'Mean'])"
   ],
   "outputs": [
    {
     "output_type": "execute_result",
     "data": {
      "text/plain": [
       "<matplotlib.legend.Legend at 0x7f198d6c3790>"
      ]
     },
     "metadata": {},
     "execution_count": 179
    },
    {
     "output_type": "display_data",
     "data": {
      "image/png": "[encoded data removed]",
      "text/plain": [
       "<Figure size 432x288 with 1 Axes>"
      ]
     },
     "metadata": {
      "needs_background": "light"
     }
    }
   ],
   "metadata": {}
  },
  {
   "cell_type": "code",
   "execution_count": 180,
   "source": [
    "def zscore(series):\n",
    "    return (series - series.mean()) / np.std(series)"
   ],
   "outputs": [],
   "metadata": {}
  },
  {
   "cell_type": "code",
   "execution_count": 181,
   "source": [
    "zscore(spread).plot()\n",
    "plt.axhline(zscore(spread).mean(), color='black')\n",
    "plt.axhline(1.0, color='red', linestyle='--')\n",
    "plt.axhline(-1.0, color='green', linestyle='--')\n",
    "plt.legend(['Spread z-score', 'Mean', '+1', '-1'])"
   ],
   "outputs": [
    {
     "output_type": "execute_result",
     "data": {
      "text/plain": [
       "<matplotlib.legend.Legend at 0x7f198cfea490>"
      ]
     },
     "metadata": {},
     "execution_count": 181
    },
    {
     "output_type": "display_data",
     "data": {
      "image/png": "[encoded data removed]",
      "text/plain": [
       "<Figure size 432x288 with 1 Axes>"
      ]
     },
     "metadata": {
      "needs_background": "light"
     }
    }
   ],
   "metadata": {}
  },
  {
   "cell_type": "code",
   "execution_count": null,
   "source": [],
   "outputs": [],
   "metadata": {}
  }
 ],
 "metadata": {
  "kernelspec": {
   "display_name": "Python 3 (ipykernel)",
   "language": "python",
   "name": "python3"
  },
  "language_info": {
   "name": "python",
   "version": "3.7.11",
   "mimetype": "text/x-python",
   "codemirror_mode": {
    "name": "ipython",
    "version": 3
   },
   "pygments_lexer": "ipython3",
   "nbconvert_exporter": "python",
   "file_extension": ".py"
  }
 },
 "nbformat": 4,
 "nbformat_minor": 5
}