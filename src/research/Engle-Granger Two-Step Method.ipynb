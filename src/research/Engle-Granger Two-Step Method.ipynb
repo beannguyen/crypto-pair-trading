{
 "cells": [
  {
   "cell_type": "code",
   "execution_count": 1,
   "metadata": {},
   "outputs": [],
   "source": [
    "import sys\n",
    "\n",
    "sys.path.append(\"../\")\n"
   ]
  },
  {
   "cell_type": "code",
   "execution_count": 5,
   "metadata": {},
   "outputs": [],
   "source": [
    "import pandas as pd\n",
    "import numpy as np\n",
    "from statsmodels.tsa.stattools import adfuller, kpss\n",
    "from datetime import datetime, timedelta\n",
    "from arch.unitroot import PhillipsPerron\n",
    "import statsmodels.api as sm\n",
    "import statsmodels.formula.api as smf\n",
    "\n",
    "import matplotlib.pyplot as plt\n",
    "\n",
    "DATA_PATH = 'D:\\\\Trading\\\\trading-agent\\\\crypto-pair-trading\\\\data'"
   ]
  },
  {
   "cell_type": "code",
   "execution_count": 6,
   "metadata": {},
   "outputs": [
    {
     "data": {
      "text/html": [
       "<div>\n",
       "<style scoped>\n",
       "    .dataframe tbody tr th:only-of-type {\n",
       "        vertical-align: middle;\n",
       "    }\n",
       "\n",
       "    .dataframe tbody tr th {\n",
       "        vertical-align: top;\n",
       "    }\n",
       "\n",
       "    .dataframe thead th {\n",
       "        text-align: right;\n",
       "    }\n",
       "</style>\n",
       "<table border=\"1\" class=\"dataframe\">\n",
       "  <thead>\n",
       "    <tr style=\"text-align: right;\">\n",
       "      <th></th>\n",
       "      <th>BTC-USDT</th>\n",
       "      <th>ETH-USDT</th>\n",
       "      <th>BCH-USDT</th>\n",
       "      <th>LTC-USDT</th>\n",
       "    </tr>\n",
       "    <tr>\n",
       "      <th>open_time</th>\n",
       "      <th></th>\n",
       "      <th></th>\n",
       "      <th></th>\n",
       "      <th></th>\n",
       "    </tr>\n",
       "  </thead>\n",
       "  <tbody>\n",
       "    <tr>\n",
       "      <th>2018-06-26</th>\n",
       "      <td>429.34</td>\n",
       "      <td>429.34</td>\n",
       "      <td>694.69</td>\n",
       "      <td>75.54</td>\n",
       "    </tr>\n",
       "    <tr>\n",
       "      <th>2018-06-27</th>\n",
       "      <td>441.64</td>\n",
       "      <td>441.64</td>\n",
       "      <td>713.05</td>\n",
       "      <td>80.60</td>\n",
       "    </tr>\n",
       "    <tr>\n",
       "      <th>2018-06-28</th>\n",
       "      <td>420.22</td>\n",
       "      <td>420.22</td>\n",
       "      <td>659.65</td>\n",
       "      <td>74.05</td>\n",
       "    </tr>\n",
       "    <tr>\n",
       "      <th>2018-06-29</th>\n",
       "      <td>434.77</td>\n",
       "      <td>434.77</td>\n",
       "      <td>716.40</td>\n",
       "      <td>78.94</td>\n",
       "    </tr>\n",
       "    <tr>\n",
       "      <th>2018-06-30</th>\n",
       "      <td>454.09</td>\n",
       "      <td>454.09</td>\n",
       "      <td>748.15</td>\n",
       "      <td>81.33</td>\n",
       "    </tr>\n",
       "  </tbody>\n",
       "</table>\n",
       "</div>"
      ],
      "text/plain": [
       "            BTC-USDT  ETH-USDT  BCH-USDT  LTC-USDT\n",
       "open_time                                         \n",
       "2018-06-26    429.34    429.34    694.69     75.54\n",
       "2018-06-27    441.64    441.64    713.05     80.60\n",
       "2018-06-28    420.22    420.22    659.65     74.05\n",
       "2018-06-29    434.77    434.77    716.40     78.94\n",
       "2018-06-30    454.09    454.09    748.15     81.33"
      ]
     },
     "execution_count": 6,
     "metadata": {},
     "output_type": "execute_result"
    }
   ],
   "source": [
    "import traceback\n",
    "\n",
    "selected_pairs = ['BTC-USDT', 'ETH-USDT', 'BCH-USDT', 'LTC-USDT']\n",
    "\n",
    "data = []\n",
    "start_date = '2018-01-03'\n",
    "\n",
    "for symbol in selected_pairs:\n",
    "    try:\n",
    "        df = pd.read_csv(f'{DATA_PATH}/{symbol}.csv', \n",
    "                        parse_dates=['open_time'], \n",
    "                        index_col=['open_time'])\n",
    "\n",
    "        df.rename(columns={'close': symbol}, inplace=True)\n",
    "        # the data is too long, just limit to recent period\n",
    "        data.append(df[df.index > start_date][symbol])\n",
    "    except:\n",
    "        traceback.print_exc()\n",
    "\n",
    "df = pd.concat(data, axis=1)\n",
    "df = df.dropna(axis=1, how='all')\n",
    "df.dropna(inplace=True, how='any')\n",
    "\n",
    "df.tail()"
   ]
  },
  {
   "cell_type": "code",
   "execution_count": 7,
   "metadata": {},
   "outputs": [],
   "source": [
    "def adf_test(timeseries, verbose=False):\n",
    "    dftest = adfuller(timeseries, autolag='AIC')\n",
    "    dfoutput = pd.Series(dftest[0:4], index=['Test Statistic','p-value','#Lags Used','Number of Observations Used'])\n",
    "    \n",
    "    if verbose:\n",
    "        print ('Results of Dickey-Fuller Test:')\n",
    "        for key,value in dftest[4].items():\n",
    "            dfoutput['Critical Value (%s)'%key] = value\n",
    "        print(dfoutput)\n",
    "    return dfoutput['p-value']"
   ]
  },
  {
   "cell_type": "code",
   "execution_count": 1,
   "metadata": {},
   "outputs": [],
   "source": [
    "def pp_test(timeseries, verbose=False):\n",
    "    pp = PhillipsPerron(timeseries)\n",
    "    if verbose:\n",
    "        print(pp.summary().as_text())\n",
    "    \n",
    "    return pp.pvalue\n",
    "\n",
    "\n",
    "def kpss_test(timeseries, verbose=False):\n",
    "    kpsstest = kpss(timeseries, regression='c', nlags=\"auto\")\n",
    "    kpss_output = pd.Series(kpsstest[0:3], index=['Test Statistic','p-value','Lags Used'])\n",
    "\n",
    "    if verbose:\n",
    "        print ('Results of KPSS Test:')\n",
    "        for key,value in kpsstest[3].items():\n",
    "            kpss_output['Critical Value (%s)'%key] = value\n",
    "        print (kpss_output)\n",
    "    return kpss_output['p-value']\n"
   ]
  },
  {
   "cell_type": "code",
   "execution_count": 9,
   "metadata": {},
   "outputs": [],
   "source": [
    "methods = {\n",
    "    'adf': adf_test,\n",
    "    'pp': pp_test,\n",
    "    'kpss': kpss_test\n",
    "}\n",
    "\n",
    "\n",
    "def perform_test(method, series):\n",
    "    func_ = methods[method]\n",
    "    \n",
    "    # p_v1 = func_(np.log(series))\n",
    "    p_v1 = func_(series)\n",
    "\n",
    "    # diff = np.log(series) - np.log(series.shift(1))\n",
    "    diff = series.diff()\n",
    "    diff.dropna(inplace=True)\n",
    "    p_v2 = func_(diff)\n",
    "\n",
    "    return p_v1, p_v2"
   ]
  },
  {
   "cell_type": "code",
   "execution_count": 10,
   "metadata": {},
   "outputs": [
    {
     "name": "stderr",
     "output_type": "stream",
     "text": [
      "C:\\Users\\Admin\\anaconda3\\envs\\mlfin\\lib\\site-packages\\statsmodels\\tsa\\stattools.py:1907: InterpolationWarning: The test statistic is outside of the range of p-values available in the\n",
      "look-up table. The actual p-value is smaller than the p-value returned.\n",
      "\n",
      "  warn_msg.format(direction=\"smaller\"), InterpolationWarning\n",
      "C:\\Users\\Admin\\anaconda3\\envs\\mlfin\\lib\\site-packages\\statsmodels\\tsa\\stattools.py:1911: InterpolationWarning: The test statistic is outside of the range of p-values available in the\n",
      "look-up table. The actual p-value is greater than the p-value returned.\n",
      "\n",
      "  warn_msg.format(direction=\"greater\"), InterpolationWarning\n",
      "C:\\Users\\Admin\\anaconda3\\envs\\mlfin\\lib\\site-packages\\statsmodels\\tsa\\stattools.py:1907: InterpolationWarning: The test statistic is outside of the range of p-values available in the\n",
      "look-up table. The actual p-value is smaller than the p-value returned.\n",
      "\n",
      "  warn_msg.format(direction=\"smaller\"), InterpolationWarning\n",
      "C:\\Users\\Admin\\anaconda3\\envs\\mlfin\\lib\\site-packages\\statsmodels\\tsa\\stattools.py:1911: InterpolationWarning: The test statistic is outside of the range of p-values available in the\n",
      "look-up table. The actual p-value is greater than the p-value returned.\n",
      "\n",
      "  warn_msg.format(direction=\"greater\"), InterpolationWarning\n",
      "C:\\Users\\Admin\\anaconda3\\envs\\mlfin\\lib\\site-packages\\statsmodels\\tsa\\stattools.py:1907: InterpolationWarning: The test statistic is outside of the range of p-values available in the\n",
      "look-up table. The actual p-value is smaller than the p-value returned.\n",
      "\n",
      "  warn_msg.format(direction=\"smaller\"), InterpolationWarning\n",
      "C:\\Users\\Admin\\anaconda3\\envs\\mlfin\\lib\\site-packages\\statsmodels\\tsa\\stattools.py:1911: InterpolationWarning: The test statistic is outside of the range of p-values available in the\n",
      "look-up table. The actual p-value is greater than the p-value returned.\n",
      "\n",
      "  warn_msg.format(direction=\"greater\"), InterpolationWarning\n",
      "C:\\Users\\Admin\\anaconda3\\envs\\mlfin\\lib\\site-packages\\statsmodels\\tsa\\stattools.py:1907: InterpolationWarning: The test statistic is outside of the range of p-values available in the\n",
      "look-up table. The actual p-value is smaller than the p-value returned.\n",
      "\n",
      "  warn_msg.format(direction=\"smaller\"), InterpolationWarning\n",
      "C:\\Users\\Admin\\anaconda3\\envs\\mlfin\\lib\\site-packages\\statsmodels\\tsa\\stattools.py:1911: InterpolationWarning: The test statistic is outside of the range of p-values available in the\n",
      "look-up table. The actual p-value is greater than the p-value returned.\n",
      "\n",
      "  warn_msg.format(direction=\"greater\"), InterpolationWarning\n"
     ]
    },
    {
     "data": {
      "text/html": [
       "<div>\n",
       "<style scoped>\n",
       "    .dataframe tbody tr th:only-of-type {\n",
       "        vertical-align: middle;\n",
       "    }\n",
       "\n",
       "    .dataframe tbody tr th {\n",
       "        vertical-align: top;\n",
       "    }\n",
       "\n",
       "    .dataframe thead th {\n",
       "        text-align: right;\n",
       "    }\n",
       "</style>\n",
       "<table border=\"1\" class=\"dataframe\">\n",
       "  <thead>\n",
       "    <tr style=\"text-align: right;\">\n",
       "      <th></th>\n",
       "      <th>BTC-USDT</th>\n",
       "      <th>d_BTC-USDT</th>\n",
       "      <th>ETH-USDT</th>\n",
       "      <th>d_ETH-USDT</th>\n",
       "      <th>BCH-USDT</th>\n",
       "      <th>d_BCH-USDT</th>\n",
       "      <th>LTC-USDT</th>\n",
       "      <th>d_LTC-USDT</th>\n",
       "    </tr>\n",
       "  </thead>\n",
       "  <tbody>\n",
       "    <tr>\n",
       "      <th>adf</th>\n",
       "      <td>0.575746</td>\n",
       "      <td>2.086989e-11</td>\n",
       "      <td>0.575746</td>\n",
       "      <td>2.086989e-11</td>\n",
       "      <td>0.149854</td>\n",
       "      <td>8.440609e-27</td>\n",
       "      <td>0.416222</td>\n",
       "      <td>4.295237e-26</td>\n",
       "    </tr>\n",
       "    <tr>\n",
       "      <th>pp</th>\n",
       "      <td>0.653267</td>\n",
       "      <td>1.798817e-24</td>\n",
       "      <td>0.653267</td>\n",
       "      <td>1.798817e-24</td>\n",
       "      <td>0.163568</td>\n",
       "      <td>8.987973e-27</td>\n",
       "      <td>0.477950</td>\n",
       "      <td>2.126329e-26</td>\n",
       "    </tr>\n",
       "    <tr>\n",
       "      <th>kpss</th>\n",
       "      <td>0.010000</td>\n",
       "      <td>1.000000e-01</td>\n",
       "      <td>0.010000</td>\n",
       "      <td>1.000000e-01</td>\n",
       "      <td>0.010000</td>\n",
       "      <td>1.000000e-01</td>\n",
       "      <td>0.010000</td>\n",
       "      <td>1.000000e-01</td>\n",
       "    </tr>\n",
       "  </tbody>\n",
       "</table>\n",
       "</div>"
      ],
      "text/plain": [
       "      BTC-USDT    d_BTC-USDT  ETH-USDT    d_ETH-USDT  BCH-USDT    d_BCH-USDT  \\\n",
       "adf   0.575746  2.086989e-11  0.575746  2.086989e-11  0.149854  8.440609e-27   \n",
       "pp    0.653267  1.798817e-24  0.653267  1.798817e-24  0.163568  8.987973e-27   \n",
       "kpss  0.010000  1.000000e-01  0.010000  1.000000e-01  0.010000  1.000000e-01   \n",
       "\n",
       "      LTC-USDT    d_LTC-USDT  \n",
       "adf   0.416222  4.295237e-26  \n",
       "pp    0.477950  2.126329e-26  \n",
       "kpss  0.010000  1.000000e-01  "
      ]
     },
     "execution_count": 10,
     "metadata": {},
     "output_type": "execute_result"
    }
   ],
   "source": [
    "data = {\n",
    "    'adf': [],\n",
    "    'pp': [],\n",
    "    'kpss': []\n",
    "}\n",
    "columns = []\n",
    "\n",
    "for col in df.columns:\n",
    "    for test in methods.keys():\n",
    "        p1, p2 = perform_test(test, df[col])\n",
    "        data[test].append(p1)\n",
    "        data[test].append(p2)\n",
    "    \n",
    "    if col not in columns:\n",
    "        columns.append(col)\n",
    "    \n",
    "    if f'd_{col}' not in columns:\n",
    "        columns.append(f'd_{col}')\n",
    "\n",
    "    \n",
    "\n",
    "test_df = pd.DataFrame.from_dict(data, orient='index', columns=columns)\n",
    "test_df.head()"
   ]
  },
  {
   "cell_type": "markdown",
   "metadata": {},
   "source": [
    "The prices are not stationary but they all become stationary after the first differencing.\n",
    "For both adf and pp for the first differencing, `p-value` < 0.05 so we can reject the null.\n",
    "KPSS all 3 diff series is above the critical value so we can accept the null (series is stationary).\n",
    "\n",
    "Therefore, we can conclude that ETH, BCH, XLM are `I(1)` processes.\n",
    "\n",
    "which:\n",
    "- I(0): trend stationary\n",
    "- I(1): diference stationary"
   ]
  },
  {
   "cell_type": "markdown",
   "metadata": {},
   "source": [
    "\n",
    "The Engle-Granger method involves a linear regression on given time series data which,\n",
    "in this case, is BTC; but it is not important which cryptocurrency is taken as the dependent\n",
    "variable. We propose the following OLS model:\n",
    "\n",
    "$$\n",
    "ETH_t = c + \\beta_1 BCH_t + \\beta_2 XLM_t + \\epsilon_t\n",
    "$$"
   ]
  },
  {
   "cell_type": "code",
   "execution_count": 11,
   "metadata": {},
   "outputs": [],
   "source": [
    "renamed = {col: col.replace('-USDT', '') for col in df.columns}\n",
    "\n",
    "df.rename(columns=renamed, inplace=True)"
   ]
  },
  {
   "cell_type": "code",
   "execution_count": 12,
   "metadata": {},
   "outputs": [
    {
     "data": {
      "text/html": [
       "<div>\n",
       "<style scoped>\n",
       "    .dataframe tbody tr th:only-of-type {\n",
       "        vertical-align: middle;\n",
       "    }\n",
       "\n",
       "    .dataframe tbody tr th {\n",
       "        vertical-align: top;\n",
       "    }\n",
       "\n",
       "    .dataframe thead th {\n",
       "        text-align: right;\n",
       "    }\n",
       "</style>\n",
       "<table border=\"1\" class=\"dataframe\">\n",
       "  <thead>\n",
       "    <tr style=\"text-align: right;\">\n",
       "      <th></th>\n",
       "      <th>const</th>\n",
       "      <th>BTC</th>\n",
       "      <th>ETH</th>\n",
       "      <th>BCH</th>\n",
       "      <th>LTC</th>\n",
       "    </tr>\n",
       "    <tr>\n",
       "      <th>open_time</th>\n",
       "      <th></th>\n",
       "      <th></th>\n",
       "      <th></th>\n",
       "      <th></th>\n",
       "      <th></th>\n",
       "    </tr>\n",
       "  </thead>\n",
       "  <tbody>\n",
       "    <tr>\n",
       "      <th>2018-01-04</th>\n",
       "      <td>1.0</td>\n",
       "      <td>940.00</td>\n",
       "      <td>940.00</td>\n",
       "      <td>2362.74</td>\n",
       "      <td>233.00</td>\n",
       "    </tr>\n",
       "    <tr>\n",
       "      <th>2018-01-05</th>\n",
       "      <td>1.0</td>\n",
       "      <td>959.30</td>\n",
       "      <td>959.30</td>\n",
       "      <td>2398.00</td>\n",
       "      <td>240.54</td>\n",
       "    </tr>\n",
       "    <tr>\n",
       "      <th>2018-01-06</th>\n",
       "      <td>1.0</td>\n",
       "      <td>1004.11</td>\n",
       "      <td>1004.11</td>\n",
       "      <td>2524.72</td>\n",
       "      <td>275.28</td>\n",
       "    </tr>\n",
       "    <tr>\n",
       "      <th>2018-01-07</th>\n",
       "      <td>1.0</td>\n",
       "      <td>1123.09</td>\n",
       "      <td>1123.09</td>\n",
       "      <td>2523.10</td>\n",
       "      <td>269.01</td>\n",
       "    </tr>\n",
       "    <tr>\n",
       "      <th>2018-01-08</th>\n",
       "      <td>1.0</td>\n",
       "      <td>1133.18</td>\n",
       "      <td>1133.18</td>\n",
       "      <td>2409.29</td>\n",
       "      <td>252.65</td>\n",
       "    </tr>\n",
       "    <tr>\n",
       "      <th>...</th>\n",
       "      <td>...</td>\n",
       "      <td>...</td>\n",
       "      <td>...</td>\n",
       "      <td>...</td>\n",
       "      <td>...</td>\n",
       "    </tr>\n",
       "    <tr>\n",
       "      <th>2018-06-26</th>\n",
       "      <td>1.0</td>\n",
       "      <td>429.34</td>\n",
       "      <td>429.34</td>\n",
       "      <td>694.69</td>\n",
       "      <td>75.54</td>\n",
       "    </tr>\n",
       "    <tr>\n",
       "      <th>2018-06-27</th>\n",
       "      <td>1.0</td>\n",
       "      <td>441.64</td>\n",
       "      <td>441.64</td>\n",
       "      <td>713.05</td>\n",
       "      <td>80.60</td>\n",
       "    </tr>\n",
       "    <tr>\n",
       "      <th>2018-06-28</th>\n",
       "      <td>1.0</td>\n",
       "      <td>420.22</td>\n",
       "      <td>420.22</td>\n",
       "      <td>659.65</td>\n",
       "      <td>74.05</td>\n",
       "    </tr>\n",
       "    <tr>\n",
       "      <th>2018-06-29</th>\n",
       "      <td>1.0</td>\n",
       "      <td>434.77</td>\n",
       "      <td>434.77</td>\n",
       "      <td>716.40</td>\n",
       "      <td>78.94</td>\n",
       "    </tr>\n",
       "    <tr>\n",
       "      <th>2018-06-30</th>\n",
       "      <td>1.0</td>\n",
       "      <td>454.09</td>\n",
       "      <td>454.09</td>\n",
       "      <td>748.15</td>\n",
       "      <td>81.33</td>\n",
       "    </tr>\n",
       "  </tbody>\n",
       "</table>\n",
       "<p>178 rows × 5 columns</p>\n",
       "</div>"
      ],
      "text/plain": [
       "            const      BTC      ETH      BCH     LTC\n",
       "open_time                                           \n",
       "2018-01-04    1.0   940.00   940.00  2362.74  233.00\n",
       "2018-01-05    1.0   959.30   959.30  2398.00  240.54\n",
       "2018-01-06    1.0  1004.11  1004.11  2524.72  275.28\n",
       "2018-01-07    1.0  1123.09  1123.09  2523.10  269.01\n",
       "2018-01-08    1.0  1133.18  1133.18  2409.29  252.65\n",
       "...           ...      ...      ...      ...     ...\n",
       "2018-06-26    1.0   429.34   429.34   694.69   75.54\n",
       "2018-06-27    1.0   441.64   441.64   713.05   80.60\n",
       "2018-06-28    1.0   420.22   420.22   659.65   74.05\n",
       "2018-06-29    1.0   434.77   434.77   716.40   78.94\n",
       "2018-06-30    1.0   454.09   454.09   748.15   81.33\n",
       "\n",
       "[178 rows x 5 columns]"
      ]
     },
     "execution_count": 12,
     "metadata": {},
     "output_type": "execute_result"
    }
   ],
   "source": [
    "df = sm.add_constant(df)\n",
    "df"
   ]
  },
  {
   "cell_type": "code",
   "execution_count": 13,
   "metadata": {},
   "outputs": [
    {
     "name": "stdout",
     "output_type": "stream",
     "text": [
      "                            OLS Regression Results                            \n",
      "==============================================================================\n",
      "Dep. Variable:                    BTC   R-squared:                       1.000\n",
      "Model:                            OLS   Adj. R-squared:                  1.000\n",
      "Method:                 Least Squares   F-statistic:                 2.399e+31\n",
      "Date:                Mon, 27 Sep 2021   Prob (F-statistic):               0.00\n",
      "Time:                        16:00:05   Log-Likelihood:                 4846.8\n",
      "No. Observations:                 178   AIC:                            -9686.\n",
      "Df Residuals:                     174   BIC:                            -9673.\n",
      "Df Model:                           3                                         \n",
      "Covariance Type:            nonrobust                                         \n",
      "==============================================================================\n",
      "                 coef    std err          t      P>|t|      [0.025      0.975]\n",
      "------------------------------------------------------------------------------\n",
      "Intercept  -5.784e-14   5.13e-14     -1.127      0.261   -1.59e-13    4.34e-14\n",
      "const      -2.887e-14   5.13e-14     -0.563      0.574    -1.3e-13    7.24e-14\n",
      "LTC          3.83e-15   1.13e-15      3.397      0.001     1.6e-15    6.06e-15\n",
      "BCH         4.718e-16   1.29e-16      3.655      0.000    2.17e-16    7.27e-16\n",
      "ETH            1.0000   2.73e-16   3.67e+15      0.000       1.000       1.000\n",
      "==============================================================================\n",
      "Omnibus:                       41.565   Durbin-Watson:                   0.071\n",
      "Prob(Omnibus):                  0.000   Jarque-Bera (JB):               91.712\n",
      "Skew:                          -1.041   Prob(JB):                     1.22e-20\n",
      "Kurtosis:                       5.834   Cond. No.                     3.33e+17\n",
      "==============================================================================\n",
      "\n",
      "Notes:\n",
      "[1] Standard Errors assume that the covariance matrix of the errors is correctly specified.\n",
      "[2] The smallest eigenvalue is 3.7e-27. This might indicate that there are\n",
      "strong multicollinearity problems or that the design matrix is singular.\n"
     ]
    }
   ],
   "source": [
    "\n",
    "model = sm.OLS.from_formula(formula='BTC ~ const + LTC + BCH + ETH', data=df)\n",
    "\n",
    "results = model.fit()\n",
    "\n",
    "print(results.summary())"
   ]
  },
  {
   "cell_type": "markdown",
   "metadata": {},
   "source": [
    "From above Table, we obtain the relationships:\n",
    "\n",
    "$$\n",
    "ETH = 0.38 + 1.141BCH + 0.08XLM + \\epsilon_t\n",
    "$$\n",
    "\n",
    "Notably, all the regressing coefficients appear to be statistically significant with p-values less than 1%.\n",
    "R-squared: 0.935%."
   ]
  },
  {
   "cell_type": "code",
   "execution_count": 14,
   "metadata": {},
   "outputs": [
    {
     "data": {
      "text/plain": [
       "open_time\n",
       "2018-01-04   -9.094947e-13\n",
       "2018-01-05   -9.094947e-13\n",
       "2018-01-06   -1.136868e-12\n",
       "2018-01-07   -9.094947e-13\n",
       "2018-01-08   -6.821210e-13\n",
       "dtype: float64"
      ]
     },
     "execution_count": 14,
     "metadata": {},
     "output_type": "execute_result"
    }
   ],
   "source": [
    "results.resid.head()"
   ]
  },
  {
   "cell_type": "code",
   "execution_count": 15,
   "metadata": {},
   "outputs": [
    {
     "data": {
      "text/plain": [
       "Intercept   -5.784262e-14\n",
       "const       -2.886580e-14\n",
       "LTC          3.830269e-15\n",
       "BCH          4.718448e-16\n",
       "ETH          1.000000e+00\n",
       "dtype: float64"
      ]
     },
     "execution_count": 15,
     "metadata": {},
     "output_type": "execute_result"
    }
   ],
   "source": [
    "results.params"
   ]
  },
  {
   "cell_type": "code",
   "execution_count": 16,
   "metadata": {},
   "outputs": [
    {
     "data": {
      "text/plain": [
       "<matplotlib.axes._subplots.AxesSubplot at 0x2675a6bee10>"
      ]
     },
     "execution_count": 16,
     "metadata": {},
     "output_type": "execute_result"
    },
    {
     "data": {
      "image/png": "[encoded data removed]",
      "text/plain": [
       "<Figure size 432x288 with 1 Axes>"
      ]
     },
     "metadata": {
      "needs_background": "light"
     },
     "output_type": "display_data"
    }
   ],
   "source": [
    "results.resid.plot()"
   ]
  },
  {
   "cell_type": "code",
   "execution_count": 17,
   "metadata": {},
   "outputs": [
    {
     "name": "stdout",
     "output_type": "stream",
     "text": [
      "Results of Dickey-Fuller Test:\n",
      "Test Statistic                  -3.009746\n",
      "p-value                          0.033994\n",
      "#Lags Used                       4.000000\n",
      "Number of Observations Used    173.000000\n",
      "Critical Value (1%)             -3.468726\n",
      "Critical Value (5%)             -2.878396\n",
      "Critical Value (10%)            -2.575756\n",
      "dtype: float64\n"
     ]
    },
    {
     "data": {
      "text/plain": [
       "0.033994257423823136"
      ]
     },
     "execution_count": 17,
     "metadata": {},
     "output_type": "execute_result"
    }
   ],
   "source": [
    "adf_test(results.resid, verbose=True)"
   ]
  },
  {
   "cell_type": "code",
   "execution_count": 18,
   "metadata": {},
   "outputs": [
    {
     "name": "stdout",
     "output_type": "stream",
     "text": [
      "     Phillips-Perron Test (Z-tau)    \n",
      "=====================================\n",
      "Test Statistic                 -4.123\n",
      "P-value                         0.001\n",
      "Lags                               14\n",
      "-------------------------------------\n",
      "\n",
      "Trend: Constant\n",
      "Critical Values: -3.47 (1%), -2.88 (5%), -2.58 (10%)\n",
      "Null Hypothesis: The process contains a unit root.\n",
      "Alternative Hypothesis: The process is weakly stationary.\n"
     ]
    },
    {
     "data": {
      "text/plain": [
       "0.0008875939506716571"
      ]
     },
     "execution_count": 18,
     "metadata": {},
     "output_type": "execute_result"
    }
   ],
   "source": [
    "pp_test(results.resid, verbose=True)"
   ]
  },
  {
   "cell_type": "code",
   "execution_count": 19,
   "metadata": {},
   "outputs": [
    {
     "name": "stdout",
     "output_type": "stream",
     "text": [
      "Results of KPSS Test:\n",
      "Test Statistic           0.445063\n",
      "p-value                  0.057731\n",
      "Lags Used                8.000000\n",
      "Critical Value (10%)     0.347000\n",
      "Critical Value (5%)      0.463000\n",
      "Critical Value (2.5%)    0.574000\n",
      "Critical Value (1%)      0.739000\n",
      "dtype: float64\n"
     ]
    },
    {
     "data": {
      "text/plain": [
       "0.057731358980999015"
      ]
     },
     "execution_count": 19,
     "metadata": {},
     "output_type": "execute_result"
    }
   ],
   "source": [
    "kpss_test(results.resid, verbose=True)"
   ]
  },
  {
   "cell_type": "code",
   "execution_count": 24,
   "metadata": {},
   "outputs": [
    {
     "name": "stdout",
     "output_type": "stream",
     "text": [
      "(0.9999999999999989, 4.718447854656915e-16, 3.83026943495679e-15)\n"
     ]
    },
    {
     "data": {
      "text/plain": [
       "open_time\n",
       "2018-01-04   -9.841178e-13\n",
       "2018-01-05   -1.029635e-12\n",
       "2018-01-06   -1.108804e-12\n",
       "2018-01-07   -1.084024e-12\n",
       "2018-01-08   -7.402864e-13\n",
       "                  ...     \n",
       "2018-06-26   -1.623771e-13\n",
       "2018-06-27   -1.335779e-13\n",
       "2018-06-28   -1.401365e-13\n",
       "2018-06-29   -1.856437e-13\n",
       "2018-06-30   -1.529357e-13\n",
       "Freq: D, Length: 178, dtype: float64"
      ]
     },
     "execution_count": 24,
     "metadata": {},
     "output_type": "execute_result"
    }
   ],
   "source": [
    "s1 = df['BTC']\n",
    "s2 = df['ETH']\n",
    "s3 = df['BCH']\n",
    "s4 = df['LTC']\n",
    "\n",
    "hedge_ratio = (results.params['ETH'], results.params['BCH'], results.params['LTC'])\n",
    "print(hedge_ratio)\n",
    "\n",
    "spread = s1 - hedge_ratio[0] * s2 - hedge_ratio[1] * s3 - hedge_ratio[2] * s4\n",
    "spread "
   ]
  },
  {
   "cell_type": "code",
   "execution_count": 21,
   "metadata": {},
   "outputs": [
    {
     "data": {
      "text/plain": [
       "<matplotlib.legend.Legend at 0x2675b819c50>"
      ]
     },
     "execution_count": 21,
     "metadata": {},
     "output_type": "execute_result"
    },
    {
     "data": {
      "image/png": "[encoded data removed]",
      "text/plain": [
       "<Figure size 432x288 with 1 Axes>"
      ]
     },
     "metadata": {
      "needs_background": "light"
     },
     "output_type": "display_data"
    }
   ],
   "source": [
    "spread.plot() # Plot the spread\n",
    "plt.axhline(spread.mean(), color='red', linestyle='--') # Add the mean\n",
    "plt.xlabel('Time')\n",
    "plt.legend(['Price Spread', 'Mean'])"
   ]
  },
  {
   "cell_type": "code",
   "execution_count": 22,
   "metadata": {},
   "outputs": [],
   "source": [
    "def zscore(series):\n",
    "    return (series - series.mean()) / np.std(series)"
   ]
  },
  {
   "cell_type": "code",
   "execution_count": 23,
   "metadata": {},
   "outputs": [
    {
     "data": {
      "text/plain": [
       "<matplotlib.legend.Legend at 0x2675b8dbcc0>"
      ]
     },
     "execution_count": 23,
     "metadata": {},
     "output_type": "execute_result"
    },
    {
     "data": {
      "image/png": "[encoded data removed]",
      "text/plain": [
       "<Figure size 432x288 with 1 Axes>"
      ]
     },
     "metadata": {
      "needs_background": "light"
     },
     "output_type": "display_data"
    }
   ],
   "source": [
    "zscore(spread).plot()\n",
    "plt.axhline(zscore(spread).mean(), color='black')\n",
    "plt.axhline(1.0, color='red', linestyle='--')\n",
    "plt.axhline(-1.0, color='green', linestyle='--')\n",
    "plt.legend(['Spread z-score', 'Mean', '+1', '-1'])"
   ]
  },
  {
   "cell_type": "code",
   "execution_count": null,
   "metadata": {},
   "outputs": [],
   "source": []
  }
 ],
 "metadata": {
  "interpreter": {
   "hash": "db64578a3953c48ffb231acefaaf15e02370fbcb0c23ba84fb601c85d16f2985"
  },
  "kernelspec": {
   "display_name": "Python 3",
   "language": "python",
   "name": "python3"
  },
  "language_info": {
   "codemirror_mode": {
    "name": "ipython",
    "version": 3
   },
   "file_extension": ".py",
   "mimetype": "text/x-python",
   "name": "python",
   "nbconvert_exporter": "python",
   "pygments_lexer": "ipython3",
   "version": "3.6.10"
  }
 },
 "nbformat": 4,
 "nbformat_minor": 5
}
