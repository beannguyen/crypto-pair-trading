{
 "cells": [
  {
   "cell_type": "code",
   "execution_count": 2,
   "metadata": {},
   "outputs": [],
   "source": [
    "import sys\n",
    "\n",
    "sys.path.append(\"../\")\n"
   ]
  },
  {
   "cell_type": "code",
   "execution_count": 8,
   "metadata": {},
   "outputs": [],
   "source": [
    "import pandas as pd\n",
    "import numpy as np\n",
    "from statsmodels.tsa.stattools import adfuller, kpss\n",
    "from datetime import datetime, timedelta\n",
    "from arch.unitroot import PhillipsPerron\n",
    "import statsmodels.api as sm\n",
    "import statsmodels.formula.api as smf\n",
    "\n",
    "import matplotlib.pyplot as plt\n",
    "\n",
    "DATA_PATH = '../../data/1m'"
   ]
  },
  {
   "cell_type": "code",
   "execution_count": 10,
   "metadata": {},
   "outputs": [
    {
     "data": {
      "text/html": [
       "<div>\n",
       "<style scoped>\n",
       "    .dataframe tbody tr th:only-of-type {\n",
       "        vertical-align: middle;\n",
       "    }\n",
       "\n",
       "    .dataframe tbody tr th {\n",
       "        vertical-align: top;\n",
       "    }\n",
       "\n",
       "    .dataframe thead th {\n",
       "        text-align: right;\n",
       "    }\n",
       "</style>\n",
       "<table border=\"1\" class=\"dataframe\">\n",
       "  <thead>\n",
       "    <tr style=\"text-align: right;\">\n",
       "      <th></th>\n",
       "      <th>MATIC-USDT</th>\n",
       "      <th>ETH-USDT</th>\n",
       "      <th>ALGO-USDT</th>\n",
       "    </tr>\n",
       "    <tr>\n",
       "      <th>OpenTime</th>\n",
       "      <th></th>\n",
       "      <th></th>\n",
       "      <th></th>\n",
       "    </tr>\n",
       "  </thead>\n",
       "  <tbody>\n",
       "    <tr>\n",
       "      <th>2022-02-18 22:52:00</th>\n",
       "      <td>1.5882</td>\n",
       "      <td>2776.29</td>\n",
       "      <td>0.8906</td>\n",
       "    </tr>\n",
       "    <tr>\n",
       "      <th>2022-02-18 22:53:00</th>\n",
       "      <td>1.5895</td>\n",
       "      <td>2777.96</td>\n",
       "      <td>0.8908</td>\n",
       "    </tr>\n",
       "    <tr>\n",
       "      <th>2022-02-18 22:54:00</th>\n",
       "      <td>1.5900</td>\n",
       "      <td>2778.71</td>\n",
       "      <td>0.8907</td>\n",
       "    </tr>\n",
       "    <tr>\n",
       "      <th>2022-02-18 22:55:00</th>\n",
       "      <td>1.5889</td>\n",
       "      <td>2774.63</td>\n",
       "      <td>0.8898</td>\n",
       "    </tr>\n",
       "    <tr>\n",
       "      <th>2022-02-18 22:56:00</th>\n",
       "      <td>1.5896</td>\n",
       "      <td>2776.00</td>\n",
       "      <td>0.8901</td>\n",
       "    </tr>\n",
       "  </tbody>\n",
       "</table>\n",
       "</div>"
      ],
      "text/plain": [
       "                     MATIC-USDT  ETH-USDT  ALGO-USDT\n",
       "OpenTime                                            \n",
       "2022-02-18 22:52:00      1.5882   2776.29     0.8906\n",
       "2022-02-18 22:53:00      1.5895   2777.96     0.8908\n",
       "2022-02-18 22:54:00      1.5900   2778.71     0.8907\n",
       "2022-02-18 22:55:00      1.5889   2774.63     0.8898\n",
       "2022-02-18 22:56:00      1.5896   2776.00     0.8901"
      ]
     },
     "execution_count": 10,
     "metadata": {},
     "output_type": "execute_result"
    }
   ],
   "source": [
    "import traceback\n",
    "\n",
    "selected_pairs = ['MATIC-USDT', 'ETH-USDT', 'ALGO-USDT']\n",
    "\n",
    "data = []\n",
    "start_date = '2020-01-01'\n",
    "test_end = '2020-12-01'\n",
    "end_date = '2021-03-01'\n",
    "\n",
    "for symbol in selected_pairs:\n",
    "    try:\n",
    "        df = pd.read_csv(f'{DATA_PATH}/{symbol}.csv', \n",
    "                        parse_dates=['OpenTime'], \n",
    "                        index_col=['OpenTime'])\n",
    "\n",
    "        df.rename(columns={'Close': symbol}, inplace=True)\n",
    "        df = df[~df.index.duplicated(keep='first')]\n",
    "        # the data is too long, just limit to recent period\n",
    "        data.append(df[symbol])\n",
    "    except:\n",
    "        traceback.print_exc()\n",
    "\n",
    "df = pd.concat(data, axis=1)\n",
    "df = df.dropna(axis=1, how='all')\n",
    "df.dropna(inplace=True, how='any')\n",
    "\n",
    "df.head()"
   ]
  },
  {
   "cell_type": "code",
   "execution_count": 11,
   "metadata": {},
   "outputs": [
    {
     "data": {
      "text/html": [
       "<div>\n",
       "<style scoped>\n",
       "    .dataframe tbody tr th:only-of-type {\n",
       "        vertical-align: middle;\n",
       "    }\n",
       "\n",
       "    .dataframe tbody tr th {\n",
       "        vertical-align: top;\n",
       "    }\n",
       "\n",
       "    .dataframe thead th {\n",
       "        text-align: right;\n",
       "    }\n",
       "</style>\n",
       "<table border=\"1\" class=\"dataframe\">\n",
       "  <thead>\n",
       "    <tr style=\"text-align: right;\">\n",
       "      <th></th>\n",
       "      <th>MATIC-USDT</th>\n",
       "      <th>ETH-USDT</th>\n",
       "      <th>ALGO-USDT</th>\n",
       "    </tr>\n",
       "    <tr>\n",
       "      <th>OpenTime</th>\n",
       "      <th></th>\n",
       "      <th></th>\n",
       "      <th></th>\n",
       "    </tr>\n",
       "  </thead>\n",
       "  <tbody>\n",
       "    <tr>\n",
       "      <th>2022-02-19 15:27:00</th>\n",
       "      <td>1.5987</td>\n",
       "      <td>2740.13</td>\n",
       "      <td>0.8891</td>\n",
       "    </tr>\n",
       "    <tr>\n",
       "      <th>2022-02-19 15:28:00</th>\n",
       "      <td>1.5982</td>\n",
       "      <td>2740.87</td>\n",
       "      <td>0.8894</td>\n",
       "    </tr>\n",
       "    <tr>\n",
       "      <th>2022-02-19 15:29:00</th>\n",
       "      <td>1.5995</td>\n",
       "      <td>2740.93</td>\n",
       "      <td>0.8896</td>\n",
       "    </tr>\n",
       "    <tr>\n",
       "      <th>2022-02-19 15:30:00</th>\n",
       "      <td>1.5963</td>\n",
       "      <td>2737.60</td>\n",
       "      <td>0.8880</td>\n",
       "    </tr>\n",
       "    <tr>\n",
       "      <th>2022-02-19 15:31:00</th>\n",
       "      <td>1.5979</td>\n",
       "      <td>2738.04</td>\n",
       "      <td>0.8885</td>\n",
       "    </tr>\n",
       "  </tbody>\n",
       "</table>\n",
       "</div>"
      ],
      "text/plain": [
       "                     MATIC-USDT  ETH-USDT  ALGO-USDT\n",
       "OpenTime                                            \n",
       "2022-02-19 15:27:00      1.5987   2740.13     0.8891\n",
       "2022-02-19 15:28:00      1.5982   2740.87     0.8894\n",
       "2022-02-19 15:29:00      1.5995   2740.93     0.8896\n",
       "2022-02-19 15:30:00      1.5963   2737.60     0.8880\n",
       "2022-02-19 15:31:00      1.5979   2738.04     0.8885"
      ]
     },
     "execution_count": 11,
     "metadata": {},
     "output_type": "execute_result"
    }
   ],
   "source": [
    "df.tail()\n"
   ]
  },
  {
   "cell_type": "code",
   "execution_count": 12,
   "metadata": {},
   "outputs": [],
   "source": [
    "def adf_test(timeseries, verbose=False):\n",
    "    dftest = adfuller(timeseries, autolag='AIC')\n",
    "    dfoutput = pd.Series(dftest[0:4], index=['Test Statistic','p-value','#Lags Used','Number of Observations Used'])\n",
    "    \n",
    "    if verbose:\n",
    "        print ('Results of Dickey-Fuller Test:')\n",
    "        for key,value in dftest[4].items():\n",
    "            dfoutput['Critical Value (%s)'%key] = value\n",
    "        print(dfoutput)\n",
    "    return dfoutput['p-value']"
   ]
  },
  {
   "cell_type": "code",
   "execution_count": 13,
   "metadata": {},
   "outputs": [],
   "source": [
    "def pp_test(timeseries, verbose=False):\n",
    "    pp = PhillipsPerron(timeseries)\n",
    "    if verbose:\n",
    "        print(pp.summary().as_text())\n",
    "    \n",
    "    return pp.pvalue\n",
    "\n",
    "\n",
    "def kpss_test(timeseries, verbose=False):\n",
    "    kpsstest = kpss(timeseries, regression='c', nlags=\"auto\")\n",
    "    kpss_output = pd.Series(kpsstest[0:3], index=['Test Statistic','p-value','Lags Used'])\n",
    "\n",
    "    if verbose:\n",
    "        print ('Results of KPSS Test:')\n",
    "        for key,value in kpsstest[3].items():\n",
    "            kpss_output['Critical Value (%s)'%key] = value\n",
    "        print (kpss_output)\n",
    "    return kpss_output['p-value']\n"
   ]
  },
  {
   "cell_type": "code",
   "execution_count": 14,
   "metadata": {},
   "outputs": [],
   "source": [
    "methods = {\n",
    "    'adf': adf_test,\n",
    "    'pp': pp_test,\n",
    "    'kpss': kpss_test\n",
    "}\n",
    "\n",
    "\n",
    "def perform_test(method, series):\n",
    "    func_ = methods[method]\n",
    "    \n",
    "    # p_v1 = func_(np.log(series))\n",
    "    p_v1 = func_(series)\n",
    "\n",
    "    # diff = np.log(series) - np.log(series.shift(1))\n",
    "    diff = series.diff()\n",
    "    diff.dropna(inplace=True)\n",
    "    p_v2 = func_(diff)\n",
    "\n",
    "    return p_v1, p_v2"
   ]
  },
  {
   "cell_type": "code",
   "execution_count": 15,
   "metadata": {},
   "outputs": [
    {
     "name": "stderr",
     "output_type": "stream",
     "text": [
      "/home/bean/miniconda3/envs/trade/lib/python3.7/site-packages/statsmodels/tsa/stattools.py:1907: InterpolationWarning: The test statistic is outside of the range of p-values available in the\n",
      "look-up table. The actual p-value is smaller than the p-value returned.\n",
      "\n",
      "  warn_msg.format(direction=\"smaller\"), InterpolationWarning\n",
      "/home/bean/miniconda3/envs/trade/lib/python3.7/site-packages/statsmodels/tsa/stattools.py:1911: InterpolationWarning: The test statistic is outside of the range of p-values available in the\n",
      "look-up table. The actual p-value is greater than the p-value returned.\n",
      "\n",
      "  warn_msg.format(direction=\"greater\"), InterpolationWarning\n",
      "/home/bean/miniconda3/envs/trade/lib/python3.7/site-packages/statsmodels/tsa/stattools.py:1907: InterpolationWarning: The test statistic is outside of the range of p-values available in the\n",
      "look-up table. The actual p-value is smaller than the p-value returned.\n",
      "\n",
      "  warn_msg.format(direction=\"smaller\"), InterpolationWarning\n",
      "/home/bean/miniconda3/envs/trade/lib/python3.7/site-packages/statsmodels/tsa/stattools.py:1911: InterpolationWarning: The test statistic is outside of the range of p-values available in the\n",
      "look-up table. The actual p-value is greater than the p-value returned.\n",
      "\n",
      "  warn_msg.format(direction=\"greater\"), InterpolationWarning\n",
      "/home/bean/miniconda3/envs/trade/lib/python3.7/site-packages/statsmodels/tsa/stattools.py:1907: InterpolationWarning: The test statistic is outside of the range of p-values available in the\n",
      "look-up table. The actual p-value is smaller than the p-value returned.\n",
      "\n",
      "  warn_msg.format(direction=\"smaller\"), InterpolationWarning\n",
      "/home/bean/miniconda3/envs/trade/lib/python3.7/site-packages/statsmodels/tsa/stattools.py:1911: InterpolationWarning: The test statistic is outside of the range of p-values available in the\n",
      "look-up table. The actual p-value is greater than the p-value returned.\n",
      "\n",
      "  warn_msg.format(direction=\"greater\"), InterpolationWarning\n"
     ]
    },
    {
     "data": {
      "text/html": [
       "<div>\n",
       "<style scoped>\n",
       "    .dataframe tbody tr th:only-of-type {\n",
       "        vertical-align: middle;\n",
       "    }\n",
       "\n",
       "    .dataframe tbody tr th {\n",
       "        vertical-align: top;\n",
       "    }\n",
       "\n",
       "    .dataframe thead th {\n",
       "        text-align: right;\n",
       "    }\n",
       "</style>\n",
       "<table border=\"1\" class=\"dataframe\">\n",
       "  <thead>\n",
       "    <tr style=\"text-align: right;\">\n",
       "      <th></th>\n",
       "      <th>MATIC-USDT</th>\n",
       "      <th>d_MATIC-USDT</th>\n",
       "      <th>ETH-USDT</th>\n",
       "      <th>d_ETH-USDT</th>\n",
       "      <th>ALGO-USDT</th>\n",
       "      <th>d_ALGO-USDT</th>\n",
       "    </tr>\n",
       "  </thead>\n",
       "  <tbody>\n",
       "    <tr>\n",
       "      <th>adf</th>\n",
       "      <td>0.473695</td>\n",
       "      <td>0.0</td>\n",
       "      <td>0.835089</td>\n",
       "      <td>0.0</td>\n",
       "      <td>0.667481</td>\n",
       "      <td>0.0</td>\n",
       "    </tr>\n",
       "    <tr>\n",
       "      <th>pp</th>\n",
       "      <td>0.499920</td>\n",
       "      <td>0.0</td>\n",
       "      <td>0.835241</td>\n",
       "      <td>0.0</td>\n",
       "      <td>0.706426</td>\n",
       "      <td>0.0</td>\n",
       "    </tr>\n",
       "    <tr>\n",
       "      <th>kpss</th>\n",
       "      <td>0.010000</td>\n",
       "      <td>0.1</td>\n",
       "      <td>0.010000</td>\n",
       "      <td>0.1</td>\n",
       "      <td>0.010000</td>\n",
       "      <td>0.1</td>\n",
       "    </tr>\n",
       "  </tbody>\n",
       "</table>\n",
       "</div>"
      ],
      "text/plain": [
       "      MATIC-USDT  d_MATIC-USDT  ETH-USDT  d_ETH-USDT  ALGO-USDT  d_ALGO-USDT\n",
       "adf     0.473695           0.0  0.835089         0.0   0.667481          0.0\n",
       "pp      0.499920           0.0  0.835241         0.0   0.706426          0.0\n",
       "kpss    0.010000           0.1  0.010000         0.1   0.010000          0.1"
      ]
     },
     "execution_count": 15,
     "metadata": {},
     "output_type": "execute_result"
    }
   ],
   "source": [
    "data = {\n",
    "    'adf': [],\n",
    "    'pp': [],\n",
    "    'kpss': []\n",
    "}\n",
    "columns = []\n",
    "\n",
    "for col in df.columns:\n",
    "    for test in methods.keys():\n",
    "        p1, p2 = perform_test(test, df[col])\n",
    "        data[test].append(p1)\n",
    "        data[test].append(p2)\n",
    "    \n",
    "    if col not in columns:\n",
    "        columns.append(col)\n",
    "    \n",
    "    if f'd_{col}' not in columns:\n",
    "        columns.append(f'd_{col}')\n",
    "\n",
    "    \n",
    "\n",
    "test_df = pd.DataFrame.from_dict(data, orient='index', columns=columns)\n",
    "test_df.head()"
   ]
  },
  {
   "cell_type": "markdown",
   "metadata": {},
   "source": [
    "The prices are not stationary but they all become stationary after the first differencing.\n",
    "For both adf and pp for the first differencing, `p-value` < 0.05 so we can reject the null.\n",
    "KPSS all 3 diff series is above the critical value so we can accept the null (series is stationary).\n",
    "\n",
    "Therefore, we can conclude that ETH, BCH, XLM are `I(1)` processes.\n",
    "\n",
    "which:\n",
    "- I(0): trend stationary\n",
    "- I(1): diference stationary"
   ]
  },
  {
   "cell_type": "markdown",
   "metadata": {},
   "source": [
    "\n",
    "The Engle-Granger method involves a linear regression on given time series data which,\n",
    "in this case, is BTC; but it is not important which cryptocurrency is taken as the dependent\n",
    "variable. We propose the following OLS model:\n",
    "\n",
    "$$\n",
    "ETH_t = c + \\beta_1 BCH_t + \\beta_2 XLM_t + \\epsilon_t\n",
    "$$"
   ]
  },
  {
   "cell_type": "code",
   "execution_count": 16,
   "metadata": {},
   "outputs": [],
   "source": [
    "renamed = {col: col.replace('-USDT', '') for col in df.columns}\n",
    "\n",
    "df.rename(columns=renamed, inplace=True)"
   ]
  },
  {
   "cell_type": "code",
   "execution_count": 17,
   "metadata": {},
   "outputs": [
    {
     "name": "stderr",
     "output_type": "stream",
     "text": [
      "/home/bean/miniconda3/envs/trade/lib/python3.7/site-packages/statsmodels/tsa/tsatools.py:142: FutureWarning: In a future version of pandas all arguments of concat except for the argument 'objs' will be keyword-only\n",
      "  x = pd.concat(x[::order], 1)\n"
     ]
    },
    {
     "data": {
      "text/html": [
       "<div>\n",
       "<style scoped>\n",
       "    .dataframe tbody tr th:only-of-type {\n",
       "        vertical-align: middle;\n",
       "    }\n",
       "\n",
       "    .dataframe tbody tr th {\n",
       "        vertical-align: top;\n",
       "    }\n",
       "\n",
       "    .dataframe thead th {\n",
       "        text-align: right;\n",
       "    }\n",
       "</style>\n",
       "<table border=\"1\" class=\"dataframe\">\n",
       "  <thead>\n",
       "    <tr style=\"text-align: right;\">\n",
       "      <th></th>\n",
       "      <th>const</th>\n",
       "      <th>MATIC</th>\n",
       "      <th>ETH</th>\n",
       "      <th>ALGO</th>\n",
       "    </tr>\n",
       "    <tr>\n",
       "      <th>OpenTime</th>\n",
       "      <th></th>\n",
       "      <th></th>\n",
       "      <th></th>\n",
       "      <th></th>\n",
       "    </tr>\n",
       "  </thead>\n",
       "  <tbody>\n",
       "    <tr>\n",
       "      <th>2022-02-18 22:52:00</th>\n",
       "      <td>1.0</td>\n",
       "      <td>1.5882</td>\n",
       "      <td>2776.29</td>\n",
       "      <td>0.8906</td>\n",
       "    </tr>\n",
       "    <tr>\n",
       "      <th>2022-02-18 22:53:00</th>\n",
       "      <td>1.0</td>\n",
       "      <td>1.5895</td>\n",
       "      <td>2777.96</td>\n",
       "      <td>0.8908</td>\n",
       "    </tr>\n",
       "    <tr>\n",
       "      <th>2022-02-18 22:54:00</th>\n",
       "      <td>1.0</td>\n",
       "      <td>1.5900</td>\n",
       "      <td>2778.71</td>\n",
       "      <td>0.8907</td>\n",
       "    </tr>\n",
       "    <tr>\n",
       "      <th>2022-02-18 22:55:00</th>\n",
       "      <td>1.0</td>\n",
       "      <td>1.5889</td>\n",
       "      <td>2774.63</td>\n",
       "      <td>0.8898</td>\n",
       "    </tr>\n",
       "    <tr>\n",
       "      <th>2022-02-18 22:56:00</th>\n",
       "      <td>1.0</td>\n",
       "      <td>1.5896</td>\n",
       "      <td>2776.00</td>\n",
       "      <td>0.8901</td>\n",
       "    </tr>\n",
       "    <tr>\n",
       "      <th>...</th>\n",
       "      <td>...</td>\n",
       "      <td>...</td>\n",
       "      <td>...</td>\n",
       "      <td>...</td>\n",
       "    </tr>\n",
       "    <tr>\n",
       "      <th>2022-02-19 15:27:00</th>\n",
       "      <td>1.0</td>\n",
       "      <td>1.5987</td>\n",
       "      <td>2740.13</td>\n",
       "      <td>0.8891</td>\n",
       "    </tr>\n",
       "    <tr>\n",
       "      <th>2022-02-19 15:28:00</th>\n",
       "      <td>1.0</td>\n",
       "      <td>1.5982</td>\n",
       "      <td>2740.87</td>\n",
       "      <td>0.8894</td>\n",
       "    </tr>\n",
       "    <tr>\n",
       "      <th>2022-02-19 15:29:00</th>\n",
       "      <td>1.0</td>\n",
       "      <td>1.5995</td>\n",
       "      <td>2740.93</td>\n",
       "      <td>0.8896</td>\n",
       "    </tr>\n",
       "    <tr>\n",
       "      <th>2022-02-19 15:30:00</th>\n",
       "      <td>1.0</td>\n",
       "      <td>1.5963</td>\n",
       "      <td>2737.60</td>\n",
       "      <td>0.8880</td>\n",
       "    </tr>\n",
       "    <tr>\n",
       "      <th>2022-02-19 15:31:00</th>\n",
       "      <td>1.0</td>\n",
       "      <td>1.5979</td>\n",
       "      <td>2738.04</td>\n",
       "      <td>0.8885</td>\n",
       "    </tr>\n",
       "  </tbody>\n",
       "</table>\n",
       "<p>1000 rows × 4 columns</p>\n",
       "</div>"
      ],
      "text/plain": [
       "                     const   MATIC      ETH    ALGO\n",
       "OpenTime                                           \n",
       "2022-02-18 22:52:00    1.0  1.5882  2776.29  0.8906\n",
       "2022-02-18 22:53:00    1.0  1.5895  2777.96  0.8908\n",
       "2022-02-18 22:54:00    1.0  1.5900  2778.71  0.8907\n",
       "2022-02-18 22:55:00    1.0  1.5889  2774.63  0.8898\n",
       "2022-02-18 22:56:00    1.0  1.5896  2776.00  0.8901\n",
       "...                    ...     ...      ...     ...\n",
       "2022-02-19 15:27:00    1.0  1.5987  2740.13  0.8891\n",
       "2022-02-19 15:28:00    1.0  1.5982  2740.87  0.8894\n",
       "2022-02-19 15:29:00    1.0  1.5995  2740.93  0.8896\n",
       "2022-02-19 15:30:00    1.0  1.5963  2737.60  0.8880\n",
       "2022-02-19 15:31:00    1.0  1.5979  2738.04  0.8885\n",
       "\n",
       "[1000 rows x 4 columns]"
      ]
     },
     "execution_count": 17,
     "metadata": {},
     "output_type": "execute_result"
    }
   ],
   "source": [
    "df = sm.add_constant(df)\n",
    "df"
   ]
  },
  {
   "cell_type": "code",
   "execution_count": 18,
   "metadata": {},
   "outputs": [
    {
     "name": "stdout",
     "output_type": "stream",
     "text": [
      "                            OLS Regression Results                            \n",
      "==============================================================================\n",
      "Dep. Variable:                    ETH   R-squared:                       0.899\n",
      "Model:                            OLS   Adj. R-squared:                  0.899\n",
      "Method:                 Least Squares   F-statistic:                     2958.\n",
      "Date:                Sat, 19 Feb 2022   Prob (F-statistic):               0.00\n",
      "Time:                        22:37:09   Log-Likelihood:                -3849.1\n",
      "No. Observations:                1000   AIC:                             7706.\n",
      "Df Residuals:                     996   BIC:                             7726.\n",
      "Df Model:                           3                                         \n",
      "Covariance Type:            nonrobust                                         \n",
      "==============================================================================\n",
      "                 coef    std err          t      P>|t|      [0.025      0.975]\n",
      "------------------------------------------------------------------------------\n",
      "Intercept  -1.186e+14   5.48e+13     -2.164      0.031   -2.26e+14    -1.1e+13\n",
      "const       1.186e+14   5.48e+13      2.164      0.031     1.1e+13    2.26e+14\n",
      "MATIC       1098.7463     63.024     17.434      0.000     975.072    1222.421\n",
      "ALGO        1175.0936    101.430     11.585      0.000     976.053    1374.134\n",
      "==============================================================================\n",
      "Omnibus:                       38.760   Durbin-Watson:                   0.016\n",
      "Prob(Omnibus):                  0.000   Jarque-Bera (JB):               21.495\n",
      "Skew:                           0.188   Prob(JB):                     2.15e-05\n",
      "Kurtosis:                       2.388   Cond. No.                     5.00e+14\n",
      "==============================================================================\n",
      "\n",
      "Notes:\n",
      "[1] Standard Errors assume that the covariance matrix of the errors is correctly specified.\n",
      "[2] The smallest eigenvalue is 2.16e-26. This might indicate that there are\n",
      "strong multicollinearity problems or that the design matrix is singular.\n"
     ]
    }
   ],
   "source": [
    "\n",
    "model = sm.OLS.from_formula(formula='ETH ~ const + MATIC + ALGO', data=df)\n",
    "\n",
    "results = model.fit()\n",
    "\n",
    "print(results.summary())"
   ]
  },
  {
   "cell_type": "markdown",
   "metadata": {},
   "source": [
    "From above Table, we obtain the relationships:\n",
    "\n",
    "$$\n",
    "ETH = 0.38 + 1.141BCH + 0.08XLM + \\epsilon_t\n",
    "$$\n",
    "\n",
    "Notably, all the regressing coefficients appear to be statistically significant with p-values less than 1%.\n",
    "R-squared: 0.935%."
   ]
  },
  {
   "cell_type": "code",
   "execution_count": 19,
   "metadata": {},
   "outputs": [
    {
     "data": {
      "text/plain": [
       "OpenTime\n",
       "2022-02-18 22:52:00    23.727500\n",
       "2022-02-18 22:53:00    23.741250\n",
       "2022-02-18 22:54:00    24.053750\n",
       "2022-02-18 22:55:00    22.239375\n",
       "2022-02-18 22:56:00    22.484375\n",
       "dtype: float64"
      ]
     },
     "execution_count": 19,
     "metadata": {},
     "output_type": "execute_result"
    }
   ],
   "source": [
    "results.resid.head()"
   ]
  },
  {
   "cell_type": "code",
   "execution_count": 20,
   "metadata": {},
   "outputs": [
    {
     "data": {
      "text/plain": [
       "Intercept   -1.185598e+14\n",
       "const        1.185598e+14\n",
       "MATIC        1.098746e+03\n",
       "ALGO         1.175094e+03\n",
       "dtype: float64"
      ]
     },
     "execution_count": 20,
     "metadata": {},
     "output_type": "execute_result"
    }
   ],
   "source": [
    "results.params"
   ]
  },
  {
   "cell_type": "code",
   "execution_count": 21,
   "metadata": {},
   "outputs": [
    {
     "data": {
      "text/plain": [
       "<AxesSubplot:xlabel='OpenTime'>"
      ]
     },
     "execution_count": 21,
     "metadata": {},
     "output_type": "execute_result"
    },
    {
     "data": {
      "image/png": "[encoded data removed]",
      "text/plain": [
       "<Figure size 432x288 with 1 Axes>"
      ]
     },
     "metadata": {
      "needs_background": "light"
     },
     "output_type": "display_data"
    }
   ],
   "source": [
    "results.resid.plot()"
   ]
  },
  {
   "cell_type": "code",
   "execution_count": 22,
   "metadata": {},
   "outputs": [
    {
     "name": "stdout",
     "output_type": "stream",
     "text": [
      "Results of Dickey-Fuller Test:\n",
      "Test Statistic                  -1.907332\n",
      "p-value                          0.328620\n",
      "#Lags Used                       1.000000\n",
      "Number of Observations Used    998.000000\n",
      "Critical Value (1%)             -3.436919\n",
      "Critical Value (5%)             -2.864440\n",
      "Critical Value (10%)            -2.568314\n",
      "dtype: float64\n"
     ]
    },
    {
     "data": {
      "text/plain": [
       "0.32861976296079687"
      ]
     },
     "execution_count": 22,
     "metadata": {},
     "output_type": "execute_result"
    }
   ],
   "source": [
    "adf_test(results.resid, verbose=True)"
   ]
  },
  {
   "cell_type": "code",
   "execution_count": 23,
   "metadata": {},
   "outputs": [
    {
     "name": "stdout",
     "output_type": "stream",
     "text": [
      "     Phillips-Perron Test (Z-tau)    \n",
      "=====================================\n",
      "Test Statistic                 -2.003\n",
      "P-value                         0.285\n",
      "Lags                               22\n",
      "-------------------------------------\n",
      "\n",
      "Trend: Constant\n",
      "Critical Values: -3.44 (1%), -2.86 (5%), -2.57 (10%)\n",
      "Null Hypothesis: The process contains a unit root.\n",
      "Alternative Hypothesis: The process is weakly stationary.\n"
     ]
    },
    {
     "data": {
      "text/plain": [
       "0.2850835389864701"
      ]
     },
     "execution_count": 23,
     "metadata": {},
     "output_type": "execute_result"
    }
   ],
   "source": [
    "pp_test(results.resid, verbose=True)"
   ]
  },
  {
   "cell_type": "code",
   "execution_count": 24,
   "metadata": {},
   "outputs": [
    {
     "name": "stdout",
     "output_type": "stream",
     "text": [
      "Results of KPSS Test:\n",
      "Test Statistic            2.496442\n",
      "p-value                   0.010000\n",
      "Lags Used                19.000000\n",
      "Critical Value (10%)      0.347000\n",
      "Critical Value (5%)       0.463000\n",
      "Critical Value (2.5%)     0.574000\n",
      "Critical Value (1%)       0.739000\n",
      "dtype: float64\n"
     ]
    },
    {
     "name": "stderr",
     "output_type": "stream",
     "text": [
      "/home/bean/miniconda3/envs/trade/lib/python3.7/site-packages/statsmodels/tsa/stattools.py:1907: InterpolationWarning: The test statistic is outside of the range of p-values available in the\n",
      "look-up table. The actual p-value is smaller than the p-value returned.\n",
      "\n",
      "  warn_msg.format(direction=\"smaller\"), InterpolationWarning\n"
     ]
    },
    {
     "data": {
      "text/plain": [
       "0.01"
      ]
     },
     "execution_count": 24,
     "metadata": {},
     "output_type": "execute_result"
    }
   ],
   "source": [
    "kpss_test(results.resid, verbose=True)"
   ]
  },
  {
   "cell_type": "code",
   "execution_count": 108,
   "metadata": {},
   "outputs": [
    {
     "name": "stdout",
     "output_type": "stream",
     "text": [
      "(16.101308509559374, -13.483659162183518, 123.1079417209483)\n"
     ]
    },
    {
     "data": {
      "text/plain": [
       "open_time\n",
       "2019-11-28 10:00:00    2183.452841\n",
       "2019-11-28 11:00:00    2162.133252\n",
       "2019-11-28 12:00:00    2182.928077\n",
       "2019-11-28 13:00:00    2192.404801\n",
       "2019-11-28 14:00:00    2188.688809\n",
       "                          ...     \n",
       "2020-11-30 19:00:00    3209.548598\n",
       "2020-11-30 20:00:00    3247.136772\n",
       "2020-11-30 21:00:00    3202.361860\n",
       "2020-11-30 22:00:00    3188.278039\n",
       "2020-11-30 23:00:00    3257.352950\n",
       "Length: 8833, dtype: float64"
      ]
     },
     "execution_count": 108,
     "metadata": {},
     "output_type": "execute_result"
    }
   ],
   "source": [
    "s1 = df['BTC']\n",
    "s2 = df['ETH']\n",
    "s3 = df['BCH']\n",
    "s4 = df['LTC']\n",
    "\n",
    "hedge_ratio = (results.params['ETH'], results.params['BCH'], results.params['LTC'])\n",
    "print(hedge_ratio)\n",
    "\n",
    "spread = s1 - hedge_ratio[0] * s2 - hedge_ratio[1] * s3 - hedge_ratio[2] * s4\n",
    "spread "
   ]
  },
  {
   "cell_type": "code",
   "execution_count": 109,
   "metadata": {},
   "outputs": [
    {
     "data": {
      "text/plain": [
       "<matplotlib.legend.Legend at 0x1ac2df7a400>"
      ]
     },
     "execution_count": 109,
     "metadata": {},
     "output_type": "execute_result"
    },
    {
     "data": {
      "image/png": "[encoded data removed]",
      "text/plain": [
       "<Figure size 432x288 with 1 Axes>"
      ]
     },
     "metadata": {
      "needs_background": "light"
     },
     "output_type": "display_data"
    }
   ],
   "source": [
    "spread.plot() # Plot the spread\n",
    "plt.axhline(spread.mean(), color='red', linestyle='--') # Add the mean\n",
    "plt.xlabel('Time')\n",
    "plt.legend(['Price Spread', 'Mean'])"
   ]
  },
  {
   "cell_type": "code",
   "execution_count": 110,
   "metadata": {},
   "outputs": [],
   "source": [
    "def zscore(series):\n",
    "    return (series - series.mean()) / np.std(series)"
   ]
  },
  {
   "cell_type": "code",
   "execution_count": 111,
   "metadata": {},
   "outputs": [
    {
     "data": {
      "text/plain": [
       "<matplotlib.legend.Legend at 0x1ac2e03b7b8>"
      ]
     },
     "execution_count": 111,
     "metadata": {},
     "output_type": "execute_result"
    },
    {
     "data": {
      "image/png": "[encoded data removed]",
      "text/plain": [
       "<Figure size 432x288 with 1 Axes>"
      ]
     },
     "metadata": {
      "needs_background": "light"
     },
     "output_type": "display_data"
    }
   ],
   "source": [
    "zscore(spread).plot()\n",
    "plt.axhline(zscore(spread).mean(), color='black')\n",
    "plt.axhline(1.0, color='red', linestyle='--')\n",
    "plt.axhline(-1.0, color='green', linestyle='--')\n",
    "plt.legend(['Spread z-score', 'Mean', '+1', '-1'])"
   ]
  },
  {
   "cell_type": "code",
   "execution_count": null,
   "metadata": {},
   "outputs": [],
   "source": []
  }
 ],
 "metadata": {
  "interpreter": {
   "hash": "db64578a3953c48ffb231acefaaf15e02370fbcb0c23ba84fb601c85d16f2985"
  },
  "kernelspec": {
   "display_name": "Python 3",
   "language": "python",
   "name": "python3"
  },
  "language_info": {
   "codemirror_mode": {
    "name": "ipython",
    "version": 3
   },
   "file_extension": ".py",
   "mimetype": "text/x-python",
   "name": "python",
   "nbconvert_exporter": "python",
   "pygments_lexer": "ipython3",
   "version": "3.7.11"
  }
 },
 "nbformat": 4,
 "nbformat_minor": 5
}
