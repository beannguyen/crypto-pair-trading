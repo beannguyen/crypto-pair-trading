{
 "cells": [
  {
   "cell_type": "code",
   "execution_count": 1,
   "metadata": {},
   "outputs": [],
   "source": [
    "import requests\n",
    "import json\n",
    "import pandas as pd\n",
    "from datetime import datetime\n",
    "import matplotlib.pyplot as plt"
   ]
  },
  {
   "cell_type": "code",
   "execution_count": 10,
   "metadata": {},
   "outputs": [],
   "source": [
    "\n",
    "def to_dataframe(json_data):\n",
    "    df = pd.DataFrame(json_data, columns=['OpenTime', 'Open', 'High', 'Low', 'Close', 'Volume', 'CloseTime', 'BaseAssetVolume', 'NbTrades', 'TakerBuyVol', 'TakerBuyBaseAssetVol', 'Ignore'])\n",
    "    df.drop(columns=['CloseTime', 'BaseAssetVolume', 'NbTrades', 'TakerBuyVol', 'TakerBuyBaseAssetVol', 'Ignore'], inplace=True)\n",
    "    df['open_time'] = pd.to_datetime(df['OpenTime'], unit='ms')\n",
    "    df.set_index(keys=['open_time'], inplace=True)\n",
    "\n",
    "    df[['Open', 'High', 'Low', 'Close', 'Volume']] = df[['Open', 'High', 'Low', 'Close', 'Volume']].astype('float32')\n",
    "    df.columns = [col.lower() for col in df.columns]\n",
    "\n",
    "    return df\n",
    "\n",
    "\n",
    "def get_klines(base_url, symbol, interval='1m'):\n",
    "    end_time = int(datetime.utcnow().timestamp() * 1000)\n",
    "    url = f\"{base_url}/klines?symbol={symbol}&limit=1000&interval={interval}&endTime={end_time}\"\n",
    "\n",
    "    headers = {\n",
    "        'Content-Type': 'application/json'\n",
    "    }\n",
    "\n",
    "    response = requests.request(\"GET\", url, headers=headers)\n",
    "\n",
    "    df = to_dataframe(response.json())\n",
    "    return df\n",
    "\n",
    "\n",
    "def get_futures_data(symbol, interval='1m'):\n",
    "    return get_klines('https://fapi.binance.com/fapi/v1', symbol, interval=interval)\n",
    "\n",
    "\n",
    "\n",
    "def get_coinm_data(symbol, interval='1m'):\n",
    "    # \n",
    "    return get_klines('https://dapi.binance.com/dapi/v1', symbol, interval=interval)\n",
    "\n",
    "\n",
    "def get_spot_data(symbol, interval='1m'):\n",
    "    return get_klines('https://api.binance.com/api/v3', symbol, interval=interval)\n"
   ]
  },
  {
   "cell_type": "code",
   "execution_count": 11,
   "metadata": {},
   "outputs": [],
   "source": [
    "# symbols = pd.read_csv(f'{DATA_PATH}/../symbols.csv')['symbol'].values.tolist()\n",
    "symbols = ['BTC', 'ETH', 'BNB', 'XRP', 'ADA', 'SOL', 'LUNA', 'AVAX', 'DOT', 'DOGE', 'SHIB', 'UST', 'MATIC', 'CRO', 'WBTC', 'DAI', 'ATOM', 'LTC', 'LINK']\n",
    "symbols = [f'{s}USDT' for s in symbols]\n",
    "DATA_PATH = '/mnt/d/Working/PersonalProjects/Trading/trading-agent/crypto-pair-trading/data/crypto'\n",
    "TF = '1m'\n",
    "\n",
    "\n",
    "data = []\n",
    "\n",
    "for symbol in symbols:\n",
    "    df = get_futures_data(symbol=symbol, interval=TF)\n",
    "    df.to_csv(f'{DATA_PATH}/{TF}/{symbol}.csv')\n",
    "\n"
   ]
  },
  {
   "cell_type": "code",
   "execution_count": null,
   "metadata": {},
   "outputs": [],
   "source": []
  }
 ],
 "metadata": {
  "interpreter": {
   "hash": "db64578a3953c48ffb231acefaaf15e02370fbcb0c23ba84fb601c85d16f2985"
  },
  "kernelspec": {
   "display_name": "Python 3",
   "language": "python",
   "name": "python3"
  },
  "language_info": {
   "codemirror_mode": {
    "name": "ipython",
    "version": 3
   },
   "file_extension": ".py",
   "mimetype": "text/x-python",
   "name": "python",
   "nbconvert_exporter": "python",
   "pygments_lexer": "ipython3",
   "version": "3.7.11"
  }
 },
 "nbformat": 4,
 "nbformat_minor": 4
}
