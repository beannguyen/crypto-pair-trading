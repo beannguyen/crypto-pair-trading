{
 "cells": [
  {
   "cell_type": "code",
   "execution_count": 5,
   "source": [
    "import sys\r\n",
    "\r\n",
    "sys.path.append(\"../\")"
   ],
   "outputs": [],
   "metadata": {}
  },
  {
   "cell_type": "code",
   "execution_count": 6,
   "source": [
    "import pandas as pd\r\n",
    "import numpy as np\r\n",
    "from stats_arb import johansen\r\n",
    "\r\n",
    "DATA_PATH = '../data/5min'"
   ],
   "outputs": [],
   "metadata": {}
  },
  {
   "cell_type": "code",
   "execution_count": null,
   "source": [
    "symbols = ['BTC-USDT', 'ETH-USDT', 'ETC-USDT', 'BCH-USDT']\r\n",
    "\r\n",
    "data = []\r\n",
    "\r\n",
    "for symbol in symbols:\r\n",
    "    df = pd.read_csv(f'{DATA_PATH}/{symbol}.csv', \r\n",
    "                    parse_dates=['open_time'], \r\n",
    "                    index_col=['open_time'])\r\n",
    "\r\n",
    "    df.rename(columns={'close': symbol}, inplace=True)\r\n",
    "    data.append(df)\r\n",
    "\r\n"
   ],
   "outputs": [],
   "metadata": {}
  }
 ],
 "metadata": {
  "orig_nbformat": 4,
  "language_info": {
   "name": "python",
   "version": "3.6.10",
   "mimetype": "text/x-python",
   "codemirror_mode": {
    "name": "ipython",
    "version": 3
   },
   "pygments_lexer": "ipython3",
   "nbconvert_exporter": "python",
   "file_extension": ".py"
  },
  "kernelspec": {
   "name": "python3",
   "display_name": "Python 3.6.10 64-bit ('mlfin': conda)"
  },
  "interpreter": {
   "hash": "db64578a3953c48ffb231acefaaf15e02370fbcb0c23ba84fb601c85d16f2985"
  }
 },
 "nbformat": 4,
 "nbformat_minor": 2
}