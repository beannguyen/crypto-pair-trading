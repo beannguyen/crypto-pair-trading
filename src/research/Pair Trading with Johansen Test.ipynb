{
 "cells": [
  {
   "cell_type": "code",
   "execution_count": 53,
   "source": [
    "import sys\n",
    "\n",
    "sys.path.append(\"../\")"
   ],
   "outputs": [],
   "metadata": {}
  },
  {
   "cell_type": "code",
   "execution_count": 54,
   "source": [
    "import pandas as pd\n",
    "import numpy as np\n",
    "from statsmodels.tsa.vector_ar.vecm import coint_johansen\n",
    "from statsmodels.tsa.stattools import adfuller\n",
    "from datetime import datetime, timedelta\n",
    "\n",
    "import matplotlib.pyplot as plt\n",
    "\n",
    "DATA_PATH = '/mnt/d/Trading/trading-agent/crypto-pair-trading/data/5min'"
   ],
   "outputs": [],
   "metadata": {}
  },
  {
   "cell_type": "code",
   "execution_count": 55,
   "source": [
    "# symbols = pd.read_csv(f'{DATA_PATH}/../symbols.csv')['symbol'].values.tolist()\n",
    "symbols = ['BTC', 'ETH', 'ADA', 'BNB', 'SOL', 'XRP', 'DOGE', 'DOT', 'LUNA', 'UNI', 'LINK', 'BCH', 'LTC', 'ICP']\n",
    "symbols = [f'{s}-USDT' for s in symbols]\n",
    "\n",
    "data = []\n",
    "start_date = '2021-06-01'\n",
    "\n",
    "for symbol in symbols:\n",
    "    try:\n",
    "        file = f'{DATA_PATH}/{symbol}.csv'\n",
    "        print(file)\n",
    "        df = pd.read_csv(file, \n",
    "                        parse_dates=['open_time'], \n",
    "                        index_col=['open_time'])\n",
    "\n",
    "        df.rename(columns={'close': symbol}, inplace=True)\n",
    "        # the data is too long, just limit to recent period\n",
    "        data.append(np.log(df[df.index > start_date][symbol]))\n",
    "    except:\n",
    "        pass\n",
    "\n",
    "df = pd.concat(data, axis=1)\n",
    "df = df.dropna(axis=1, how='all')\n",
    "df.dropna(inplace=True, how='any')\n",
    "\n",
    "df.tail()"
   ],
   "outputs": [
    {
     "output_type": "stream",
     "name": "stdout",
     "text": [
      "/mnt/d/Trading/trading-agent/crypto-pair-trading/data/5min/BTC-USDT.csv\n",
      "/mnt/d/Trading/trading-agent/crypto-pair-trading/data/5min/ETH-USDT.csv\n",
      "/mnt/d/Trading/trading-agent/crypto-pair-trading/data/5min/ADA-USDT.csv\n",
      "/mnt/d/Trading/trading-agent/crypto-pair-trading/data/5min/BNB-USDT.csv\n",
      "/mnt/d/Trading/trading-agent/crypto-pair-trading/data/5min/SOL-USDT.csv\n",
      "/mnt/d/Trading/trading-agent/crypto-pair-trading/data/5min/XRP-USDT.csv\n",
      "/mnt/d/Trading/trading-agent/crypto-pair-trading/data/5min/DOGE-USDT.csv\n",
      "/mnt/d/Trading/trading-agent/crypto-pair-trading/data/5min/DOT-USDT.csv\n",
      "/mnt/d/Trading/trading-agent/crypto-pair-trading/data/5min/LUNA-USDT.csv\n",
      "/mnt/d/Trading/trading-agent/crypto-pair-trading/data/5min/UNI-USDT.csv\n",
      "/mnt/d/Trading/trading-agent/crypto-pair-trading/data/5min/LINK-USDT.csv\n",
      "/mnt/d/Trading/trading-agent/crypto-pair-trading/data/5min/BCH-USDT.csv\n",
      "/mnt/d/Trading/trading-agent/crypto-pair-trading/data/5min/LTC-USDT.csv\n",
      "/mnt/d/Trading/trading-agent/crypto-pair-trading/data/5min/ICP-USDT.csv\n"
     ]
    },
    {
     "output_type": "execute_result",
     "data": {
      "text/html": [
       "<div>\n",
       "<style scoped>\n",
       "    .dataframe tbody tr th:only-of-type {\n",
       "        vertical-align: middle;\n",
       "    }\n",
       "\n",
       "    .dataframe tbody tr th {\n",
       "        vertical-align: top;\n",
       "    }\n",
       "\n",
       "    .dataframe thead th {\n",
       "        text-align: right;\n",
       "    }\n",
       "</style>\n",
       "<table border=\"1\" class=\"dataframe\">\n",
       "  <thead>\n",
       "    <tr style=\"text-align: right;\">\n",
       "      <th></th>\n",
       "      <th>BTC-USDT</th>\n",
       "      <th>ETH-USDT</th>\n",
       "      <th>ADA-USDT</th>\n",
       "      <th>BNB-USDT</th>\n",
       "      <th>SOL-USDT</th>\n",
       "      <th>XRP-USDT</th>\n",
       "      <th>DOGE-USDT</th>\n",
       "      <th>DOT-USDT</th>\n",
       "      <th>LUNA-USDT</th>\n",
       "      <th>UNI-USDT</th>\n",
       "      <th>LINK-USDT</th>\n",
       "      <th>BCH-USDT</th>\n",
       "      <th>LTC-USDT</th>\n",
       "      <th>ICP-USDT</th>\n",
       "    </tr>\n",
       "    <tr>\n",
       "      <th>open_time</th>\n",
       "      <th></th>\n",
       "      <th></th>\n",
       "      <th></th>\n",
       "      <th></th>\n",
       "      <th></th>\n",
       "      <th></th>\n",
       "      <th></th>\n",
       "      <th></th>\n",
       "      <th></th>\n",
       "      <th></th>\n",
       "      <th></th>\n",
       "      <th></th>\n",
       "      <th></th>\n",
       "      <th></th>\n",
       "    </tr>\n",
       "  </thead>\n",
       "  <tbody>\n",
       "    <tr>\n",
       "      <th>2021-08-30 00:40:00</th>\n",
       "      <td>10.790625</td>\n",
       "      <td>8.073004</td>\n",
       "      <td>1.054660</td>\n",
       "      <td>6.166887</td>\n",
       "      <td>4.567053</td>\n",
       "      <td>0.128569</td>\n",
       "      <td>-1.275827</td>\n",
       "      <td>3.240637</td>\n",
       "      <td>3.512142</td>\n",
       "      <td>3.280911</td>\n",
       "      <td>3.239071</td>\n",
       "      <td>6.485398</td>\n",
       "      <td>5.156754</td>\n",
       "      <td>4.260141</td>\n",
       "    </tr>\n",
       "    <tr>\n",
       "      <th>2021-08-30 00:45:00</th>\n",
       "      <td>10.787473</td>\n",
       "      <td>8.067052</td>\n",
       "      <td>1.048722</td>\n",
       "      <td>6.162051</td>\n",
       "      <td>4.554403</td>\n",
       "      <td>0.123721</td>\n",
       "      <td>-1.279775</td>\n",
       "      <td>3.230804</td>\n",
       "      <td>3.504055</td>\n",
       "      <td>3.274121</td>\n",
       "      <td>3.234355</td>\n",
       "      <td>6.484177</td>\n",
       "      <td>5.152713</td>\n",
       "      <td>4.244917</td>\n",
       "    </tr>\n",
       "    <tr>\n",
       "      <th>2021-08-30 00:50:00</th>\n",
       "      <td>10.787636</td>\n",
       "      <td>8.067381</td>\n",
       "      <td>1.046266</td>\n",
       "      <td>6.159729</td>\n",
       "      <td>4.563723</td>\n",
       "      <td>0.121864</td>\n",
       "      <td>-1.278337</td>\n",
       "      <td>3.230014</td>\n",
       "      <td>3.504055</td>\n",
       "      <td>3.273364</td>\n",
       "      <td>3.231200</td>\n",
       "      <td>6.482801</td>\n",
       "      <td>5.149817</td>\n",
       "      <td>4.248352</td>\n",
       "    </tr>\n",
       "    <tr>\n",
       "      <th>2021-08-30 00:55:00</th>\n",
       "      <td>10.787255</td>\n",
       "      <td>8.067942</td>\n",
       "      <td>1.047670</td>\n",
       "      <td>6.159729</td>\n",
       "      <td>4.572957</td>\n",
       "      <td>0.123279</td>\n",
       "      <td>-1.278337</td>\n",
       "      <td>3.231989</td>\n",
       "      <td>3.507058</td>\n",
       "      <td>3.271848</td>\n",
       "      <td>3.233567</td>\n",
       "      <td>6.483413</td>\n",
       "      <td>5.150977</td>\n",
       "      <td>4.250208</td>\n",
       "    </tr>\n",
       "    <tr>\n",
       "      <th>2021-08-30 01:00:00</th>\n",
       "      <td>10.787828</td>\n",
       "      <td>8.067924</td>\n",
       "      <td>1.048371</td>\n",
       "      <td>6.160363</td>\n",
       "      <td>4.579442</td>\n",
       "      <td>0.124074</td>\n",
       "      <td>-1.276543</td>\n",
       "      <td>3.233173</td>\n",
       "      <td>3.520461</td>\n",
       "      <td>3.275256</td>\n",
       "      <td>3.235536</td>\n",
       "      <td>6.484024</td>\n",
       "      <td>5.152135</td>\n",
       "      <td>4.259294</td>\n",
       "    </tr>\n",
       "  </tbody>\n",
       "</table>\n",
       "</div>"
      ],
      "text/plain": [
       "                      BTC-USDT  ETH-USDT  ADA-USDT  BNB-USDT  SOL-USDT  \\\n",
       "open_time                                                                \n",
       "2021-08-30 00:40:00  10.790625  8.073004  1.054660  6.166887  4.567053   \n",
       "2021-08-30 00:45:00  10.787473  8.067052  1.048722  6.162051  4.554403   \n",
       "2021-08-30 00:50:00  10.787636  8.067381  1.046266  6.159729  4.563723   \n",
       "2021-08-30 00:55:00  10.787255  8.067942  1.047670  6.159729  4.572957   \n",
       "2021-08-30 01:00:00  10.787828  8.067924  1.048371  6.160363  4.579442   \n",
       "\n",
       "                     XRP-USDT  DOGE-USDT  DOT-USDT  LUNA-USDT  UNI-USDT  \\\n",
       "open_time                                                                 \n",
       "2021-08-30 00:40:00  0.128569  -1.275827  3.240637   3.512142  3.280911   \n",
       "2021-08-30 00:45:00  0.123721  -1.279775  3.230804   3.504055  3.274121   \n",
       "2021-08-30 00:50:00  0.121864  -1.278337  3.230014   3.504055  3.273364   \n",
       "2021-08-30 00:55:00  0.123279  -1.278337  3.231989   3.507058  3.271848   \n",
       "2021-08-30 01:00:00  0.124074  -1.276543  3.233173   3.520461  3.275256   \n",
       "\n",
       "                     LINK-USDT  BCH-USDT  LTC-USDT  ICP-USDT  \n",
       "open_time                                                     \n",
       "2021-08-30 00:40:00   3.239071  6.485398  5.156754  4.260141  \n",
       "2021-08-30 00:45:00   3.234355  6.484177  5.152713  4.244917  \n",
       "2021-08-30 00:50:00   3.231200  6.482801  5.149817  4.248352  \n",
       "2021-08-30 00:55:00   3.233567  6.483413  5.150977  4.250208  \n",
       "2021-08-30 01:00:00   3.235536  6.484024  5.152135  4.259294  "
      ]
     },
     "metadata": {},
     "execution_count": 55
    }
   ],
   "metadata": {}
  },
  {
   "cell_type": "code",
   "execution_count": 56,
   "source": [
    "p = 1\n",
    "COINTEGRATION_CONFIDENCE_LEVEL = 90\n",
    "\n",
    "# the 90%, 95%, and 99% confidence levels for the trace statistic and maximum \n",
    "# eigenvalue statistic are stored in the first, second, and third column of \n",
    "# cvt and cvm, respectively\n",
    "confidence_level_cols = {\n",
    "    90: 0,\n",
    "    95: 1,\n",
    "    99: 2\n",
    "}\n",
    "confidence_level_col = confidence_level_cols[COINTEGRATION_CONFIDENCE_LEVEL]\n",
    "\n",
    "\n",
    "def test_johansen(symbol_pairs):\n",
    "    df_t = df[symbol_pairs].copy()\n",
    "\n",
    "    # The second and third parameters indicate constant term, with a lag of 1. \n",
    "    result = coint_johansen(df_t, 0, p)\n",
    "\n",
    "    trace_crit_value = result.cvt[:, confidence_level_col]\n",
    "    eigen_crit_value = result.cvm[:, confidence_level_col]\n",
    "    # print(\"trace_crit_value\",trace_crit_value)\n",
    "    # print(\"eigen_crit_value\",eigen_crit_value)\n",
    "    # print(\"lr1\",result.lr1)\n",
    "    # print(\"lr2\",result.lr2)\n",
    "\n",
    "    # The trace statistic and maximum eigenvalue statistic are stored in lr1 and lr2;\n",
    "    # see if they exceeded the confidence threshold\n",
    "    if np.all(result.lr1 >= trace_crit_value) and np.all(result.lr2 >= eigen_crit_value):\n",
    "        # print(f\"{symbol_pairs} are cointegrated\")\n",
    "        # The first i.e. leftmost column of eigenvectors matrix, result.evec, contains the best weights.\n",
    "        v1= result.evec[:,0:1]\n",
    "        hr=v1/-v1[1] #to get the hedge ratio divide the best_eigenvector by the negative of the second component of best_eigenvector\n",
    "        #the regression will be: close of symbList[1] = hr[0]*close of symbList[0] + error\n",
    "        #where the beta of the regression is hr[0], also known as the hedge ratio, and\n",
    "        #the error of the regression is the mean reverting residual signal that you need to predict, it is also known as the \"spread\"\n",
    "        #the spread = close of symbList[1] - hr[0]*close of symbList[0] or alternatively (the same thing):\n",
    "        #do a regression with close of symbList[0] as x and lose of symbList[1] as y, and take the residuals of the regression to be the spread.\n",
    "        coint_pair = dict(hedge_ratio=v1[:, 0])\n",
    "        for i, s in enumerate(symbol_pairs):\n",
    "            coint_pair[f'sid_{i+1}'] = s\n",
    "\n",
    "        cointegrating_pairs.append(coint_pair)\n",
    "\n"
   ],
   "outputs": [],
   "metadata": {}
  },
  {
   "cell_type": "code",
   "execution_count": 57,
   "source": [
    "\n",
    "import itertools as it\n",
    "\n",
    "cointegrating_pairs = []\n",
    "\n",
    "#get symbol pairs\n",
    "pairs = list(it.combinations(symbols, 3))\n",
    "print(len(pairs))\n",
    "\n",
    "for pair in pairs:\n",
    "    try:\n",
    "        test_johansen(list(pair))\n",
    "    except KeyError:\n",
    "        pass\n",
    "\n",
    "coint_df = pd.DataFrame(cointegrating_pairs)\n",
    "coint_df.head()"
   ],
   "outputs": [
    {
     "output_type": "stream",
     "name": "stdout",
     "text": [
      "364\n"
     ]
    },
    {
     "output_type": "execute_result",
     "data": {
      "text/html": [
       "<div>\n",
       "<style scoped>\n",
       "    .dataframe tbody tr th:only-of-type {\n",
       "        vertical-align: middle;\n",
       "    }\n",
       "\n",
       "    .dataframe tbody tr th {\n",
       "        vertical-align: top;\n",
       "    }\n",
       "\n",
       "    .dataframe thead th {\n",
       "        text-align: right;\n",
       "    }\n",
       "</style>\n",
       "<table border=\"1\" class=\"dataframe\">\n",
       "  <thead>\n",
       "    <tr style=\"text-align: right;\">\n",
       "      <th></th>\n",
       "      <th>hedge_ratio</th>\n",
       "      <th>sid_1</th>\n",
       "      <th>sid_2</th>\n",
       "      <th>sid_3</th>\n",
       "    </tr>\n",
       "  </thead>\n",
       "  <tbody>\n",
       "    <tr>\n",
       "      <th>0</th>\n",
       "      <td>[12.773067746838853, -7.673780093957902, -13.4...</td>\n",
       "      <td>DOT-USDT</td>\n",
       "      <td>LINK-USDT</td>\n",
       "      <td>BCH-USDT</td>\n",
       "    </tr>\n",
       "    <tr>\n",
       "      <th>1</th>\n",
       "      <td>[14.470525773564592, -8.85289093239732, -14.96...</td>\n",
       "      <td>DOT-USDT</td>\n",
       "      <td>LINK-USDT</td>\n",
       "      <td>LTC-USDT</td>\n",
       "    </tr>\n",
       "  </tbody>\n",
       "</table>\n",
       "</div>"
      ],
      "text/plain": [
       "                                         hedge_ratio     sid_1      sid_2  \\\n",
       "0  [12.773067746838853, -7.673780093957902, -13.4...  DOT-USDT  LINK-USDT   \n",
       "1  [14.470525773564592, -8.85289093239732, -14.96...  DOT-USDT  LINK-USDT   \n",
       "\n",
       "      sid_3  \n",
       "0  BCH-USDT  \n",
       "1  LTC-USDT  "
      ]
     },
     "metadata": {},
     "execution_count": 57
    }
   ],
   "metadata": {
    "tags": []
   }
  },
  {
   "cell_type": "code",
   "execution_count": 58,
   "source": [
    "coint_df.to_csv('coint_df.csv')"
   ],
   "outputs": [],
   "metadata": {}
  },
  {
   "cell_type": "code",
   "execution_count": 59,
   "source": [
    "hedge_ratio = coint_df.iloc[0]['hedge_ratio']\n",
    "hedge_ratio"
   ],
   "outputs": [
    {
     "output_type": "execute_result",
     "data": {
      "text/plain": [
       "array([ 12.77306775,  -7.67378009, -13.42090259])"
      ]
     },
     "metadata": {},
     "execution_count": 59
    }
   ],
   "metadata": {}
  },
  {
   "cell_type": "code",
   "execution_count": 61,
   "source": [
    "s1 = df[coint_df['sid_1'].iloc[0]]\n",
    "s2 = df[coint_df['sid_2'].iloc[0]]\n",
    "s3 = df[coint_df['sid_3'].iloc[0]]\n",
    "\n",
    "spread = s1*hedge_ratio[0] + s2*hedge_ratio[1] + s3*hedge_ratio[2]\n",
    "spread"
   ],
   "outputs": [
    {
     "output_type": "execute_result",
     "data": {
      "text/plain": [
       "open_time\n",
       "2021-06-01 00:05:00   -74.473227\n",
       "2021-06-01 00:10:00   -74.424054\n",
       "2021-06-01 00:15:00   -74.374802\n",
       "2021-06-01 00:20:00   -74.413683\n",
       "2021-06-01 00:25:00   -74.440635\n",
       "                         ...    \n",
       "2021-08-30 00:40:00   -70.502934\n",
       "2021-08-30 00:45:00   -70.575958\n",
       "2021-08-30 00:50:00   -70.543380\n",
       "2021-08-30 00:55:00   -70.544520\n",
       "2021-08-30 01:00:00   -70.552714\n",
       "Length: 25498, dtype: float64"
      ]
     },
     "metadata": {},
     "execution_count": 61
    }
   ],
   "metadata": {}
  },
  {
   "cell_type": "code",
   "execution_count": 62,
   "source": [
    "spread.plot() # Plot the spread\n",
    "plt.axhline(spread.mean(), color='red', linestyle='--') # Add the mean\n",
    "plt.xlabel('Time')\n",
    "plt.legend(['Price Spread', 'Mean'])"
   ],
   "outputs": [
    {
     "output_type": "execute_result",
     "data": {
      "text/plain": [
       "<matplotlib.legend.Legend at 0x7efbf3df1090>"
      ]
     },
     "metadata": {},
     "execution_count": 62
    },
    {
     "output_type": "display_data",
     "data": {
      "image/png": "[encoded data removed]",
      "text/plain": [
       "<Figure size 432x288 with 1 Axes>"
      ]
     },
     "metadata": {
      "needs_background": "light"
     }
    }
   ],
   "metadata": {}
  },
  {
   "cell_type": "code",
   "execution_count": 63,
   "source": [
    "def zscore(series):\n",
    "    return (series - series.mean()) / np.std(series)"
   ],
   "outputs": [],
   "metadata": {}
  },
  {
   "cell_type": "code",
   "execution_count": 64,
   "source": [
    "zscore(spread).plot()\n",
    "plt.axhline(zscore(spread).mean(), color='black')\n",
    "plt.axhline(1.0, color='red', linestyle='--')\n",
    "plt.axhline(-1.0, color='green', linestyle='--')\n",
    "plt.legend(['Spread z-score', 'Mean', '+1', '-1'])"
   ],
   "outputs": [
    {
     "output_type": "execute_result",
     "data": {
      "text/plain": [
       "<matplotlib.legend.Legend at 0x7efbf3cc9410>"
      ]
     },
     "metadata": {},
     "execution_count": 64
    },
    {
     "output_type": "display_data",
     "data": {
      "image/png": "[encoded data removed]",
      "text/plain": [
       "<Figure size 432x288 with 1 Axes>"
      ]
     },
     "metadata": {
      "needs_background": "light"
     }
    }
   ],
   "metadata": {}
  }
 ],
 "metadata": {
  "interpreter": {
   "hash": "db64578a3953c48ffb231acefaaf15e02370fbcb0c23ba84fb601c85d16f2985"
  },
  "kernelspec": {
   "display_name": "Python 3 (ipykernel)",
   "language": "python",
   "name": "python3"
  },
  "language_info": {
   "name": "python",
   "version": "3.7.11",
   "mimetype": "text/x-python",
   "codemirror_mode": {
    "name": "ipython",
    "version": 3
   },
   "pygments_lexer": "ipython3",
   "nbconvert_exporter": "python",
   "file_extension": ".py"
  }
 },
 "nbformat": 4,
 "nbformat_minor": 4
}