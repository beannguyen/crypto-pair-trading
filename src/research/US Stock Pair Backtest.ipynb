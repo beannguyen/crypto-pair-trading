{
 "cells": [
  {
   "cell_type": "code",
   "execution_count": 14,
   "metadata": {},
   "outputs": [],
   "source": [
    "import sys\n",
    "\n",
    "sys.path.append(\"../\")"
   ]
  },
  {
   "cell_type": "code",
   "execution_count": 15,
   "metadata": {},
   "outputs": [],
   "source": [
    "import pandas as pd\n",
    "import numpy as np\n",
    "from statsmodels.tsa.vector_ar.vecm import coint_johansen\n",
    "from stats_arb.tests import adf_test, kpss_test, cal_half_life, pp_test\n",
    "from datetime import datetime, timedelta\n",
    "\n",
    "import matplotlib.pyplot as plt\n",
    "\n",
    "# DATA_PATH = '/mnt/d/Trading/trading-agent/crypto-pair-trading/data/5min'\n",
    "# DATA_PATH = '/mnt/d/Working/PersonalProjects/Trading/trading-agent/crypto-pair-trading/data/crypto/1h'\n",
    "DATA_PATH = '/mnt/d/Working/PersonalProjects/Trading/trading-agent/crypto-pair-trading/data/us_stocks/stocks'"
   ]
  },
  {
   "cell_type": "code",
   "execution_count": 16,
   "metadata": {},
   "outputs": [],
   "source": [
    "table_S = pd.read_html('https://en.wikipedia.org/wiki/List_of_S%26P_500_companies')\n",
    "table_S = table_S[0]\n",
    "symbols = table_S.Symbol.tolist()"
   ]
  },
  {
   "cell_type": "code",
   "execution_count": 20,
   "metadata": {},
   "outputs": [
    {
     "data": {
      "text/html": [
       "<div>\n",
       "<style scoped>\n",
       "    .dataframe tbody tr th:only-of-type {\n",
       "        vertical-align: middle;\n",
       "    }\n",
       "\n",
       "    .dataframe tbody tr th {\n",
       "        vertical-align: top;\n",
       "    }\n",
       "\n",
       "    .dataframe thead th {\n",
       "        text-align: right;\n",
       "    }\n",
       "</style>\n",
       "<table border=\"1\" class=\"dataframe\">\n",
       "  <thead>\n",
       "    <tr style=\"text-align: right;\">\n",
       "      <th></th>\n",
       "      <th>BDX</th>\n",
       "      <th>BIIB</th>\n",
       "    </tr>\n",
       "    <tr>\n",
       "      <th>Date</th>\n",
       "      <th></th>\n",
       "      <th></th>\n",
       "    </tr>\n",
       "  </thead>\n",
       "  <tbody>\n",
       "    <tr>\n",
       "      <th>2022-11-09</th>\n",
       "      <td>5.385824</td>\n",
       "      <td>5.643006</td>\n",
       "    </tr>\n",
       "    <tr>\n",
       "      <th>2022-11-10</th>\n",
       "      <td>5.434944</td>\n",
       "      <td>5.672292</td>\n",
       "    </tr>\n",
       "    <tr>\n",
       "      <th>2022-11-11</th>\n",
       "      <td>5.427897</td>\n",
       "      <td>5.667983</td>\n",
       "    </tr>\n",
       "    <tr>\n",
       "      <th>2022-11-14</th>\n",
       "      <td>5.412360</td>\n",
       "      <td>5.700644</td>\n",
       "    </tr>\n",
       "    <tr>\n",
       "      <th>2022-11-15</th>\n",
       "      <td>5.404343</td>\n",
       "      <td>5.703049</td>\n",
       "    </tr>\n",
       "  </tbody>\n",
       "</table>\n",
       "</div>"
      ],
      "text/plain": [
       "                 BDX      BIIB\n",
       "Date                          \n",
       "2022-11-09  5.385824  5.643006\n",
       "2022-11-10  5.434944  5.672292\n",
       "2022-11-11  5.427897  5.667983\n",
       "2022-11-14  5.412360  5.700644\n",
       "2022-11-15  5.404343  5.703049"
      ]
     },
     "execution_count": 20,
     "metadata": {},
     "output_type": "execute_result"
    }
   ],
   "source": [
    "selected_symbols = ['BDX', 'BIIB']\n",
    "\n",
    "start_date = '2019-01-01'\n",
    "end_date = '2022-11-30'\n",
    "dfs = {}\n",
    "data = []\n",
    "\n",
    "for symbol in selected_symbols:\n",
    "    try:\n",
    "        file = f'{DATA_PATH}/{symbol}.csv'\n",
    "        # print(file)\n",
    "        df = pd.read_csv(file, parse_dates=['Date'])\n",
    "        df.set_index('Date', inplace=True)\n",
    "        df.columns = ['open', 'high', 'low', 'close', 'adj_close', 'volume']\n",
    "        df = df[(df.index > start_date) & (df.index < end_date)]\n",
    "        df = df[~df.index.duplicated(keep='first')]\n",
    "\n",
    "        dfs[symbol] = df\n",
    "        \n",
    "        # print(symbol, df.index[-1])\n",
    "        df.rename(columns={'adj_close': symbol}, inplace=True)\n",
    "        # the data is too long, just limit to recent period\n",
    "        data.append(np.log(df[symbol]))\n",
    "    except FileNotFoundError:\n",
    "        # print(symbol, 'not found')\n",
    "        pass\n",
    "\n",
    "df = pd.concat(data, axis=1)\n",
    "# df = df.dropna(axis=1, how='all')\n",
    "df.dropna(inplace=True, how='any')\n",
    "\n",
    "df.tail()"
   ]
  },
  {
   "cell_type": "code",
   "execution_count": 21,
   "metadata": {},
   "outputs": [
    {
     "data": {
      "text/plain": [
       "{'hedge_ratio': array([18.47518862,  2.51962775]),\n",
       " 'sid_1': 'BDX',\n",
       " 'sid_2': 'BIIB'}"
      ]
     },
     "execution_count": 21,
     "metadata": {},
     "output_type": "execute_result"
    }
   ],
   "source": [
    "p = 1\n",
    "COINTEGRATION_CONFIDENCE_LEVEL = 90\n",
    "\n",
    "# the 90%, 95%, and 99% confidence levels for the trace statistic and maximum \n",
    "# eigenvalue statistic are stored in the first, second, and third column of \n",
    "# cvt and cvm, respectively\n",
    "confidence_level_cols = {\n",
    "    90: 0,\n",
    "    95: 1,\n",
    "    99: 2\n",
    "}\n",
    "confidence_level_col = confidence_level_cols[COINTEGRATION_CONFIDENCE_LEVEL]\n",
    "\n",
    "def test_johansen(df, symbol_pairs):\n",
    "    df_t = df[symbol_pairs].copy()\n",
    "    df_t.dropna(axis=1, how='all', inplace=True)\n",
    "\n",
    "    # The second and third parameters indicate constant term, with a lag of 1. \n",
    "    result = coint_johansen(df_t, 0, p)\n",
    "\n",
    "    trace_crit_value = result.cvt[:, confidence_level_col]\n",
    "    eigen_crit_value = result.cvm[:, confidence_level_col]\n",
    "    # print(\"trace_crit_value\",trace_crit_value)\n",
    "    # print(\"eigen_crit_value\",eigen_crit_value)\n",
    "    # print(\"lr1\",result.lr1)\n",
    "    # print(\"lr2\",result.lr2)\n",
    "\n",
    "    # The trace statistic and maximum eigenvalue statistic are stored in lr1 and lr2;\n",
    "    # see if they exceeded the confidence threshold\n",
    "    if np.all(result.lr1 >= trace_crit_value) and np.all(result.lr2 >= eigen_crit_value):\n",
    "        # print(f\"{symbol_pairs} are cointegrated\")\n",
    "        # The first i.e. leftmost column of eigenvectors matrix, result.evec, contains the best weights.\n",
    "        v1= result.evec[:,0:1]\n",
    "        hr=v1/-v1[1] #to get the hedge ratio divide the best_eigenvector by the negative of the second component of best_eigenvector\n",
    "        #the regression will be: close of symbList[1] = hr[0]*close of symbList[0] + error\n",
    "        #where the beta of the regression is hr[0], also known as the hedge ratio, and\n",
    "        #the error of the regression is the mean reverting residual signal that you need to predict, it is also known as the \"spread\"\n",
    "        #the spread = close of symbList[1] - hr[0]*close of symbList[0] or alternatively (the same thing):\n",
    "        #do a regression with close of symbList[0] as x and lose of symbList[1] as y, and take the residuals of the regression to be the spread.\n",
    "        coint_pair = dict(hedge_ratio=v1[:, 0])\n",
    "        for i, s in enumerate(symbol_pairs):\n",
    "            coint_pair[f'sid_{i+1}'] = s\n",
    "\n",
    "        return coint_pair\n",
    "\n",
    "test_johansen(df, selected_symbols)"
   ]
  },
  {
   "cell_type": "code",
   "execution_count": null,
   "metadata": {},
   "outputs": [],
   "source": []
  },
  {
   "cell_type": "code",
   "execution_count": null,
   "metadata": {},
   "outputs": [],
   "source": []
  }
 ],
 "metadata": {
  "kernelspec": {
   "display_name": "Python 3.7.11 ('trade')",
   "language": "python",
   "name": "python3"
  },
  "language_info": {
   "codemirror_mode": {
    "name": "ipython",
    "version": 3
   },
   "file_extension": ".py",
   "mimetype": "text/x-python",
   "name": "python",
   "nbconvert_exporter": "python",
   "pygments_lexer": "ipython3",
   "version": "3.7.11"
  },
  "orig_nbformat": 4,
  "vscode": {
   "interpreter": {
    "hash": "c276c0ee69ef566ef6a4194053af484cf7322cd6b46c4188dcfdf12ebbe5b30c"
   }
  }
 },
 "nbformat": 4,
 "nbformat_minor": 2
}
