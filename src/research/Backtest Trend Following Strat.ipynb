{
 "cells": [
  {
   "cell_type": "code",
   "execution_count": 1,
   "metadata": {},
   "outputs": [],
   "source": [
    "import sys\n",
    "\n",
    "sys.path.append(\"../\")\n",
    "\n",
    "DATA_PATH = '/mnt/d/Working/PersonalProjects/Trading/trading-agent/crypto-pair-trading/data/crypto/1h'"
   ]
  },
  {
   "cell_type": "code",
   "execution_count": 2,
   "metadata": {},
   "outputs": [],
   "source": [
    "import pandas as pd\n",
    "import numpy as np\n",
    "from datetime import datetime, timedelta\n",
    "from backtesting import Strategy, Backtest\n",
    "\n",
    "import empyrical\n",
    "import matplotlib.pyplot as plt\n",
    "\n",
    "%matplotlib inline\n",
    "plt.rcParams[\"figure.figsize\"] = (10, 6) # (w, h)\n",
    "plt.ioff()"
   ]
  },
  {
   "cell_type": "code",
   "execution_count": 4,
   "metadata": {},
   "outputs": [
    {
     "data": {
      "text/html": [
       "<div>\n",
       "<style scoped>\n",
       "    .dataframe tbody tr th:only-of-type {\n",
       "        vertical-align: middle;\n",
       "    }\n",
       "\n",
       "    .dataframe tbody tr th {\n",
       "        vertical-align: top;\n",
       "    }\n",
       "\n",
       "    .dataframe thead th {\n",
       "        text-align: right;\n",
       "    }\n",
       "</style>\n",
       "<table border=\"1\" class=\"dataframe\">\n",
       "  <thead>\n",
       "    <tr style=\"text-align: right;\">\n",
       "      <th></th>\n",
       "      <th>Open</th>\n",
       "      <th>High</th>\n",
       "      <th>Low</th>\n",
       "      <th>Close</th>\n",
       "      <th>Volume</th>\n",
       "    </tr>\n",
       "    <tr>\n",
       "      <th>open_time</th>\n",
       "      <th></th>\n",
       "      <th></th>\n",
       "      <th></th>\n",
       "      <th></th>\n",
       "      <th></th>\n",
       "    </tr>\n",
       "  </thead>\n",
       "  <tbody>\n",
       "    <tr>\n",
       "      <th>2021-06-01 01:00:00</th>\n",
       "      <td>0.9398</td>\n",
       "      <td>0.9409</td>\n",
       "      <td>0.9153</td>\n",
       "      <td>0.9164</td>\n",
       "      <td>1318371.5</td>\n",
       "    </tr>\n",
       "    <tr>\n",
       "      <th>2021-06-01 02:00:00</th>\n",
       "      <td>0.9170</td>\n",
       "      <td>0.9240</td>\n",
       "      <td>0.9057</td>\n",
       "      <td>0.9163</td>\n",
       "      <td>1120286.9</td>\n",
       "    </tr>\n",
       "    <tr>\n",
       "      <th>2021-06-01 03:00:00</th>\n",
       "      <td>0.9164</td>\n",
       "      <td>0.9229</td>\n",
       "      <td>0.9016</td>\n",
       "      <td>0.9098</td>\n",
       "      <td>1021203.0</td>\n",
       "    </tr>\n",
       "    <tr>\n",
       "      <th>2021-06-01 04:00:00</th>\n",
       "      <td>0.9103</td>\n",
       "      <td>0.9185</td>\n",
       "      <td>0.9054</td>\n",
       "      <td>0.9137</td>\n",
       "      <td>739473.6</td>\n",
       "    </tr>\n",
       "    <tr>\n",
       "      <th>2021-06-01 05:00:00</th>\n",
       "      <td>0.9137</td>\n",
       "      <td>0.9325</td>\n",
       "      <td>0.9118</td>\n",
       "      <td>0.9293</td>\n",
       "      <td>998697.2</td>\n",
       "    </tr>\n",
       "  </tbody>\n",
       "</table>\n",
       "</div>"
      ],
      "text/plain": [
       "                       Open    High     Low   Close     Volume\n",
       "open_time                                                     \n",
       "2021-06-01 01:00:00  0.9398  0.9409  0.9153  0.9164  1318371.5\n",
       "2021-06-01 02:00:00  0.9170  0.9240  0.9057  0.9163  1120286.9\n",
       "2021-06-01 03:00:00  0.9164  0.9229  0.9016  0.9098  1021203.0\n",
       "2021-06-01 04:00:00  0.9103  0.9185  0.9054  0.9137   739473.6\n",
       "2021-06-01 05:00:00  0.9137  0.9325  0.9118  0.9293   998697.2"
      ]
     },
     "execution_count": 4,
     "metadata": {},
     "output_type": "execute_result"
    }
   ],
   "source": [
    "symbol = 'ALGO-USDT'\n",
    "start_date = '2021-06-01'\n",
    "end_date = '2021-08-30'\n",
    "\n",
    "file = f'{DATA_PATH}/{symbol}.csv'\n",
    "# print(file)\n",
    "df = pd.read_csv(file, \n",
    "                parse_dates=['open_time'], \n",
    "                index_col=['open_time'])\n",
    "df = df[(df.index > start_date) & (df.index < end_date)]\n",
    "df = df[~df.index.duplicated(keep='first')]\n",
    "df.rename(columns={'open': 'Open',\n",
    "        'high': 'High',\n",
    "        'low': 'Low',\n",
    "        'close': 'Close',\n",
    "        'volume': 'Volume'}, inplace=True)\n",
    "df.head()"
   ]
  },
  {
   "cell_type": "code",
   "execution_count": null,
   "metadata": {},
   "outputs": [],
   "source": []
  }
 ],
 "metadata": {
  "kernelspec": {
   "display_name": "Python 3.7.11 ('trade')",
   "language": "python",
   "name": "python3"
  },
  "language_info": {
   "codemirror_mode": {
    "name": "ipython",
    "version": 3
   },
   "file_extension": ".py",
   "mimetype": "text/x-python",
   "name": "python",
   "nbconvert_exporter": "python",
   "pygments_lexer": "ipython3",
   "version": "3.7.11"
  },
  "orig_nbformat": 4,
  "vscode": {
   "interpreter": {
    "hash": "c276c0ee69ef566ef6a4194053af484cf7322cd6b46c4188dcfdf12ebbe5b30c"
   }
  }
 },
 "nbformat": 4,
 "nbformat_minor": 2
}
