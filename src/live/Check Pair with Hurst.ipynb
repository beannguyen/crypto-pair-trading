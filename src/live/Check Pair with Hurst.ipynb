{
 "cells": [
  {
   "cell_type": "code",
   "execution_count": 1,
   "metadata": {},
   "outputs": [],
   "source": [
    "import sys\n",
    "\n",
    "sys.path.append(\"../\")"
   ]
  },
  {
   "cell_type": "code",
   "execution_count": 2,
   "metadata": {},
   "outputs": [],
   "source": [
    "import requests\n",
    "import time\n",
    "import pandas as pd\n",
    "import numpy as np\n",
    "from statsmodels.tsa.vector_ar.vecm import coint_johansen\n",
    "from stats_arb.tests import adf_test, kpss_test, cal_half_life, pp_test\n",
    "from datetime import datetime, timedelta\n",
    "from ta.volatility import BollingerBands\n",
    "from datetime import datetime\n",
    "\n",
    "import matplotlib.pyplot as plt\n"
   ]
  },
  {
   "cell_type": "code",
   "execution_count": 3,
   "metadata": {},
   "outputs": [],
   "source": [
    "API_BASE = 'https://fapi.binance.com/fapi/v1/'\n",
    "TIMEFRAME = '1h'\n",
    "\n",
    "LABELS = [\n",
    "    'open_time',\n",
    "    'open',\n",
    "    'high',\n",
    "    'low',\n",
    "    'close',\n",
    "    'volume',\n",
    "    'close_time',\n",
    "    'quote_asset_volume',\n",
    "    'number_of_trades',\n",
    "    'taker_buy_base_asset_volume',\n",
    "    'taker_buy_quote_asset_volume',\n",
    "    'ignore'\n",
    "]\n",
    "\n",
    "DROP_COLUMNS=[\n",
    "    'close_time',\n",
    "    'quote_asset_volume',\n",
    "    'number_of_trades',\n",
    "    'taker_buy_base_asset_volume',\n",
    "    'taker_buy_quote_asset_volume',\n",
    "    'ignore'\n",
    "]\n",
    "\n",
    "\n",
    "def get_batch(symbol, interval='1m', start_time=0, limit=1000):\n",
    "    \"\"\"Use a GET request to retrieve a batch of candlesticks. Process the JSON into a pandas\n",
    "    dataframe and return it. If not successful, return an empty dataframe.\n",
    "    \"\"\"\n",
    "\n",
    "    params = {\n",
    "        'symbol': symbol,\n",
    "        'interval': interval,\n",
    "        'startTime': start_time,\n",
    "        'limit': limit\n",
    "    }\n",
    "    try:\n",
    "        # timeout should also be given as a parameter to the function\n",
    "        response = requests.get(f'{API_BASE}klines', params, timeout=30)\n",
    "    except requests.exceptions.ConnectionError:\n",
    "        print('Connection error, Cooling down for 5 mins...')\n",
    "        time.sleep(5 * 60)\n",
    "        return get_batch(symbol, interval, start_time, limit)\n",
    "\n",
    "    except requests.exceptions.Timeout:\n",
    "        print('Timeout, Cooling down for 5 min...')\n",
    "        time.sleep(5 * 60)\n",
    "        return get_batch(symbol, interval, start_time, limit)\n",
    "\n",
    "    if response.status_code == 200:\n",
    "        return pd.DataFrame(response.json(), columns=LABELS)\n",
    "    \n",
    "    print(f'Got erroneous response back {symbol}: {response}. {response.text}')\n",
    "    return pd.DataFrame([])\n",
    "\n",
    "\n",
    "def get_candles(base, quote, start_date: datetime, interval='1m'):\n",
    "    batches = []\n",
    "\n",
    "    last_timestamp = int(start_date.timestamp()) * 1000\n",
    "    # gather all candlesticks available, starting from the last timestamp loaded from disk or 0\n",
    "    # stop if the timestamp that comes back from the api is the same as the last one\n",
    "    previous_timestamp = None\n",
    "\n",
    "    while previous_timestamp != last_timestamp:\n",
    "        # stop if we reached data from today\n",
    "        if datetime.fromtimestamp(last_timestamp / 1000) >= datetime.utcnow():\n",
    "            break\n",
    "\n",
    "        previous_timestamp = last_timestamp\n",
    "\n",
    "        new_batch = get_batch(\n",
    "            symbol=base + quote,\n",
    "            interval=interval,\n",
    "            start_time=last_timestamp\n",
    "        )\n",
    "\n",
    "        # requesting candles from the future returns empty\n",
    "        # also stop in case response code was not 200\n",
    "        if new_batch.empty:\n",
    "            break\n",
    "\n",
    "        last_timestamp = new_batch['open_time'].max()\n",
    "\n",
    "        # sometimes no new trades took place yet on date.today();\n",
    "        # in this case the batch is nothing new\n",
    "        if previous_timestamp == last_timestamp:\n",
    "            break\n",
    "\n",
    "        batches.append(new_batch)\n",
    "        last_datetime = datetime.fromtimestamp(last_timestamp / 1000)\n",
    "\n",
    "        covering_spaces = 20 * ' '\n",
    "        print(datetime.now(), base, quote, interval, str(last_datetime) + covering_spaces, end='\\r', flush=True)\n",
    "\n",
    "    if len(batches) > 0:\n",
    "        # write clean version of csv to parquet\n",
    "        df = pd.concat(batches, ignore_index=True)\n",
    "        df.drop(columns=DROP_COLUMNS, inplace=True)\n",
    "        df['open_time'] = pd.to_datetime(df['open_time'], unit='ms')\n",
    "        return df\n",
    "\n"
   ]
  },
  {
   "cell_type": "code",
   "execution_count": 4,
   "metadata": {},
   "outputs": [],
   "source": [
    "class Hurst():\n",
    "    \"\"\"\n",
    "    If Hurst Exponent is under the 0.5 value of a random walk, then the series is mean reverting\n",
    "    Source: https://www.quantstart.com/articles/Basics-of-Statistical-Mean-Reversion-Testing\n",
    "    \"\"\"\n",
    "\n",
    "    def __init__(self):\n",
    "        self.h_min = 0.0\n",
    "        self.h_max = 0.4\n",
    "        self.look_back = 126\n",
    "        self.lag_max = 100\n",
    "        self.h_value = None\n",
    "\n",
    "    def apply_hurst(self, time_series):\n",
    "        \"\"\"Returns the Hurst Exponent of the time series vector ts\"\"\"\n",
    "        # Create the range of lag values\n",
    "        lags = range(2, self.lag_max)\n",
    "\n",
    "        # Calculate the array of the variances of the lagged differences\n",
    "        tau = [np.sqrt(np.std(np.subtract(time_series[lag:], time_series[:-lag]))) for lag in lags]\n",
    "\n",
    "        # Use a linear fit to estimate the Hurst Exponent\n",
    "        poly = np.polyfit(np.log10(lags), np.log10(tau), 1)\n",
    "\n",
    "        # Return the Hurst exponent from the polyfit output\n",
    "        self.h_value = poly[0] * 2.0\n",
    "\n",
    "    def use(self):\n",
    "        return (self.h_value < self.h_max) and (self.h_value > self.h_min)"
   ]
  },
  {
   "cell_type": "code",
   "execution_count": 5,
   "metadata": {},
   "outputs": [],
   "source": [
    "symbols = ['XRP', 'ALGO']\n",
    "half_life = 28\n",
    "hedge_ratio = [35.58243748, -27.26667541]\n"
   ]
  },
  {
   "cell_type": "code",
   "execution_count": 6,
   "metadata": {},
   "outputs": [
    {
     "name": "stdout",
     "output_type": "stream",
     "text": [
      "2022-07-18 09:30:17.009153 ALGO USDT 1h 2022-07-18 09:00:00                    \r"
     ]
    },
    {
     "data": {
      "text/html": [
       "<div>\n",
       "<style scoped>\n",
       "    .dataframe tbody tr th:only-of-type {\n",
       "        vertical-align: middle;\n",
       "    }\n",
       "\n",
       "    .dataframe tbody tr th {\n",
       "        vertical-align: top;\n",
       "    }\n",
       "\n",
       "    .dataframe thead th {\n",
       "        text-align: right;\n",
       "    }\n",
       "</style>\n",
       "<table border=\"1\" class=\"dataframe\">\n",
       "  <thead>\n",
       "    <tr style=\"text-align: right;\">\n",
       "      <th></th>\n",
       "      <th>XRP</th>\n",
       "      <th>ALGO</th>\n",
       "    </tr>\n",
       "  </thead>\n",
       "  <tbody>\n",
       "    <tr>\n",
       "      <th>0</th>\n",
       "      <td>-0.894040</td>\n",
       "      <td>-0.818030</td>\n",
       "    </tr>\n",
       "    <tr>\n",
       "      <th>1</th>\n",
       "      <td>-0.894285</td>\n",
       "      <td>-0.819618</td>\n",
       "    </tr>\n",
       "    <tr>\n",
       "      <th>2</th>\n",
       "      <td>-0.914792</td>\n",
       "      <td>-0.830572</td>\n",
       "    </tr>\n",
       "    <tr>\n",
       "      <th>3</th>\n",
       "      <td>-0.896488</td>\n",
       "      <td>-0.808783</td>\n",
       "    </tr>\n",
       "    <tr>\n",
       "      <th>4</th>\n",
       "      <td>-0.904362</td>\n",
       "      <td>-0.823028</td>\n",
       "    </tr>\n",
       "  </tbody>\n",
       "</table>\n",
       "</div>"
      ],
      "text/plain": [
       "        XRP      ALGO\n",
       "0 -0.894040 -0.818030\n",
       "1 -0.894285 -0.819618\n",
       "2 -0.914792 -0.830572\n",
       "3 -0.896488 -0.808783\n",
       "4 -0.904362 -0.823028"
      ]
     },
     "execution_count": 6,
     "metadata": {},
     "output_type": "execute_result"
    }
   ],
   "source": [
    "data = []\n",
    "\n",
    "for symbol in symbols:\n",
    "    df = get_candles(base=symbol, quote='USDT', start_date=datetime.now() - timedelta(days=60), interval=TIMEFRAME)\n",
    "    if df is None:\n",
    "        continue\n",
    "\n",
    "    df.rename(columns={'close': symbol}, inplace=True)\n",
    "    # the data is too long, just limit to recent period\n",
    "    log = np.log(df[symbol].astype(np.float32))\n",
    "    data.append(log)\n",
    "\n",
    "df = pd.concat(data, axis=1)\n",
    "df = df.dropna(axis=1, how='all')\n",
    "# df.dropna(inplace=True, how='any')\n",
    "\n",
    "df.head()"
   ]
  },
  {
   "cell_type": "code",
   "execution_count": 7,
   "metadata": {},
   "outputs": [],
   "source": [
    "nb_symbols = 2\n",
    "\n",
    "def calculate_spread(df):\n",
    "    spread = None\n",
    "    for i in range(nb_symbols):\n",
    "        if spread is None:\n",
    "            spread = df[symbols[i]] * hedge_ratio[i]\n",
    "        else:\n",
    "            spread += df[symbols[i]] * hedge_ratio[i]\n",
    "    \n",
    "    spread.dropna(inplace=True)\n",
    "    return spread"
   ]
  },
  {
   "cell_type": "code",
   "execution_count": 8,
   "metadata": {},
   "outputs": [],
   "source": [
    "spread = calculate_spread(df)"
   ]
  },
  {
   "cell_type": "code",
   "execution_count": 9,
   "metadata": {},
   "outputs": [
    {
     "data": {
      "text/plain": [
       "<matplotlib.legend.Legend at 0x7f3e92c44650>"
      ]
     },
     "execution_count": 9,
     "metadata": {},
     "output_type": "execute_result"
    },
    {
     "data": {
      "image/png": "[encoded data removed]",
      "text/plain": [
       "<Figure size 432x288 with 1 Axes>"
      ]
     },
     "metadata": {
      "needs_background": "light"
     },
     "output_type": "display_data"
    }
   ],
   "source": [
    "spread.plot() # Plot the spread\n",
    "plt.axhline(spread.mean(), color='red', linestyle='--') # Add the mean\n",
    "plt.xlabel('Time')\n",
    "plt.legend(['Price Spread', 'Mean'])"
   ]
  },
  {
   "cell_type": "code",
   "execution_count": 10,
   "metadata": {},
   "outputs": [
    {
     "name": "stdout",
     "output_type": "stream",
     "text": [
      "Results of Dickey-Fuller Test:\n",
      "Result: The series is  stationary\n"
     ]
    },
    {
     "data": {
      "text/plain": [
       "0.03584124294319248"
      ]
     },
     "execution_count": 10,
     "metadata": {},
     "output_type": "execute_result"
    }
   ],
   "source": [
    "adf_test(spread, verbose=True)"
   ]
  },
  {
   "cell_type": "code",
   "execution_count": 11,
   "metadata": {},
   "outputs": [
    {
     "name": "stderr",
     "output_type": "stream",
     "text": [
      "/home/bean/miniconda3/envs/trade/lib/python3.7/site-packages/ipykernel_launcher.py:23: RuntimeWarning: divide by zero encountered in log10\n"
     ]
    },
    {
     "data": {
      "text/plain": [
       "False"
      ]
     },
     "execution_count": 11,
     "metadata": {},
     "output_type": "execute_result"
    }
   ],
   "source": [
    "hurst = Hurst()\n",
    "hurst.apply_hurst(spread)\n",
    "hurst.use()"
   ]
  },
  {
   "cell_type": "code",
   "execution_count": null,
   "metadata": {},
   "outputs": [],
   "source": []
  }
 ],
 "metadata": {
  "kernelspec": {
   "display_name": "Python 3.7.11 ('trade')",
   "language": "python",
   "name": "python3"
  },
  "language_info": {
   "codemirror_mode": {
    "name": "ipython",
    "version": 3
   },
   "file_extension": ".py",
   "mimetype": "text/x-python",
   "name": "python",
   "nbconvert_exporter": "python",
   "pygments_lexer": "ipython3",
   "version": "3.7.11"
  },
  "orig_nbformat": 4,
  "vscode": {
   "interpreter": {
    "hash": "c276c0ee69ef566ef6a4194053af484cf7322cd6b46c4188dcfdf12ebbe5b30c"
   }
  }
 },
 "nbformat": 4,
 "nbformat_minor": 2
}
